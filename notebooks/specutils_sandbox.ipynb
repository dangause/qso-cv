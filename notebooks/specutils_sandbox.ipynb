{
 "cells": [
  {
   "cell_type": "code",
   "execution_count": 2,
   "metadata": {},
   "outputs": [],
   "source": [
    "import os \n",
    "import re\n",
    "import sys\n",
    "module_path = os.path.abspath(os.path.join('..'))\n",
    "if module_path not in sys.path:\n",
    "    sys.path.append(module_path)"
   ]
  },
  {
   "cell_type": "code",
   "execution_count": 3,
   "metadata": {},
   "outputs": [],
   "source": [
    "import numpy as np\n",
    "\n",
    "import pandas as pd\n",
    "from src.astroML.datasets.tools.download import download_with_progress_bar\n",
    "\n",
    "import astroquery\n",
    "from astroquery.sdss import SDSS\n",
    "from astropy.table import Table\n",
    "from astropy.io import fits\n",
    "\n",
    "import specutils\n",
    "from specutils import Spectrum1D\n",
    "\n",
    "from matplotlib import pyplot as plt\n"
   ]
  },
  {
   "cell_type": "code",
   "execution_count": 4,
   "metadata": {},
   "outputs": [],
   "source": [
    "nonbal_qso_samp_path = '../data/nonbal_qso_samp.csv'\n",
    "nonbal_qso_samp_df = pd.read_csv(nonbal_qso_samp_path, index_col=0)"
   ]
  },
  {
   "cell_type": "code",
   "execution_count": 5,
   "metadata": {},
   "outputs": [
    {
     "name": "stderr",
     "output_type": "stream",
     "text": [
      "/Users/dangause/anaconda3/envs/sdss/lib/python3.10/site-packages/astroquery/sdss/core.py:1038: FutureWarning: Calling int on a single element Series is deprecated and will raise a TypeError in the future. Use int(ser.iloc[0]) instead\n",
      "  s_fields = ['s.%s=%d' % (key, val) for (key, val) in\n",
      "/Users/dangause/anaconda3/envs/sdss/lib/python3.10/site-packages/astroquery/sdss/core.py:874: VisibleDeprecationWarning: Reading unicode strings without specifying the encoding argument is deprecated. Set the encoding, use None for the system default.\n",
      "  arr = np.atleast_1d(np.genfromtxt(io.BytesIO(response.content),\n"
     ]
    }
   ],
   "source": [
    "hdul = SDSS.get_spectra(plate = nonbal_qso_samp_df.iloc[[0]].PLATE,\n",
    "                        mjd = nonbal_qso_samp_df.iloc[[0]].MJD,\n",
    "                        fiberID = nonbal_qso_samp_df.iloc[[0]].FIBERID, \n",
    "                        data_release=16)"
   ]
  },
  {
   "cell_type": "code",
   "execution_count": 13,
   "metadata": {},
   "outputs": [
    {
     "ename": "KeyError",
     "evalue": "\"Keyword 'NAXIS1' not found.\"",
     "output_type": "error",
     "traceback": [
      "\u001b[0;31m---------------------------------------------------------------------------\u001b[0m",
      "\u001b[0;31mKeyError\u001b[0m                                  Traceback (most recent call last)",
      "Input \u001b[0;32mIn [13]\u001b[0m, in \u001b[0;36m<cell line: 3>\u001b[0;34m()\u001b[0m\n\u001b[1;32m      1\u001b[0m c0 \u001b[38;5;241m=\u001b[39m hdul[\u001b[38;5;241m0\u001b[39m][\u001b[38;5;241m0\u001b[39m]\u001b[38;5;241m.\u001b[39mheader[\u001b[38;5;124m'\u001b[39m\u001b[38;5;124mCOEFF0\u001b[39m\u001b[38;5;124m'\u001b[39m]\n\u001b[1;32m      2\u001b[0m c1 \u001b[38;5;241m=\u001b[39m hdul[\u001b[38;5;241m0\u001b[39m][\u001b[38;5;241m0\u001b[39m]\u001b[38;5;241m.\u001b[39mheader[\u001b[38;5;124m'\u001b[39m\u001b[38;5;124mCOEFF1\u001b[39m\u001b[38;5;124m'\u001b[39m]\n\u001b[0;32m----> 3\u001b[0m npix \u001b[38;5;241m=\u001b[39m \u001b[43mhdul\u001b[49m\u001b[43m[\u001b[49m\u001b[38;5;241;43m0\u001b[39;49m\u001b[43m]\u001b[49m\u001b[43m[\u001b[49m\u001b[38;5;241;43m0\u001b[39;49m\u001b[43m]\u001b[49m\u001b[38;5;241;43m.\u001b[39;49m\u001b[43mheader\u001b[49m\u001b[43m[\u001b[49m\u001b[38;5;124;43m'\u001b[39;49m\u001b[38;5;124;43mnaxis1\u001b[39;49m\u001b[38;5;124;43m'\u001b[39;49m\u001b[43m]\u001b[49m\n\u001b[1;32m      4\u001b[0m wave \u001b[38;5;241m=\u001b[39m \u001b[38;5;241m10.\u001b[39m\u001b[38;5;241m*\u001b[39m\u001b[38;5;241m*\u001b[39m(c0 \u001b[38;5;241m+\u001b[39m c1 \u001b[38;5;241m*\u001b[39m n\u001b[38;5;241m.\u001b[39marange(npix))\n",
      "File \u001b[0;32m~/anaconda3/envs/sdss/lib/python3.10/site-packages/astropy/io/fits/header.py:170\u001b[0m, in \u001b[0;36mHeader.__getitem__\u001b[0;34m(self, key)\u001b[0m\n\u001b[1;32m    167\u001b[0m \u001b[38;5;28;01melse\u001b[39;00m:\n\u001b[1;32m    168\u001b[0m     keyword \u001b[38;5;241m=\u001b[39m key\n\u001b[0;32m--> 170\u001b[0m card \u001b[38;5;241m=\u001b[39m \u001b[38;5;28mself\u001b[39m\u001b[38;5;241m.\u001b[39m_cards[\u001b[38;5;28;43mself\u001b[39;49m\u001b[38;5;241;43m.\u001b[39;49m\u001b[43m_cardindex\u001b[49m\u001b[43m(\u001b[49m\u001b[43mkey\u001b[49m\u001b[43m)\u001b[49m]\n\u001b[1;32m    172\u001b[0m \u001b[38;5;28;01mif\u001b[39;00m card\u001b[38;5;241m.\u001b[39mfield_specifier \u001b[38;5;129;01mis\u001b[39;00m \u001b[38;5;129;01mnot\u001b[39;00m \u001b[38;5;28;01mNone\u001b[39;00m \u001b[38;5;129;01mand\u001b[39;00m keyword \u001b[38;5;241m==\u001b[39m card\u001b[38;5;241m.\u001b[39mrawkeyword:\n\u001b[1;32m    173\u001b[0m     \u001b[38;5;66;03m# This is RVKC; if only the top-level keyword was specified return\u001b[39;00m\n\u001b[1;32m    174\u001b[0m     \u001b[38;5;66;03m# the raw value, not the parsed out float value\u001b[39;00m\n\u001b[1;32m    175\u001b[0m     \u001b[38;5;28;01mreturn\u001b[39;00m card\u001b[38;5;241m.\u001b[39mrawvalue\n",
      "File \u001b[0;32m~/anaconda3/envs/sdss/lib/python3.10/site-packages/astropy/io/fits/header.py:1726\u001b[0m, in \u001b[0;36mHeader._cardindex\u001b[0;34m(self, key)\u001b[0m\n\u001b[1;32m   1723\u001b[0m         indices \u001b[38;5;241m=\u001b[39m \u001b[38;5;28mself\u001b[39m\u001b[38;5;241m.\u001b[39m_rvkc_indices\u001b[38;5;241m.\u001b[39mget(keyword, \u001b[38;5;28;01mNone\u001b[39;00m)\n\u001b[1;32m   1725\u001b[0m \u001b[38;5;28;01mif\u001b[39;00m \u001b[38;5;129;01mnot\u001b[39;00m indices:\n\u001b[0;32m-> 1726\u001b[0m     \u001b[38;5;28;01mraise\u001b[39;00m \u001b[38;5;167;01mKeyError\u001b[39;00m(\u001b[38;5;124mf\u001b[39m\u001b[38;5;124m\"\u001b[39m\u001b[38;5;124mKeyword \u001b[39m\u001b[38;5;132;01m{\u001b[39;00mkeyword\u001b[38;5;132;01m!r}\u001b[39;00m\u001b[38;5;124m not found.\u001b[39m\u001b[38;5;124m\"\u001b[39m)\n\u001b[1;32m   1728\u001b[0m \u001b[38;5;28;01mtry\u001b[39;00m:\n\u001b[1;32m   1729\u001b[0m     \u001b[38;5;28;01mreturn\u001b[39;00m indices[n]\n",
      "\u001b[0;31mKeyError\u001b[0m: \"Keyword 'NAXIS1' not found.\""
     ]
    }
   ],
   "source": [
    "c0 = hdul[0][0].header['COEFF0']\n",
    "c1 = hdul[0][0].header['COEFF1']\n",
    "npix = hdul[0][0].header['naxis1']\n",
    "wave = 10.**(c0 + c1 * n.arange(npix))"
   ]
  },
  {
   "cell_type": "code",
   "execution_count": 14,
   "metadata": {},
   "outputs": [
    {
     "data": {
      "text/plain": [
       "SIMPLE  =                    T / conforms to FITS standard                      \n",
       "BITPIX  =                    8 / array data type                                \n",
       "NAXIS   =                    0 / number of array dimensions                     \n",
       "EXTEND  =                    T                                                  \n",
       "TELESCOP= 'SDSS 2.5-M'         / Sloan Digital Sky Survey                       \n",
       "FLAVOR  = 'science '           / exposure type, SDSS spectro style              \n",
       "BOSSVER = '2       '           / ICC version                                    \n",
       "MJD     =                55629 / APO fMJD day at start of exposure              \n",
       "MJDLIST = '55626 55627 55629'  /                                                \n",
       "NAME    = '4622-55624-01'      / The name of the currently loaded plate         \n",
       "PLATEID =                 4622 / The currently loaded plate                     \n",
       "TILEID  =                11799 /Cartridge used in this plugging                 \n",
       "CARTID  =                   13 /Cartridge used in this plugging                 \n",
       "MAPID   =                    1 / The mapping version of the loaded plate        \n",
       "RA      =           168.461972 / RA of telescope boresight (deg)                \n",
       "DEC     =             36.66022 / Dec of telescope boresight (deg)               \n",
       "EQUINOX =              2000.00 /                                                \n",
       "RADECSYS= 'FK5     '           /                                                \n",
       "RADEG   =             168.4617 / RA of telescope pointing(deg)                  \n",
       "DECDEG  =              36.6594 / Dec of telescope pointing (deg)                \n",
       "BOREOFFX=                  0.0 / TCC Boresight offset, deg                      \n",
       "BOREOFFY=                  0.0 / TCC Boresight offset, deg                      \n",
       "GUIDOFFY=             0.003272 / TCC GuideOff, deg                              \n",
       "PRESSURE=              21.4090 / pressure                                       \n",
       "WINDD   =              244.050 / windd                                          \n",
       "WINDS   =              11.5833 / winds                                          \n",
       "GUSTD   =                209.6 / gustd                                          \n",
       "GUSTS   =              16.7500 / gusts                                          \n",
       "AIRTEMP =              1.76667 / airTempPT                                      \n",
       "DEWPOINT=             -19.0500 / dpTempPT                                       \n",
       "DPERRPT = 'NaN     '           / failed to fetch dpErrPT                        \n",
       "HUMIDITY=              22.3500 / humidity                                       \n",
       "DUSTA   =              10708.0 / dusta                                          \n",
       "DUSTB   =              619.833 / dustb                                          \n",
       "WINDD25M=                272.0 / windd25m                                       \n",
       "WINDS25M=                  6.5 / winds25m                                       \n",
       "SLITID2 =                   13 / Normalized slithead ID. sp1&2 should match.    \n",
       "BESTEXP =               127724 /                                                \n",
       "NEXP_B1 =                    6 / b1 camera number of exposures                  \n",
       "NEXP_R1 =                    6 / r1 camera number of exposures                  \n",
       "EXPT_B1 =              5405.07 / b1 camera exposure time (seconds)              \n",
       "EXPT_R1 =              5405.07 / r1 camera exposure time (seconds)              \n",
       "EXPTIME =              5405.07 / Minimum of exposure times for all cameras      \n",
       "SPCOADD = 'Sat Mar 16 08:24:12 2019' / SPCOADD finished                         \n",
       "SHOPETIM=                 0.73 / open shutter transit time, s                   \n",
       "SHCLOTIM=   0.5600000000000001 / close shutter transit time, s                  \n",
       "VERSIDL = '7.1.1   '           / Version of IDL                                 \n",
       "VERSUTIL= 'v5_5_17 '           / Version of idlutils                            \n",
       "VERSREAD= 'v5_13_0 '           / Version of idlspec2d for pre-processing raw dat\n",
       "VERS2D  = 'v5_13_0 '           / Version of idlspec2d for 2D reduction          \n",
       "VERSCOMB= 'v5_13_0 '           / Version of idlspec2d for combining multiple spe\n",
       "VERSLOG = 'trunk 26113'        / Version of SPECLOG product                     \n",
       "VERSFLAT= 'v1_31   '           / Version of SPECFLAT product                    \n",
       "RDNOISE0=              2.12685 /CCD read noise amp 0 [electrons]                \n",
       "BADPIXEL= 'badpixels-55415-b1.fits.gz' /                                        \n",
       "RUN2D   = 'v5_13_0 '           / Spectro-2D reduction name                      \n",
       "REDDEN01=            0.0886000 / Median extinction in u-band                    \n",
       "REDDEN02=            0.0652000 / Median extinction in g-band                    \n",
       "REDDEN03=            0.0473000 / Median extinction in r-band                    \n",
       "REDDEN04=            0.0358000 / Median extinction in i-band                    \n",
       "REDDEN05=            0.0254000 / Median extinction in z-band                    \n",
       "PLUGFILE= 'plPlugMapM-4622-55624-01.par' /                                      \n",
       "HELIO_RV=        5.07419552327 / Heliocentric correction (added to velocities)  \n",
       "VACUUM  =                    T / Wavelengths are in vacuum                      \n",
       "SFLATTEN=                    T / Superflat has been applied                     \n",
       "PSFSKY  =                    3 / Order of PSF skysubtraction                    \n",
       "SKYCHI2 =        1.03647208865 / Mean chi^2 of sky-subtraction                  \n",
       "SCHI2MIN=       0.964832886871 /                                                \n",
       "SCHI2MAX=        1.11697892001 /                                                \n",
       "PREJECT =             0.200000 / Profile area rejection threshold               \n",
       "SPEC1_G =              10.9282 / (S/N)^2 for spec  1 at mag 21.20               \n",
       "SN2EXT1G=              10.9282 / Extinction corrected (S/N)^2                   \n",
       "SPEC1_R =              32.6534 / (S/N)^2 for spec  1 at mag 20.20               \n",
       "SN2EXT1R=              32.6534 / Extinction corrected (S/N)^2                   \n",
       "SPEC1_I =              27.2511 / (S/N)^2 for spec  1 at mag 20.20               \n",
       "SN2EXT1I=              27.2511 / Extinction corrected (S/N)^2                   \n",
       "SPEC2_G =              8.45969 / (S/N)^2 for spec  2 at mag 21.20               \n",
       "SN2EXT2G=              8.45969 / Extinction corrected (S/N)^2                   \n",
       "SPEC2_R =              25.4694 / (S/N)^2 for spec  2 at mag 20.20               \n",
       "SN2EXT2R=              25.4694 / Extinction corrected (S/N)^2                   \n",
       "SPEC2_I =              20.7051 / (S/N)^2 for spec  2 at mag 20.20               \n",
       "SN2EXT2I=              20.7051 / Extinction corrected (S/N)^2                   \n",
       "NSTD    =                   20 / Number of (good) std stars                     \n",
       "GOFFSTD =           -0.0105534 / Spectrophoto offset for std stars in G-band    \n",
       "GRMSSTD =            0.0741695 / Spectrophoto RMS for std stars in G-band       \n",
       "ROFFSTD =          -0.00271034 / Spectrophoto offset for std stars in R-band    \n",
       "RRMSSTD =            0.0884990 / Spectrophoto RMS for std stars in R-band       \n",
       "IOFFSTD =           0.00450897 / Spectrophoto offset for std stars in I-band    \n",
       "IRMSSTD =             0.101634 / Spectrophoto RMS for std stars in I-band       \n",
       "GROFFSTD=           0.00393200 / Spectrophoto offset for std stars in (GR)      \n",
       "GRRMSSTD=            0.0636993 / Spectrophoto RMS for std stars in (GR)         \n",
       "RIOFFSTD=          -0.00386143 / Spectrophoto offset for std stars in (RI)      \n",
       "RIRMSSTD=            0.0285698 / Spectrophoto RMS for std stars in (RI)         \n",
       "LOWREJ  =                    4 / Extraction: low rejection                      \n",
       "HIGHREJ =                    4 / Extraction: high rejection                     \n",
       "SCATPOLY=                    0 / Extraction: Order of scattered light polynomial\n",
       "PROFTYPE=                    1 / Extraction profile: 1=Gaussian                 \n",
       "NFITPOLY=                    1 / Extraction: Number of parameters in each profil\n",
       "XCHI2   =              0.00000 / Extraction: Mean chi^2                         \n",
       "NWORDER =                    2 / Linear-log10 coefficients                      \n",
       "WFITTYPE= 'LOG-LINEAR'         / Linear-log10 dispersion                        \n",
       "COEFF0  =               3.5502 / Central wavelength (log10) of first pixel      \n",
       "COEFF1  =    0.000100000000000 / Log10 dispersion per pixel                     \n",
       "FBADPIX =            0.0113402 / Fraction of bad pixels                         \n",
       "FBADPIX1=            0.0101649 / Fraction of bad pixels on spectro-1            \n",
       "FBADPIX2=            0.0125180 / Fraction of bad pixels on spectro-2            \n",
       "WAT0_001= 'system=linear'      /                                                \n",
       "WAT1_001= 'wtype=linear label=Wavelength units=Angstroms' /                     \n",
       "DC-FLAG =                    1 / Log-linear flag                                \n",
       "BUNIT   = '1E-17 erg/cm^2/s/Ang' /                                              \n",
       "PLUG_RA =    168.6617699999999 / RA of object [deg]                             \n",
       "PLUG_DEC=            36.096725 / dec of object [deg]                            \n",
       "THING_ID=            409118251 / Unique object identifier                       \n",
       "FIBERID =                  228 / Fiber number (1-1000)                          \n",
       "NEXP    =                   12 / Number of individual exposures                 \n",
       "EXPID001= 'b1-00127671-00127670-00127669'                                       \n",
       "EXPID002= 'b1-00127672-00127670-00127669'                                       \n",
       "EXPID003= 'b1-00127675-00127670-00127669'                                       \n",
       "EXPID004= 'b1-00127724-00127723-00127722'                                       \n",
       "EXPID005= 'b1-00127725-00127723-00127722'                                       \n",
       "EXPID006= 'b1-00127801-00127800-00127799'                                       \n",
       "EXPID007= 'r1-00127671-00127670-00127669'                                       \n",
       "EXPID008= 'r1-00127672-00127670-00127669'                                       \n",
       "EXPID009= 'r1-00127675-00127670-00127669'                                       \n",
       "EXPID010= 'r1-00127724-00127723-00127722'                                       \n",
       "EXPID011= 'r1-00127725-00127723-00127722'                                       \n",
       "EXPID012= 'r1-00127801-00127800-00127799'                                       "
      ]
     },
     "execution_count": 14,
     "metadata": {},
     "output_type": "execute_result"
    }
   ],
   "source": [
    "hdul[0][0].header"
   ]
  },
  {
   "cell_type": "code",
   "execution_count": null,
   "metadata": {},
   "outputs": [],
   "source": []
  },
  {
   "cell_type": "code",
   "execution_count": null,
   "metadata": {},
   "outputs": [],
   "source": []
  },
  {
   "cell_type": "code",
   "execution_count": 12,
   "metadata": {},
   "outputs": [
    {
     "name": "stderr",
     "output_type": "stream",
     "text": [
      "WARNING: UnitsWarning: '1E-17 erg/cm^2/s/Angstrom' contains multiple slashes, which is discouraged by the FITS standard [astropy.units.format.generic]\n"
     ]
    }
   ],
   "source": [
    "spec = Spectrum1D.read(hdul[0], format=\"SDSS-III/IV spec\")"
   ]
  },
  {
   "cell_type": "code",
   "execution_count": 13,
   "metadata": {},
   "outputs": [
    {
     "data": {
      "text/plain": [
       "<Spectrum1D(flux=<Quantity [ 1.3906467e+01,  4.8436441e+00, -4.2167773e+00, ...,\n",
       "            1.1841333e+00, -4.5755021e-03,  1.9057959e+00] 1e-17 erg / (Angstrom s cm2)>, spectral_axis=<SpectralAxis [ 3549.768 ,  3550.5847,  3551.4036, ..., 10322.862 , 10325.231 ,\n",
       "   10327.612 ] Angstrom>, uncertainty=InverseVariance([0.00538432, 0.        , 0.02030968, ..., 0.26759455,\n",
       "                 0.2625426 , 0.22928058]))>"
      ]
     },
     "execution_count": 13,
     "metadata": {},
     "output_type": "execute_result"
    }
   ],
   "source": [
    "spec"
   ]
  },
  {
   "cell_type": "code",
   "execution_count": 14,
   "metadata": {},
   "outputs": [
    {
     "data": {
      "text/plain": [
       "InverseVariance([0.00538432, 0.        , 0.02030968, ..., 0.26759455,\n",
       "                 0.2625426 , 0.22928058])"
      ]
     },
     "execution_count": 14,
     "metadata": {},
     "output_type": "execute_result"
    }
   ],
   "source": [
    "spec.uncertainty"
   ]
  },
  {
   "cell_type": "code",
   "execution_count": 17,
   "metadata": {},
   "outputs": [
    {
     "data": {
      "text/latex": [
       "$[3549.7681,~3550.5847,~3551.4036,~\\dots,~10322.862,~10325.231,~10327.612] \\; \\mathrm{\\mathring{A}}$"
      ],
      "text/plain": [
       "<SpectralAxis [ 3549.768 ,  3550.5847,  3551.4036, ..., 10322.862 , 10325.231 ,\n",
       "   10327.612 ] Angstrom>"
      ]
     },
     "execution_count": 17,
     "metadata": {},
     "output_type": "execute_result"
    }
   ],
   "source": [
    "spec.wavelength"
   ]
  },
  {
   "cell_type": "code",
   "execution_count": 19,
   "metadata": {},
   "outputs": [
    {
     "data": {
      "text/plain": [
       "[<matplotlib.lines.Line2D at 0x125e94910>]"
      ]
     },
     "execution_count": 19,
     "metadata": {},
     "output_type": "execute_result"
    },
    {
     "data": {
      "image/png": "[encoded data removed]",
      "text/plain": [
       "<Figure size 640x480 with 1 Axes>"
      ]
     },
     "metadata": {},
     "output_type": "display_data"
    }
   ],
   "source": [
    "f, ax = plt.subplots()  \n",
    "ax.step(spec.spectral_axis, spec.flux) "
   ]
  },
  {
   "cell_type": "code",
   "execution_count": null,
   "metadata": {},
   "outputs": [],
   "source": []
  }
 ],
 "metadata": {
  "kernelspec": {
   "display_name": "sdss",
   "language": "python",
   "name": "python3"
  },
  "language_info": {
   "codemirror_mode": {
    "name": "ipython",
    "version": 3
   },
   "file_extension": ".py",
   "mimetype": "text/x-python",
   "name": "python",
   "nbconvert_exporter": "python",
   "pygments_lexer": "ipython3",
   "version": "3.10.6"
  }
 },
 "nbformat": 4,
 "nbformat_minor": 2
}
