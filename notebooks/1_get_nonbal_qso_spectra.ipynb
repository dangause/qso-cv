{
 "cells": [
  {
   "cell_type": "code",
   "execution_count": 30,
   "metadata": {},
   "outputs": [],
   "source": [
    "import os \n",
    "import re\n",
    "import sys\n",
    "module_path = os.path.abspath(os.path.join('..'))\n",
    "if module_path not in sys.path:\n",
    "    sys.path.append(module_path)"
   ]
  },
  {
   "cell_type": "code",
   "execution_count": 31,
   "metadata": {},
   "outputs": [],
   "source": [
    "import numpy as np\n",
    "\n",
    "import pandas as pd\n",
    "from src.astroML.datasets.tools.download import download_with_progress_bar\n",
    "\n",
    "import astroquery\n",
    "from astroquery.sdss import SDSS\n",
    "from astropy.table import Table\n",
    "from astropy.io import fits"
   ]
  },
  {
   "cell_type": "code",
   "execution_count": 32,
   "metadata": {},
   "outputs": [],
   "source": [
    "nonbal_qso_samp_path = '../data/nonbal_qso_samp.csv'\n",
    "nonbal_qso_samp_df = pd.read_csv(nonbal_qso_samp_path, index_col=0)"
   ]
  },
  {
   "cell_type": "code",
   "execution_count": 33,
   "metadata": {},
   "outputs": [
    {
     "data": {
      "text/html": [
       "<div>\n",
       "<style scoped>\n",
       "    .dataframe tbody tr th:only-of-type {\n",
       "        vertical-align: middle;\n",
       "    }\n",
       "\n",
       "    .dataframe tbody tr th {\n",
       "        vertical-align: top;\n",
       "    }\n",
       "\n",
       "    .dataframe thead th {\n",
       "        text-align: right;\n",
       "    }\n",
       "</style>\n",
       "<table border=\"1\" class=\"dataframe\">\n",
       "  <thead>\n",
       "    <tr style=\"text-align: right;\">\n",
       "      <th></th>\n",
       "      <th>SDSS_NAME</th>\n",
       "      <th>RA</th>\n",
       "      <th>DEC</th>\n",
       "      <th>PLATE</th>\n",
       "      <th>MJD</th>\n",
       "      <th>FIBERID</th>\n",
       "      <th>AUTOCLASS_PQN</th>\n",
       "      <th>Z</th>\n",
       "      <th>BAL_PROB</th>\n",
       "      <th>BI_CIV</th>\n",
       "      <th>AI_CIV</th>\n",
       "    </tr>\n",
       "  </thead>\n",
       "  <tbody>\n",
       "    <tr>\n",
       "      <th>0</th>\n",
       "      <td>111438.82+360548.1</td>\n",
       "      <td>168.661785</td>\n",
       "      <td>36.09672</td>\n",
       "      <td>4622</td>\n",
       "      <td>55629</td>\n",
       "      <td>228</td>\n",
       "      <td>QSO</td>\n",
       "      <td>2.468</td>\n",
       "      <td>0.0</td>\n",
       "      <td>0.0</td>\n",
       "      <td>0.0</td>\n",
       "    </tr>\n",
       "  </tbody>\n",
       "</table>\n",
       "</div>"
      ],
      "text/plain": [
       "            SDSS_NAME          RA       DEC  PLATE    MJD  FIBERID  \\\n",
       "0  111438.82+360548.1  168.661785  36.09672   4622  55629      228   \n",
       "\n",
       "  AUTOCLASS_PQN      Z  BAL_PROB  BI_CIV  AI_CIV  \n",
       "0           QSO  2.468       0.0     0.0     0.0  "
      ]
     },
     "execution_count": 33,
     "metadata": {},
     "output_type": "execute_result"
    }
   ],
   "source": [
    "nonbal_qso_samp_df.iloc[[0]]"
   ]
  },
  {
   "cell_type": "code",
   "execution_count": 34,
   "metadata": {},
   "outputs": [],
   "source": [
    "# hdul = SDSS.get_spectra(plate = nonbal_qso_samp_df.iloc[[0]].PLATE,\n",
    "#                 mjd = nonbal_qso_samp_df.iloc[[0]].MJD,\n",
    "#                 fiberID = nonbal_qso_samp_df.iloc[[0]].FIBERID,\n",
    "#                 data_release=16)[0]"
   ]
  },
  {
   "cell_type": "code",
   "execution_count": 35,
   "metadata": {},
   "outputs": [],
   "source": [
    "# hdul[0].header"
   ]
  },
  {
   "cell_type": "code",
   "execution_count": 36,
   "metadata": {},
   "outputs": [],
   "source": [
    "# hdul[0].header['COEFF0']"
   ]
  },
  {
   "cell_type": "code",
   "execution_count": 37,
   "metadata": {},
   "outputs": [],
   "source": [
    "# hdul['SPZLINE'].data"
   ]
  },
  {
   "cell_type": "code",
   "execution_count": 38,
   "metadata": {},
   "outputs": [],
   "source": [
    "# hdul['SPALL'].data"
   ]
  },
  {
   "cell_type": "code",
   "execution_count": 39,
   "metadata": {},
   "outputs": [],
   "source": [
    "# np.array(hdul['SPZLINE'].data['LINENAME'])"
   ]
  },
  {
   "cell_type": "code",
   "execution_count": 40,
   "metadata": {},
   "outputs": [],
   "source": [
    "# hdul['SPZLINE'].header"
   ]
  },
  {
   "cell_type": "code",
   "execution_count": 41,
   "metadata": {},
   "outputs": [],
   "source": [
    "# download_url = 'https://data.sdss.org/sas/dr16/eboss/spectro/redux/v5_13_0/spectra/full/6255/spec-6255-56240-0001.fits'\n",
    "\n",
    "\n",
    "\n",
    "# buffer = download_with_progress_bar(download_url, return_buffer=True)"
   ]
  },
  {
   "cell_type": "code",
   "execution_count": null,
   "metadata": {},
   "outputs": [],
   "source": []
  },
  {
   "cell_type": "code",
   "execution_count": null,
   "metadata": {},
   "outputs": [],
   "source": []
  },
  {
   "cell_type": "code",
   "execution_count": 81,
   "metadata": {},
   "outputs": [],
   "source": [
    "import sys\n",
    "from urllib.error import HTTPError\n",
    "import numpy as np\n",
    "# from astroML.datasets import fetch_sdss_spectrum\n",
    "from astroML.datasets.tools import query_plate_mjd_fiber, TARGET_GALAXY\n",
    "# from astroML.dimensionality import iterative_pca\n",
    "\n",
    "from src.astroML.datasets.tools.sdss_fits import SDSSfits, sdss_fits_filename, sdss_fits_url\n",
    "from src.astroML.dimensionality.iterative_pca import iterative_pca"
   ]
  },
  {
   "cell_type": "code",
   "execution_count": 43,
   "metadata": {},
   "outputs": [],
   "source": [
    "plate = nonbal_qso_samp_df.iloc[[0]].PLATE.values[0]\n",
    "mjd = nonbal_qso_samp_df.iloc[[0]].MJD.values[0]\n",
    "fiberID = nonbal_qso_samp_df.iloc[[0]].FIBERID.values[0]"
   ]
  },
  {
   "cell_type": "code",
   "execution_count": 44,
   "metadata": {},
   "outputs": [
    {
     "name": "stdout",
     "output_type": "stream",
     "text": [
      "4622 55629 228\n"
     ]
    }
   ],
   "source": [
    "print(plate, mjd, fiberID)"
   ]
  },
  {
   "cell_type": "code",
   "execution_count": 45,
   "metadata": {},
   "outputs": [],
   "source": [
    "from src.astroML.datasets.tools.sdss_fits import sdss_fits_url"
   ]
  },
  {
   "cell_type": "code",
   "execution_count": 46,
   "metadata": {},
   "outputs": [
    {
     "data": {
      "text/plain": [
       "'https://data.sdss.org/sas/dr16/eboss/spectro/redux/v5_13_0/spectra/lite/4622/spec-4622-55629-0228.fits'"
      ]
     },
     "execution_count": 46,
     "metadata": {},
     "output_type": "execute_result"
    }
   ],
   "source": [
    "sdss_fits_url(plate, mjd, fiberID)"
   ]
  },
  {
   "cell_type": "code",
   "execution_count": 47,
   "metadata": {},
   "outputs": [],
   "source": [
    "from src.astroML.datasets.sdss_spectrum import fetch_sdss_spectrum"
   ]
  },
  {
   "cell_type": "code",
   "execution_count": 48,
   "metadata": {},
   "outputs": [],
   "source": [
    "from src.astroML.datasets.tools.utils import get_data_home"
   ]
  },
  {
   "cell_type": "code",
   "execution_count": 49,
   "metadata": {},
   "outputs": [
    {
     "data": {
      "text/plain": [
       "'/Users/dangause/Desktop/personal_projects/qso_cv/data/astroML_data'"
      ]
     },
     "execution_count": 49,
     "metadata": {},
     "output_type": "execute_result"
    }
   ],
   "source": [
    "get_data_home()"
   ]
  },
  {
   "cell_type": "code",
   "execution_count": 50,
   "metadata": {},
   "outputs": [],
   "source": [
    "hdul = fits.open('../data/astroML_data/SDSSspec/4622/spec-4622-55629-0228.fits')"
   ]
  },
  {
   "cell_type": "code",
   "execution_count": 51,
   "metadata": {},
   "outputs": [
    {
     "data": {
      "text/plain": [
       "FITS_rec([( 1.3906467e+01, 3.5502, 0.00538432, 0, 71303168, 1.221097 , 16.745302 , 1.0590584 ),\n",
       "          ( 4.8436441e+00, 3.5503, 0.        , 0, 71303168, 1.2058588, 17.773693 , 1.0709941 ),\n",
       "          (-4.2167773e+00, 3.5504, 0.02030968, 0, 71303168, 1.205564 , 18.66139  , 1.0663811 ),\n",
       "          ...,\n",
       "          ( 1.1841333e+00, 4.0138, 0.26759455, 0,   589824, 0.8665373,  5.9967246, 0.34624752),\n",
       "          (-4.5755021e-03, 4.0139, 0.2625426 , 0,        0, 0.8689509,  9.184602 , 0.34400997),\n",
       "          ( 1.9057959e+00, 4.014 , 0.22928058, 0, 33554432, 0.86918  , 12.828738 , 0.3517967 )],\n",
       "         dtype=(numpy.record, [('FLUX', '>f4'), ('LOGLAM', '>f4'), ('IVAR', '>f4'), ('AND_MASK', '>i4'), ('OR_MASK', '>i4'), ('WDISP', '>f4'), ('SKY', '>f4'), ('MODEL', '>f4')]))"
      ]
     },
     "execution_count": 51,
     "metadata": {},
     "output_type": "execute_result"
    }
   ],
   "source": [
    "hdul[1].data"
   ]
  },
  {
   "cell_type": "code",
   "execution_count": 52,
   "metadata": {},
   "outputs": [
    {
     "name": "stdout",
     "output_type": "stream",
     "text": [
      "/Users/dangause/Desktop/personal_projects/qso_cv/data/astroML_data/SDSSspec/4622/spec-4622-55629-0228.fits\n",
      "/Users/dangause/Desktop/personal_projects/qso_cv/data/astroML_data/SDSSspec/4622/spec-4622-55629-0228.fits\n"
     ]
    },
    {
     "name": "stderr",
     "output_type": "stream",
     "text": [
      "/Users/dangause/Desktop/personal_projects/qso_cv/src/astroML/datasets/tools/sdss_fits.py:112: RuntimeWarning: divide by zero encountered in divide\n",
      "  self.error = np.sqrt(np.abs(1/data['ivar']))\n"
     ]
    }
   ],
   "source": [
    "spec = fetch_sdss_spectrum(plate=nonbal_qso_samp_df.iloc[[0]].PLATE.values[0],\n",
    "                           mjd=nonbal_qso_samp_df.iloc[[0]].MJD.values[0],\n",
    "                           fiber=nonbal_qso_samp_df.iloc[[0]].FIBERID.values[0],\n",
    "                           z=nonbal_qso_samp_df.iloc[[0]].Z.values[0],\n",
    "                           sdss_class=nonbal_qso_samp_df.iloc[[0]].AUTOCLASS_PQN.values[0])\n",
    "\n",
    "\n"
   ]
  },
  {
   "cell_type": "code",
   "execution_count": 53,
   "metadata": {},
   "outputs": [
    {
     "data": {
      "text/plain": [
       "2.468"
      ]
     },
     "execution_count": 53,
     "metadata": {},
     "output_type": "execute_result"
    }
   ],
   "source": [
    "spec.z"
   ]
  },
  {
   "cell_type": "code",
   "execution_count": 54,
   "metadata": {},
   "outputs": [
    {
     "data": {
      "text/html": [
       "<div>\n",
       "<style scoped>\n",
       "    .dataframe tbody tr th:only-of-type {\n",
       "        vertical-align: middle;\n",
       "    }\n",
       "\n",
       "    .dataframe tbody tr th {\n",
       "        vertical-align: top;\n",
       "    }\n",
       "\n",
       "    .dataframe thead th {\n",
       "        text-align: right;\n",
       "    }\n",
       "</style>\n",
       "<table border=\"1\" class=\"dataframe\">\n",
       "  <thead>\n",
       "    <tr style=\"text-align: right;\">\n",
       "      <th></th>\n",
       "      <th>SDSS_NAME</th>\n",
       "      <th>RA</th>\n",
       "      <th>DEC</th>\n",
       "      <th>PLATE</th>\n",
       "      <th>MJD</th>\n",
       "      <th>FIBERID</th>\n",
       "      <th>AUTOCLASS_PQN</th>\n",
       "      <th>Z</th>\n",
       "      <th>BAL_PROB</th>\n",
       "      <th>BI_CIV</th>\n",
       "      <th>AI_CIV</th>\n",
       "    </tr>\n",
       "  </thead>\n",
       "  <tbody>\n",
       "    <tr>\n",
       "      <th>0</th>\n",
       "      <td>111438.82+360548.1</td>\n",
       "      <td>168.661785</td>\n",
       "      <td>36.096720</td>\n",
       "      <td>4622</td>\n",
       "      <td>55629</td>\n",
       "      <td>228</td>\n",
       "      <td>QSO</td>\n",
       "      <td>2.468000</td>\n",
       "      <td>0.0</td>\n",
       "      <td>0.0</td>\n",
       "      <td>0.0</td>\n",
       "    </tr>\n",
       "    <tr>\n",
       "      <th>1</th>\n",
       "      <td>152538.86+100329.5</td>\n",
       "      <td>231.411935</td>\n",
       "      <td>10.058197</td>\n",
       "      <td>5493</td>\n",
       "      <td>56009</td>\n",
       "      <td>344</td>\n",
       "      <td>QSO</td>\n",
       "      <td>2.241000</td>\n",
       "      <td>0.0</td>\n",
       "      <td>0.0</td>\n",
       "      <td>0.0</td>\n",
       "    </tr>\n",
       "    <tr>\n",
       "      <th>2</th>\n",
       "      <td>012017.97+214854.4</td>\n",
       "      <td>20.074892</td>\n",
       "      <td>21.815122</td>\n",
       "      <td>5134</td>\n",
       "      <td>55868</td>\n",
       "      <td>866</td>\n",
       "      <td>QSO</td>\n",
       "      <td>2.774000</td>\n",
       "      <td>0.0</td>\n",
       "      <td>0.0</td>\n",
       "      <td>0.0</td>\n",
       "    </tr>\n",
       "    <tr>\n",
       "      <th>3</th>\n",
       "      <td>232436.84+175513.8</td>\n",
       "      <td>351.153518</td>\n",
       "      <td>17.920526</td>\n",
       "      <td>6131</td>\n",
       "      <td>56211</td>\n",
       "      <td>476</td>\n",
       "      <td>QSO</td>\n",
       "      <td>2.275000</td>\n",
       "      <td>0.0</td>\n",
       "      <td>0.0</td>\n",
       "      <td>0.0</td>\n",
       "    </tr>\n",
       "    <tr>\n",
       "      <th>4</th>\n",
       "      <td>103619.33+105232.4</td>\n",
       "      <td>159.080553</td>\n",
       "      <td>10.875686</td>\n",
       "      <td>5346</td>\n",
       "      <td>55955</td>\n",
       "      <td>784</td>\n",
       "      <td>QSO</td>\n",
       "      <td>3.092000</td>\n",
       "      <td>0.0</td>\n",
       "      <td>0.0</td>\n",
       "      <td>0.0</td>\n",
       "    </tr>\n",
       "    <tr>\n",
       "      <th>...</th>\n",
       "      <td>...</td>\n",
       "      <td>...</td>\n",
       "      <td>...</td>\n",
       "      <td>...</td>\n",
       "      <td>...</td>\n",
       "      <td>...</td>\n",
       "      <td>...</td>\n",
       "      <td>...</td>\n",
       "      <td>...</td>\n",
       "      <td>...</td>\n",
       "      <td>...</td>\n",
       "    </tr>\n",
       "    <tr>\n",
       "      <th>7995</th>\n",
       "      <td>112048.90+143625.4</td>\n",
       "      <td>170.203752</td>\n",
       "      <td>14.607079</td>\n",
       "      <td>5367</td>\n",
       "      <td>55986</td>\n",
       "      <td>248</td>\n",
       "      <td>QSO</td>\n",
       "      <td>2.699000</td>\n",
       "      <td>0.0</td>\n",
       "      <td>0.0</td>\n",
       "      <td>0.0</td>\n",
       "    </tr>\n",
       "    <tr>\n",
       "      <th>7996</th>\n",
       "      <td>222607.53+230246.5</td>\n",
       "      <td>336.531390</td>\n",
       "      <td>23.046273</td>\n",
       "      <td>7583</td>\n",
       "      <td>56958</td>\n",
       "      <td>988</td>\n",
       "      <td>QSO</td>\n",
       "      <td>1.712627</td>\n",
       "      <td>0.0</td>\n",
       "      <td>0.0</td>\n",
       "      <td>0.0</td>\n",
       "    </tr>\n",
       "    <tr>\n",
       "      <th>7997</th>\n",
       "      <td>013012.41+302637.8</td>\n",
       "      <td>22.551726</td>\n",
       "      <td>30.443851</td>\n",
       "      <td>7730</td>\n",
       "      <td>58107</td>\n",
       "      <td>644</td>\n",
       "      <td>QSO</td>\n",
       "      <td>1.747934</td>\n",
       "      <td>0.0</td>\n",
       "      <td>0.0</td>\n",
       "      <td>0.0</td>\n",
       "    </tr>\n",
       "    <tr>\n",
       "      <th>7998</th>\n",
       "      <td>105849.70+001040.4</td>\n",
       "      <td>164.707087</td>\n",
       "      <td>0.177899</td>\n",
       "      <td>3836</td>\n",
       "      <td>55302</td>\n",
       "      <td>653</td>\n",
       "      <td>QSO</td>\n",
       "      <td>2.539000</td>\n",
       "      <td>0.0</td>\n",
       "      <td>0.0</td>\n",
       "      <td>0.0</td>\n",
       "    </tr>\n",
       "    <tr>\n",
       "      <th>7999</th>\n",
       "      <td>123327.14+110202.0</td>\n",
       "      <td>188.363105</td>\n",
       "      <td>11.033907</td>\n",
       "      <td>5403</td>\n",
       "      <td>55979</td>\n",
       "      <td>168</td>\n",
       "      <td>QSO</td>\n",
       "      <td>2.967000</td>\n",
       "      <td>0.0</td>\n",
       "      <td>0.0</td>\n",
       "      <td>0.0</td>\n",
       "    </tr>\n",
       "  </tbody>\n",
       "</table>\n",
       "<p>8000 rows × 11 columns</p>\n",
       "</div>"
      ],
      "text/plain": [
       "               SDSS_NAME          RA        DEC  PLATE    MJD  FIBERID  \\\n",
       "0     111438.82+360548.1  168.661785  36.096720   4622  55629      228   \n",
       "1     152538.86+100329.5  231.411935  10.058197   5493  56009      344   \n",
       "2     012017.97+214854.4   20.074892  21.815122   5134  55868      866   \n",
       "3     232436.84+175513.8  351.153518  17.920526   6131  56211      476   \n",
       "4     103619.33+105232.4  159.080553  10.875686   5346  55955      784   \n",
       "...                  ...         ...        ...    ...    ...      ...   \n",
       "7995  112048.90+143625.4  170.203752  14.607079   5367  55986      248   \n",
       "7996  222607.53+230246.5  336.531390  23.046273   7583  56958      988   \n",
       "7997  013012.41+302637.8   22.551726  30.443851   7730  58107      644   \n",
       "7998  105849.70+001040.4  164.707087   0.177899   3836  55302      653   \n",
       "7999  123327.14+110202.0  188.363105  11.033907   5403  55979      168   \n",
       "\n",
       "     AUTOCLASS_PQN         Z  BAL_PROB  BI_CIV  AI_CIV  \n",
       "0              QSO  2.468000       0.0     0.0     0.0  \n",
       "1              QSO  2.241000       0.0     0.0     0.0  \n",
       "2              QSO  2.774000       0.0     0.0     0.0  \n",
       "3              QSO  2.275000       0.0     0.0     0.0  \n",
       "4              QSO  3.092000       0.0     0.0     0.0  \n",
       "...            ...       ...       ...     ...     ...  \n",
       "7995           QSO  2.699000       0.0     0.0     0.0  \n",
       "7996           QSO  1.712627       0.0     0.0     0.0  \n",
       "7997           QSO  1.747934       0.0     0.0     0.0  \n",
       "7998           QSO  2.539000       0.0     0.0     0.0  \n",
       "7999           QSO  2.967000       0.0     0.0     0.0  \n",
       "\n",
       "[8000 rows x 11 columns]"
      ]
     },
     "execution_count": 54,
     "metadata": {},
     "output_type": "execute_result"
    }
   ],
   "source": [
    "nonbal_qso_samp_df"
   ]
  },
  {
   "cell_type": "code",
   "execution_count": null,
   "metadata": {},
   "outputs": [],
   "source": []
  },
  {
   "cell_type": "code",
   "execution_count": null,
   "metadata": {},
   "outputs": [],
   "source": []
  },
  {
   "cell_type": "code",
   "execution_count": null,
   "metadata": {},
   "outputs": [],
   "source": []
  },
  {
   "cell_type": "code",
   "execution_count": null,
   "metadata": {},
   "outputs": [],
   "source": []
  },
  {
   "cell_type": "code",
   "execution_count": null,
   "metadata": {},
   "outputs": [],
   "source": []
  },
  {
   "cell_type": "code",
   "execution_count": 56,
   "metadata": {},
   "outputs": [],
   "source": [
    "\n",
    "# df = nonbal_qso_samp_df.iloc[0:2].reset_index(drop=True)\n",
    "\n",
    "# loglam_start=3.5\n",
    "# loglam_end=3.9\n",
    "# Nlam=1000\n",
    "# n_spectra=len(df)\n",
    "\n",
    "# plate = df.PLATE\n",
    "# mjd = df.MJD\n",
    "# fiber = df.FIBERID\n",
    "# z = df.Z\n",
    "# sdss_class = df.AUTOCLASS_PQN\n",
    "\n",
    "# # Set up arrays to hold information gathered from the spectra\n",
    "# spec_cln = np.zeros(n_spectra, dtype=np.int32)\n",
    "# lineindex_cln = np.zeros(n_spectra, dtype=np.int32)\n",
    "\n",
    "# log_NII_Ha = np.zeros(n_spectra, dtype=np.float32)\n",
    "# log_OIII_Hb = np.zeros(n_spectra, dtype=np.float32)\n",
    "\n",
    "# z = np.zeros(n_spectra, dtype=np.float32)\n",
    "# zerr = np.zeros(n_spectra, dtype=np.float32)\n",
    "# spectra = np.zeros((n_spectra, Nlam), dtype=np.float32)\n",
    "# mask = np.zeros((n_spectra, Nlam), dtype=bool)\n",
    "\n",
    "# # Calculate new wavelength coefficients\n",
    "# new_coeff0 = loglam_start\n",
    "# new_coeff1 = (loglam_end - loglam_start) / Nlam\n",
    "\n",
    "# # Now download all the needed spectra, and resample to a common\n",
    "# #  wavelength bin.\n",
    "# # n_spectra = len(plate)\n",
    "# num_skipped = 0\n",
    "# i = 0\n",
    "\n",
    "# while i < n_spectra:\n",
    "#     sys.stdout.write(' %i / %i spectra\\r' % (i + 1, n_spectra))\n",
    "#     sys.stdout.flush()\n",
    "#     try:\n",
    "#         spec = fetch_sdss_spectrum(plate[i], mjd[i], fiber[i], z[i], sdss_class[i])\n",
    "#     except HTTPError:\n",
    "#         num_skipped += 1\n",
    "#         print(\"%i, %i, %i not found\" % (plate[i], mjd[i], fiber[i]))\n",
    "#         i += 1\n",
    "#         continue\n",
    "\n",
    "#     spec_rebin = spec.restframe().rebin(new_coeff0, new_coeff1, Nlam)\n",
    "\n",
    "#     if np.all(spec_rebin.spectrum == 0):\n",
    "#         num_skipped += 1\n",
    "#         print(\"%i, %i, %i is all zero\" % (plate[i], mjd[i], fiber[i], ))\n",
    "#         i += 1\n",
    "#         continue\n",
    "\n",
    "#     z[i] = spec.z\n",
    "\n",
    "#     spectra[i] = spec_rebin.spectrum\n",
    "#     mask[i] = spec_rebin.compute_mask(0.5, 5)\n",
    "\n",
    "#     i += 1\n",
    "# sys.stdout.write('\\n')\n",
    "\n",
    "# N = i\n",
    "# print(\"   %i spectra skipped\" % num_skipped)\n",
    "# print(\"   %i spectra processed\" % N)\n",
    "# print(\"saving to %s\" % outfile)\n",
    "\n",
    "# np.savez(outfile,\n",
    "#             spectra=spectra[:N],\n",
    "#             mask=mask[:N],\n",
    "#             coeff0=new_coeff0,\n",
    "#             coeff1=new_coeff1,\n",
    "#             spec_cln=spec_cln[:N],\n",
    "#             lineindex_cln=lineindex_cln[:N],\n",
    "#             log_NII_Ha=log_NII_Ha[:N],\n",
    "#             log_OIII_Hb=log_OIII_Hb[:N],\n",
    "#             z=z[:N],\n",
    "#             zerr=zerr[:N])"
   ]
  },
  {
   "cell_type": "code",
   "execution_count": 99,
   "metadata": {},
   "outputs": [],
   "source": [
    "import sys\n",
    "from urllib.error import HTTPError\n",
    "import numpy as np\n",
    "# from astroML.datasets import fetch_sdss_spectrum\n",
    "from astroML.datasets.tools import query_plate_mjd_fiber, TARGET_GALAXY\n",
    "# from astroML.dimensionality import iterative_pca\n",
    "\n",
    "\n",
    "def fetch_and_shift_spectra(df,\n",
    "                            outfile,\n",
    "                            loglam_start=3.5,\n",
    "                            loglam_end=3.9,\n",
    "                            Nlam=1000):\n",
    "    \"\"\"\n",
    "    This function queries CAS for matching spectra, and then downloads\n",
    "    them and shifts them to a common redshift binning\n",
    "    \"\"\"\n",
    "\n",
    "    loglam_start=loglam_start\n",
    "    loglam_end=loglam_end\n",
    "    Nlam=Nlam\n",
    "    n_spectra=len(df)\n",
    "\n",
    "    plate = df.PLATE\n",
    "    mjd = df.MJD\n",
    "    fiber = df.FIBERID\n",
    "    z = df.Z\n",
    "    sdss_class = df.AUTOCLASS_PQN\n",
    "\n",
    "    z = np.zeros(n_spectra, dtype=np.float32)\n",
    "    # zerr = np.zeros(n_spectra, dtype=np.float32)\n",
    "    spectra = np.zeros((n_spectra, Nlam), dtype=np.float32)\n",
    "    mask = np.zeros((n_spectra, Nlam), dtype=bool)\n",
    "\n",
    "    # Calculate new wavelength coefficients\n",
    "    new_coeff0 = loglam_start\n",
    "    new_coeff1 = (loglam_end - loglam_start) / Nlam\n",
    "\n",
    "    # Now download all the needed spectra, and resample to a common\n",
    "    #  wavelength bin.\n",
    "    # n_spectra = len(plate)\n",
    "    num_skipped = 0\n",
    "    i = 0\n",
    "\n",
    "    while i < n_spectra:\n",
    "        sys.stdout.write(' %i / %i spectra\\r' % (i + 1, n_spectra))\n",
    "        sys.stdout.flush()\n",
    "        try:\n",
    "            spec = fetch_sdss_spectrum(plate[i], mjd[i], fiber[i], z[i], sdss_class[i])\n",
    "        except HTTPError:\n",
    "            num_skipped += 1\n",
    "            print(\"%i, %i, %i not found\" % (plate[i], mjd[i], fiber[i]))\n",
    "            i += 1\n",
    "            continue\n",
    "\n",
    "        spec_rebin = spec.restframe().rebin(new_coeff0, new_coeff1, Nlam)\n",
    "\n",
    "        if np.all(spec_rebin.spectrum == 0):\n",
    "            num_skipped += 1\n",
    "            print(\"%i, %i, %i is all zero\" % (plate[i], mjd[i], fiber[i], ))\n",
    "            i += 1\n",
    "            continue\n",
    "\n",
    "        z[i] = spec.z\n",
    "\n",
    "        spectra[i] = spec_rebin.spectrum\n",
    "        mask[i] = spec_rebin.compute_mask(0.5, 5)\n",
    "\n",
    "        i += 1\n",
    "    sys.stdout.write('\\n')\n",
    "\n",
    "    N = i\n",
    "    print(\"   %i spectra skipped\" % num_skipped)\n",
    "    print(\"   %i spectra processed\" % N)\n",
    "    print(\"saving to %s\" % outfile)\n",
    "\n",
    "    np.savez(outfile,\n",
    "                spectra=spectra[:N],\n",
    "                mask=mask[:N],\n",
    "                coeff0=new_coeff0,\n",
    "                coeff1=new_coeff1,\n",
    "                # spec_cln=spec_cln[:N],\n",
    "                # lineindex_cln=lineindex_cln[:N],\n",
    "                # log_NII_Ha=log_NII_Ha[:N],\n",
    "                # log_OIII_Hb=log_OIII_Hb[:N],\n",
    "                z=z[:N],\n",
    "                # zerr=zerr[:N]\n",
    "                )\n",
    "\n"
   ]
  },
  {
   "cell_type": "code",
   "execution_count": 100,
   "metadata": {},
   "outputs": [
    {
     "name": "stdout",
     "output_type": "stream",
     "text": [
      " 1 / 10 spectra\r"
     ]
    },
    {
     "name": "stdout",
     "output_type": "stream",
     "text": [
      "/Users/dangause/Desktop/personal_projects/qso_cv/data/astroML_data/SDSSspec/4622/spec-4622-55629-0228.fits\n",
      "/Users/dangause/Desktop/personal_projects/qso_cv/data/astroML_data/SDSSspec/4622/spec-4622-55629-0228.fits\n"
     ]
    },
    {
     "name": "stderr",
     "output_type": "stream",
     "text": [
      "/Users/dangause/Desktop/personal_projects/qso_cv/src/astroML/datasets/tools/sdss_fits.py:112: RuntimeWarning: divide by zero encountered in divide\n",
      "  self.error = np.sqrt(np.abs(1/data['ivar']))\n"
     ]
    },
    {
     "name": "stdout",
     "output_type": "stream",
     "text": [
      "/Users/dangause/Desktop/personal_projects/qso_cv/data/astroML_data/SDSSspec/5493/spec-5493-56009-0344.fits\n",
      "/Users/dangause/Desktop/personal_projects/qso_cv/data/astroML_data/SDSSspec/5493/spec-5493-56009-0344.fits\n",
      "/Users/dangause/Desktop/personal_projects/qso_cv/data/astroML_data/SDSSspec/5134/spec-5134-55868-0866.fits\n",
      "/Users/dangause/Desktop/personal_projects/qso_cv/data/astroML_data/SDSSspec/5134/spec-5134-55868-0866.fits\n",
      "/Users/dangause/Desktop/personal_projects/qso_cv/data/astroML_data/SDSSspec/6131/spec-6131-56211-0476.fits\n",
      "/Users/dangause/Desktop/personal_projects/qso_cv/data/astroML_data/SDSSspec/6131/spec-6131-56211-0476.fits\n",
      "/Users/dangause/Desktop/personal_projects/qso_cv/data/astroML_data/SDSSspec/5346/spec-5346-55955-0784.fits\n",
      "/Users/dangause/Desktop/personal_projects/qso_cv/data/astroML_data/SDSSspec/5346/spec-5346-55955-0784.fits\n",
      "/Users/dangause/Desktop/personal_projects/qso_cv/data/astroML_data/SDSSspec/7850/spec-7850-56956-0216.fits\n",
      "/Users/dangause/Desktop/personal_projects/qso_cv/data/astroML_data/SDSSspec/7850/spec-7850-56956-0216.fits\n",
      "/Users/dangause/Desktop/personal_projects/qso_cv/data/astroML_data/SDSSspec/5986/spec-5986-56328-0606.fits\n",
      "/Users/dangause/Desktop/personal_projects/qso_cv/data/astroML_data/SDSSspec/5986/spec-5986-56328-0606.fits\n",
      "/Users/dangause/Desktop/personal_projects/qso_cv/data/astroML_data/SDSSspec/4280/spec-4280-55503-0586.fits\n",
      "/Users/dangause/Desktop/personal_projects/qso_cv/data/astroML_data/SDSSspec/4280/spec-4280-55503-0586.fits\n",
      "/Users/dangause/Desktop/personal_projects/qso_cv/data/astroML_data/SDSSspec/9356/spec-9356-57809-0896.fits\n",
      "/Users/dangause/Desktop/personal_projects/qso_cv/data/astroML_data/SDSSspec/9356/spec-9356-57809-0896.fits\n",
      "/Users/dangause/Desktop/personal_projects/qso_cv/data/astroML_data/SDSSspec/5466/spec-5466-56033-0208.fits\n",
      "/Users/dangause/Desktop/personal_projects/qso_cv/data/astroML_data/SDSSspec/5466/spec-5466-56033-0208.fits\n",
      "\n",
      "   0 spectra skipped\n",
      "   10 spectra processed\n",
      "saving to ../data/astroML_data/pre_pca.npz\n"
     ]
    }
   ],
   "source": [
    "test_df = nonbal_qso_samp_df.iloc[0:10]\n",
    "\n",
    "\n",
    "outfile_path = '../data/astroML_data/pre_pca.npz'\n",
    "\n",
    "fetch_and_shift_spectra(test_df, outfile_path)"
   ]
  },
  {
   "cell_type": "code",
   "execution_count": 101,
   "metadata": {},
   "outputs": [],
   "source": [
    "def spec_iterative_pca(outfile, n_ev=10, n_iter=20, norm='L2'):\n",
    "    \"\"\"\n",
    "    This function takes the file outputted above, performs an iterative\n",
    "    PCA to fill in the gaps, and appends the results to the same file.\n",
    "    \"\"\"\n",
    "    data_in = np.load(outfile)\n",
    "    spectra = data_in['spectra']\n",
    "    mask = data_in['mask']\n",
    "    mask = np.full((mask.shape[0], mask.shape[1]), False)\n",
    "\n",
    "    res = iterative_pca(spectra, mask,\n",
    "                        n_ev=n_ev, n_iter=n_iter, norm=norm,\n",
    "                        full_output=True)\n",
    "\n",
    "    input_dict = {key: data_in[key] for key in data_in.files}\n",
    "\n",
    "    # don't save the reconstructed spectrum: this can easily\n",
    "    # be recomputed from the other parameters.\n",
    "    input_dict['mu'] = res[1]\n",
    "    input_dict['evecs'] = res[2]\n",
    "    input_dict['evals'] = res[3]\n",
    "    input_dict['norms'] = res[4]\n",
    "    input_dict['coeffs'] = res[5]\n",
    "\n",
    "    np.savez(outfile, **input_dict)"
   ]
  },
  {
   "cell_type": "code",
   "execution_count": 102,
   "metadata": {},
   "outputs": [
    {
     "name": "stdout",
     "output_type": "stream",
     "text": [
      " PCA iteration 20 / 20\n"
     ]
    },
    {
     "name": "stderr",
     "output_type": "stream",
     "text": [
      "/Users/dangause/Desktop/personal_projects/qso_cv/src/astroML/dimensionality/iterative_pca.py:136: RuntimeWarning: invalid value encountered in divide\n",
      "  ratio_i = X[i][notM[i]] / X_recons[i][notM[i]]\n"
     ]
    }
   ],
   "source": [
    "spec_iterative_pca(outfile_path)"
   ]
  },
  {
   "cell_type": "code",
   "execution_count": 103,
   "metadata": {},
   "outputs": [],
   "source": [
    "data_in = np.load(outfile_path)\n"
   ]
  },
  {
   "cell_type": "code",
   "execution_count": 104,
   "metadata": {},
   "outputs": [
    {
     "data": {
      "text/plain": [
       "KeysView(NpzFile '../data/astroML_data/pre_pca.npz' with keys: spectra, mask, coeff0, coeff1, z...)"
      ]
     },
     "execution_count": 104,
     "metadata": {},
     "output_type": "execute_result"
    }
   ],
   "source": [
    "data_in.keys()"
   ]
  },
  {
   "cell_type": "code",
   "execution_count": 105,
   "metadata": {},
   "outputs": [],
   "source": [
    "from astroML.datasets import sdss_corrected_spectra "
   ]
  },
  {
   "cell_type": "code",
   "execution_count": 106,
   "metadata": {},
   "outputs": [],
   "source": [
    "# data = sdss_corrected_spectra.fetch_sdss_corrected_spectra(data_home='../data/astroML_data/pre_pca.npz', download_if_missing=False)\n",
    "data = np.load(outfile_path)"
   ]
  },
  {
   "cell_type": "code",
   "execution_count": 107,
   "metadata": {},
   "outputs": [],
   "source": [
    "data = np.load(outfile_path)\n",
    "\n",
    "spectra = sdss_corrected_spectra.reconstruct_spectra(data)\n",
    "lam = sdss_corrected_spectra.compute_wavelengths(data)"
   ]
  },
  {
   "cell_type": "code",
   "execution_count": 108,
   "metadata": {},
   "outputs": [],
   "source": [
    "from matplotlib import pyplot as plt"
   ]
  },
  {
   "cell_type": "code",
   "execution_count": 109,
   "metadata": {},
   "outputs": [
    {
     "data": {
      "image/png": "[encoded data removed]",
      "text/plain": [
       "<Figure size 800x800 with 5 Axes>"
      ]
     },
     "metadata": {},
     "output_type": "display_data"
    }
   ],
   "source": [
    "# Plot several spectra\n",
    "fig = plt.figure(figsize=(8, 8))\n",
    "\n",
    "fig.subplots_adjust(hspace=0)\n",
    "\n",
    "for i in range(5):\n",
    "    ax = fig.add_subplot(511 + i)\n",
    "    ax.plot(lam, spectra[i], '-k')\n",
    "\n",
    "    if i < 4:\n",
    "        ax.xaxis.set_major_formatter(plt.NullFormatter())\n",
    "    else:\n",
    "        ax.set_xlabel(r'wavelength $(\\AA)$')\n",
    "\n",
    "    ax.yaxis.set_major_formatter(plt.NullFormatter())\n",
    "    ax.set_ylabel('flux')\n",
    "\n",
    "plt.show()"
   ]
  },
  {
   "cell_type": "code",
   "execution_count": null,
   "metadata": {},
   "outputs": [],
   "source": []
  },
  {
   "cell_type": "code",
   "execution_count": 112,
   "metadata": {},
   "outputs": [
    {
     "name": "stdout",
     "output_type": "stream",
     "text": [
      "/Users/dangause/Desktop/personal_projects/qso_cv/data/astroML_data/SDSSspec/4622/spec-4622-55629-0228.fits\n",
      "/Users/dangause/Desktop/personal_projects/qso_cv/data/astroML_data/SDSSspec/4622/spec-4622-55629-0228.fits\n",
      "/Users/dangause/Desktop/personal_projects/qso_cv/data/astroML_data/SDSSspec/5493/spec-5493-56009-0344.fits\n",
      "/Users/dangause/Desktop/personal_projects/qso_cv/data/astroML_data/SDSSspec/5493/spec-5493-56009-0344.fits\n",
      "/Users/dangause/Desktop/personal_projects/qso_cv/data/astroML_data/SDSSspec/5134/spec-5134-55868-0866.fits\n",
      "/Users/dangause/Desktop/personal_projects/qso_cv/data/astroML_data/SDSSspec/5134/spec-5134-55868-0866.fits\n",
      "/Users/dangause/Desktop/personal_projects/qso_cv/data/astroML_data/SDSSspec/6131/spec-6131-56211-0476.fits\n",
      "/Users/dangause/Desktop/personal_projects/qso_cv/data/astroML_data/SDSSspec/6131/spec-6131-56211-0476.fits\n",
      "/Users/dangause/Desktop/personal_projects/qso_cv/data/astroML_data/SDSSspec/5346/spec-5346-55955-0784.fits\n",
      "/Users/dangause/Desktop/personal_projects/qso_cv/data/astroML_data/SDSSspec/5346/spec-5346-55955-0784.fits\n",
      "/Users/dangause/Desktop/personal_projects/qso_cv/data/astroML_data/SDSSspec/7850/spec-7850-56956-0216.fits\n",
      "/Users/dangause/Desktop/personal_projects/qso_cv/data/astroML_data/SDSSspec/7850/spec-7850-56956-0216.fits\n",
      "/Users/dangause/Desktop/personal_projects/qso_cv/data/astroML_data/SDSSspec/5986/spec-5986-56328-0606.fits\n",
      "/Users/dangause/Desktop/personal_projects/qso_cv/data/astroML_data/SDSSspec/5986/spec-5986-56328-0606.fits\n",
      "/Users/dangause/Desktop/personal_projects/qso_cv/data/astroML_data/SDSSspec/4280/spec-4280-55503-0586.fits\n",
      "/Users/dangause/Desktop/personal_projects/qso_cv/data/astroML_data/SDSSspec/4280/spec-4280-55503-0586.fits\n",
      "/Users/dangause/Desktop/personal_projects/qso_cv/data/astroML_data/SDSSspec/9356/spec-9356-57809-0896.fits\n",
      "/Users/dangause/Desktop/personal_projects/qso_cv/data/astroML_data/SDSSspec/9356/spec-9356-57809-0896.fits\n",
      "/Users/dangause/Desktop/personal_projects/qso_cv/data/astroML_data/SDSSspec/5466/spec-5466-56033-0208.fits\n",
      "/Users/dangause/Desktop/personal_projects/qso_cv/data/astroML_data/SDSSspec/5466/spec-5466-56033-0208.fits\n",
      "/Users/dangause/Desktop/personal_projects/qso_cv/data/astroML_data/SDSSspec/4660/spec-4660-56191-0212.fits\n",
      "/Users/dangause/Desktop/personal_projects/qso_cv/data/astroML_data/SDSSspec/4660/spec-4660-56191-0212.fits\n",
      "/Users/dangause/Desktop/personal_projects/qso_cv/data/astroML_data/SDSSspec/6727/spec-6727-56369-0336.fits\n",
      "/Users/dangause/Desktop/personal_projects/qso_cv/data/astroML_data/SDSSspec/6727/spec-6727-56369-0336.fits\n",
      "/Users/dangause/Desktop/personal_projects/qso_cv/data/astroML_data/SDSSspec/7287/spec-7287-57042-0334.fits\n",
      "/Users/dangause/Desktop/personal_projects/qso_cv/data/astroML_data/SDSSspec/7287/spec-7287-57042-0334.fits\n",
      "/Users/dangause/Desktop/personal_projects/qso_cv/data/astroML_data/SDSSspec/6828/spec-6828-56430-0146.fits\n",
      "/Users/dangause/Desktop/personal_projects/qso_cv/data/astroML_data/SDSSspec/6828/spec-6828-56430-0146.fits\n",
      "/Users/dangause/Desktop/personal_projects/qso_cv/data/astroML_data/SDSSspec/11124/spec-11124-58430-0430.fits\n",
      "/Users/dangause/Desktop/personal_projects/qso_cv/data/astroML_data/SDSSspec/11124/spec-11124-58430-0430.fits\n",
      "/Users/dangause/Desktop/personal_projects/qso_cv/data/astroML_data/SDSSspec/8499/spec-8499-57431-0216.fits\n",
      "/Users/dangause/Desktop/personal_projects/qso_cv/data/astroML_data/SDSSspec/8499/spec-8499-57431-0216.fits\n",
      "/Users/dangause/Desktop/personal_projects/qso_cv/data/astroML_data/SDSSspec/6300/spec-6300-56449-0982.fits\n",
      "/Users/dangause/Desktop/personal_projects/qso_cv/data/astroML_data/SDSSspec/6300/spec-6300-56449-0982.fits\n",
      "/Users/dangause/Desktop/personal_projects/qso_cv/data/astroML_data/SDSSspec/5349/spec-5349-55929-0402.fits\n",
      "/Users/dangause/Desktop/personal_projects/qso_cv/data/astroML_data/SDSSspec/5349/spec-5349-55929-0402.fits\n",
      "/Users/dangause/Desktop/personal_projects/qso_cv/data/astroML_data/SDSSspec/4865/spec-4865-55713-0426.fits\n",
      "/Users/dangause/Desktop/personal_projects/qso_cv/data/astroML_data/SDSSspec/4865/spec-4865-55713-0426.fits\n",
      "/Users/dangause/Desktop/personal_projects/qso_cv/data/astroML_data/SDSSspec/6416/spec-6416-56312-0612.fits\n",
      "/Users/dangause/Desktop/personal_projects/qso_cv/data/astroML_data/SDSSspec/6416/spec-6416-56312-0612.fits\n",
      "\n",
      "   0 spectra skipped\n",
      "   20 spectra processed\n",
      "saving to ../data/astroML_data/pre_pca.npz\n",
      " PCA iteration 20 / 20\n"
     ]
    }
   ],
   "source": [
    "test_df = nonbal_qso_samp_df.iloc[0:20]\n",
    "\n",
    "\n",
    "outfile_path = '../data/astroML_data/pre_pca.npz'\n",
    "\n",
    "fetch_and_shift_spectra(test_df, outfile_path, loglam_start=3.55, loglam_end=3.9)\n",
    "\n",
    "spec_iterative_pca(outfile_path)\n",
    "\n",
    "data = np.load(outfile_path)\n",
    "\n",
    "spectra = sdss_corrected_spectra.reconstruct_spectra(data)\n",
    "lam = sdss_corrected_spectra.compute_wavelengths(data)"
   ]
  },
  {
   "cell_type": "code",
   "execution_count": 113,
   "metadata": {},
   "outputs": [
    {
     "data": {
      "image/png": "[encoded data removed]",
      "text/plain": [
       "<Figure size 800x800 with 5 Axes>"
      ]
     },
     "metadata": {},
     "output_type": "display_data"
    }
   ],
   "source": [
    "# Plot several spectra\n",
    "fig = plt.figure(figsize=(8, 8))\n",
    "\n",
    "fig.subplots_adjust(hspace=0)\n",
    "\n",
    "for i in range(5):\n",
    "    ax = fig.add_subplot(511 + i)\n",
    "    ax.plot(lam, spectra[i], '-k')\n",
    "\n",
    "    if i < 4:\n",
    "        ax.xaxis.set_major_formatter(plt.NullFormatter())\n",
    "    else:\n",
    "        ax.set_xlabel(r'wavelength $(\\AA)$')\n",
    "\n",
    "    ax.yaxis.set_major_formatter(plt.NullFormatter())\n",
    "    ax.set_ylabel('flux')\n",
    "\n",
    "plt.show()"
   ]
  },
  {
   "cell_type": "code",
   "execution_count": null,
   "metadata": {},
   "outputs": [],
   "source": []
  }
 ],
 "metadata": {
  "kernelspec": {
   "display_name": "sdss",
   "language": "python",
   "name": "python3"
  },
  "language_info": {
   "codemirror_mode": {
    "name": "ipython",
    "version": 3
   },
   "file_extension": ".py",
   "mimetype": "text/x-python",
   "name": "python",
   "nbconvert_exporter": "python",
   "pygments_lexer": "ipython3",
   "version": "3.10.6"
  }
 },
 "nbformat": 4,
 "nbformat_minor": 2
}
