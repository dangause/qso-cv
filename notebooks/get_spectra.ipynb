{
 "cells": [
  {
   "cell_type": "code",
   "execution_count": 1,
   "metadata": {},
   "outputs": [],
   "source": [
    "import os \n",
    "import re\n",
    "import sys\n",
    "module_path = os.path.abspath(os.path.join('..'))\n",
    "if module_path not in sys.path:\n",
    "    sys.path.append(module_path)"
   ]
  },
  {
   "cell_type": "code",
   "execution_count": 2,
   "metadata": {},
   "outputs": [],
   "source": [
    "import numpy as np\n",
    "\n",
    "import pandas as pd\n",
    "from matplotlib import pyplot as plt\n",
    "\n",
    "import astroquery\n",
    "from astroquery.sdss import SDSS\n",
    "import astropy\n",
    "from astropy.table import Table\n",
    "from astropy.io import fits\n",
    "from astropy import units as u\n",
    "\n",
    "from specutils import Spectrum1D\n",
    "\n",
    "\n",
    "import sys\n",
    "from urllib.error import HTTPError\n",
    "\n",
    "from src.model.dimensionality.iterative_pca import iterative_pca\n",
    "from src.wrangle.sdss.qso_spectra import QsoSpectraDataset\n"
   ]
  },
  {
   "cell_type": "code",
   "execution_count": 3,
   "metadata": {},
   "outputs": [],
   "source": [
    "nonbal_qso_samp_path = '../data/nonbal_qso_samp.csv'\n",
    "nonbal_qso_samp_df = pd.read_csv(nonbal_qso_samp_path, index_col=0)\n",
    "test_samp_df = nonbal_qso_samp_df.iloc[0:20]"
   ]
  },
  {
   "cell_type": "code",
   "execution_count": 4,
   "metadata": {},
   "outputs": [],
   "source": [
    "qso_spectra = QsoSpectraDataset()"
   ]
  },
  {
   "cell_type": "code",
   "execution_count": 5,
   "metadata": {},
   "outputs": [
    {
     "name": "stdout",
     "output_type": "stream",
     "text": [
      "/Users/dangause/Desktop/personal_projects/qso_cv/data/SDSS/DR16/4622/spec-4622-55629-0228.fits\n",
      "/Users/dangause/Desktop/personal_projects/qso_cv/data/SDSS/DR16/4622/spec-4622-55629-0228.fits\n",
      "Processing spectrum 0\n",
      "/Users/dangause/Desktop/personal_projects/qso_cv/data/SDSS/DR16/5493/spec-5493-56009-0344.fits\n",
      "/Users/dangause/Desktop/personal_projects/qso_cv/data/SDSS/DR16/5493/spec-5493-56009-0344.fits\n",
      "Processing spectrum 1\n",
      "Resampling axis\n"
     ]
    },
    {
     "name": "stderr",
     "output_type": "stream",
     "text": [
      "WARNING: UnitsWarning: '1E-17 erg/cm^2/s/Angstrom' contains multiple slashes, which is discouraged by the FITS standard [astropy.units.format.generic]\n",
      "WARNING: UnitsWarning: '1E-17 erg/cm^2/s/Angstrom' contains multiple slashes, which is discouraged by the FITS standard [astropy.units.format.generic]\n",
      "/Users/dangause/anaconda3/envs/sdss/lib/python3.10/site-packages/astropy/nddata/nduncertainty.py:1223: RuntimeWarning: divide by zero encountered in divide\n",
      "  new_array = None if self.array is None else 1 / self.array\n"
     ]
    },
    {
     "name": "stdout",
     "output_type": "stream",
     "text": [
      "/Users/dangause/Desktop/personal_projects/qso_cv/data/SDSS/DR16/5134/spec-5134-55868-0866.fits\n",
      "/Users/dangause/Desktop/personal_projects/qso_cv/data/SDSS/DR16/5134/spec-5134-55868-0866.fits\n",
      "Processing spectrum 2\n",
      "Resampling axis\n"
     ]
    },
    {
     "name": "stderr",
     "output_type": "stream",
     "text": [
      "WARNING: UnitsWarning: '1E-17 erg/cm^2/s/Angstrom' contains multiple slashes, which is discouraged by the FITS standard [astropy.units.format.generic]\n",
      "/Users/dangause/anaconda3/envs/sdss/lib/python3.10/site-packages/astropy/nddata/nduncertainty.py:1223: RuntimeWarning: divide by zero encountered in divide\n",
      "  new_array = None if self.array is None else 1 / self.array\n"
     ]
    },
    {
     "name": "stdout",
     "output_type": "stream",
     "text": [
      "/Users/dangause/Desktop/personal_projects/qso_cv/data/SDSS/DR16/6131/spec-6131-56211-0476.fits\n",
      "/Users/dangause/Desktop/personal_projects/qso_cv/data/SDSS/DR16/6131/spec-6131-56211-0476.fits\n",
      "Processing spectrum 3\n",
      "Resampling axis\n"
     ]
    },
    {
     "name": "stderr",
     "output_type": "stream",
     "text": [
      "WARNING: UnitsWarning: '1E-17 erg/cm^2/s/Angstrom' contains multiple slashes, which is discouraged by the FITS standard [astropy.units.format.generic]\n",
      "/Users/dangause/anaconda3/envs/sdss/lib/python3.10/site-packages/astropy/nddata/nduncertainty.py:1223: RuntimeWarning: divide by zero encountered in divide\n",
      "  new_array = None if self.array is None else 1 / self.array\n"
     ]
    },
    {
     "name": "stdout",
     "output_type": "stream",
     "text": [
      "/Users/dangause/Desktop/personal_projects/qso_cv/data/SDSS/DR16/5346/spec-5346-55955-0784.fits\n",
      "/Users/dangause/Desktop/personal_projects/qso_cv/data/SDSS/DR16/5346/spec-5346-55955-0784.fits\n",
      "Processing spectrum 4\n",
      "Resampling axis\n"
     ]
    },
    {
     "name": "stderr",
     "output_type": "stream",
     "text": [
      "WARNING: UnitsWarning: '1E-17 erg/cm^2/s/Angstrom' contains multiple slashes, which is discouraged by the FITS standard [astropy.units.format.generic]\n",
      "/Users/dangause/anaconda3/envs/sdss/lib/python3.10/site-packages/astropy/nddata/nduncertainty.py:1223: RuntimeWarning: divide by zero encountered in divide\n",
      "  new_array = None if self.array is None else 1 / self.array\n"
     ]
    },
    {
     "name": "stdout",
     "output_type": "stream",
     "text": [
      "/Users/dangause/Desktop/personal_projects/qso_cv/data/SDSS/DR16/7850/spec-7850-56956-0216.fits\n",
      "/Users/dangause/Desktop/personal_projects/qso_cv/data/SDSS/DR16/7850/spec-7850-56956-0216.fits\n",
      "Processing spectrum 5\n",
      "Resampling axis\n"
     ]
    },
    {
     "name": "stderr",
     "output_type": "stream",
     "text": [
      "WARNING: UnitsWarning: '1E-17 erg/cm^2/s/Angstrom' contains multiple slashes, which is discouraged by the FITS standard [astropy.units.format.generic]\n",
      "/Users/dangause/anaconda3/envs/sdss/lib/python3.10/site-packages/astropy/nddata/nduncertainty.py:1223: RuntimeWarning: divide by zero encountered in divide\n",
      "  new_array = None if self.array is None else 1 / self.array\n"
     ]
    },
    {
     "name": "stdout",
     "output_type": "stream",
     "text": [
      "/Users/dangause/Desktop/personal_projects/qso_cv/data/SDSS/DR16/5986/spec-5986-56328-0606.fits\n",
      "/Users/dangause/Desktop/personal_projects/qso_cv/data/SDSS/DR16/5986/spec-5986-56328-0606.fits\n",
      "Processing spectrum 6\n",
      "Resampling axis\n"
     ]
    },
    {
     "name": "stderr",
     "output_type": "stream",
     "text": [
      "WARNING: UnitsWarning: '1E-17 erg/cm^2/s/Angstrom' contains multiple slashes, which is discouraged by the FITS standard [astropy.units.format.generic]\n",
      "/Users/dangause/anaconda3/envs/sdss/lib/python3.10/site-packages/astropy/nddata/nduncertainty.py:1223: RuntimeWarning: divide by zero encountered in divide\n",
      "  new_array = None if self.array is None else 1 / self.array\n"
     ]
    },
    {
     "name": "stdout",
     "output_type": "stream",
     "text": [
      "/Users/dangause/Desktop/personal_projects/qso_cv/data/SDSS/DR16/4280/spec-4280-55503-0586.fits\n",
      "/Users/dangause/Desktop/personal_projects/qso_cv/data/SDSS/DR16/4280/spec-4280-55503-0586.fits\n",
      "Processing spectrum 7\n",
      "Resampling axis\n"
     ]
    },
    {
     "name": "stderr",
     "output_type": "stream",
     "text": [
      "WARNING: UnitsWarning: '1E-17 erg/cm^2/s/Angstrom' contains multiple slashes, which is discouraged by the FITS standard [astropy.units.format.generic]\n",
      "/Users/dangause/anaconda3/envs/sdss/lib/python3.10/site-packages/astropy/nddata/nduncertainty.py:1223: RuntimeWarning: divide by zero encountered in divide\n",
      "  new_array = None if self.array is None else 1 / self.array\n"
     ]
    },
    {
     "name": "stdout",
     "output_type": "stream",
     "text": [
      "/Users/dangause/Desktop/personal_projects/qso_cv/data/SDSS/DR16/9356/spec-9356-57809-0896.fits\n",
      "/Users/dangause/Desktop/personal_projects/qso_cv/data/SDSS/DR16/9356/spec-9356-57809-0896.fits\n",
      "Processing spectrum 8\n",
      "Resampling axis\n"
     ]
    },
    {
     "name": "stderr",
     "output_type": "stream",
     "text": [
      "WARNING: UnitsWarning: '1E-17 erg/cm^2/s/Angstrom' contains multiple slashes, which is discouraged by the FITS standard [astropy.units.format.generic]\n"
     ]
    },
    {
     "name": "stdout",
     "output_type": "stream",
     "text": [
      "/Users/dangause/Desktop/personal_projects/qso_cv/data/SDSS/DR16/5466/spec-5466-56033-0208.fits\n",
      "/Users/dangause/Desktop/personal_projects/qso_cv/data/SDSS/DR16/5466/spec-5466-56033-0208.fits\n",
      "Processing spectrum 9\n",
      "Resampling axis\n"
     ]
    },
    {
     "name": "stderr",
     "output_type": "stream",
     "text": [
      "WARNING: UnitsWarning: '1E-17 erg/cm^2/s/Angstrom' contains multiple slashes, which is discouraged by the FITS standard [astropy.units.format.generic]\n",
      "/Users/dangause/anaconda3/envs/sdss/lib/python3.10/site-packages/astropy/nddata/nduncertainty.py:1223: RuntimeWarning: divide by zero encountered in divide\n",
      "  new_array = None if self.array is None else 1 / self.array\n"
     ]
    },
    {
     "name": "stdout",
     "output_type": "stream",
     "text": [
      "/Users/dangause/Desktop/personal_projects/qso_cv/data/SDSS/DR16/4660/spec-4660-56191-0212.fits\n",
      "/Users/dangause/Desktop/personal_projects/qso_cv/data/SDSS/DR16/4660/spec-4660-56191-0212.fits\n",
      "Processing spectrum 10\n",
      "Resampling axis\n"
     ]
    },
    {
     "name": "stderr",
     "output_type": "stream",
     "text": [
      "WARNING: UnitsWarning: '1E-17 erg/cm^2/s/Angstrom' contains multiple slashes, which is discouraged by the FITS standard [astropy.units.format.generic]\n",
      "/Users/dangause/anaconda3/envs/sdss/lib/python3.10/site-packages/astropy/nddata/nduncertainty.py:1223: RuntimeWarning: divide by zero encountered in divide\n",
      "  new_array = None if self.array is None else 1 / self.array\n"
     ]
    },
    {
     "name": "stdout",
     "output_type": "stream",
     "text": [
      "/Users/dangause/Desktop/personal_projects/qso_cv/data/SDSS/DR16/6727/spec-6727-56369-0336.fits\n",
      "/Users/dangause/Desktop/personal_projects/qso_cv/data/SDSS/DR16/6727/spec-6727-56369-0336.fits\n",
      "Processing spectrum 11\n",
      "Resampling axis\n"
     ]
    },
    {
     "name": "stderr",
     "output_type": "stream",
     "text": [
      "WARNING: UnitsWarning: '1E-17 erg/cm^2/s/Angstrom' contains multiple slashes, which is discouraged by the FITS standard [astropy.units.format.generic]\n",
      "/Users/dangause/anaconda3/envs/sdss/lib/python3.10/site-packages/astropy/nddata/nduncertainty.py:1223: RuntimeWarning: divide by zero encountered in divide\n",
      "  new_array = None if self.array is None else 1 / self.array\n"
     ]
    },
    {
     "name": "stdout",
     "output_type": "stream",
     "text": [
      "/Users/dangause/Desktop/personal_projects/qso_cv/data/SDSS/DR16/7287/spec-7287-57042-0334.fits\n",
      "/Users/dangause/Desktop/personal_projects/qso_cv/data/SDSS/DR16/7287/spec-7287-57042-0334.fits\n",
      "Processing spectrum 12\n",
      "Resampling axis\n"
     ]
    },
    {
     "name": "stderr",
     "output_type": "stream",
     "text": [
      "WARNING: UnitsWarning: '1E-17 erg/cm^2/s/Angstrom' contains multiple slashes, which is discouraged by the FITS standard [astropy.units.format.generic]\n",
      "/Users/dangause/anaconda3/envs/sdss/lib/python3.10/site-packages/astropy/nddata/nduncertainty.py:1223: RuntimeWarning: divide by zero encountered in divide\n",
      "  new_array = None if self.array is None else 1 / self.array\n"
     ]
    },
    {
     "name": "stdout",
     "output_type": "stream",
     "text": [
      "/Users/dangause/Desktop/personal_projects/qso_cv/data/SDSS/DR16/6828/spec-6828-56430-0146.fits\n",
      "/Users/dangause/Desktop/personal_projects/qso_cv/data/SDSS/DR16/6828/spec-6828-56430-0146.fits\n",
      "Processing spectrum 13\n",
      "Resampling axis\n"
     ]
    },
    {
     "name": "stderr",
     "output_type": "stream",
     "text": [
      "WARNING: UnitsWarning: '1E-17 erg/cm^2/s/Angstrom' contains multiple slashes, which is discouraged by the FITS standard [astropy.units.format.generic]\n",
      "/Users/dangause/anaconda3/envs/sdss/lib/python3.10/site-packages/astropy/nddata/nduncertainty.py:1223: RuntimeWarning: divide by zero encountered in divide\n",
      "  new_array = None if self.array is None else 1 / self.array\n"
     ]
    },
    {
     "name": "stdout",
     "output_type": "stream",
     "text": [
      "/Users/dangause/Desktop/personal_projects/qso_cv/data/SDSS/DR16/11124/spec-11124-58430-0430.fits\n",
      "/Users/dangause/Desktop/personal_projects/qso_cv/data/SDSS/DR16/11124/spec-11124-58430-0430.fits\n",
      "Processing spectrum 14\n",
      "Resampling axis\n"
     ]
    },
    {
     "name": "stderr",
     "output_type": "stream",
     "text": [
      "WARNING: UnitsWarning: '1E-17 erg/cm^2/s/Angstrom' contains multiple slashes, which is discouraged by the FITS standard [astropy.units.format.generic]\n",
      "/Users/dangause/anaconda3/envs/sdss/lib/python3.10/site-packages/astropy/nddata/nduncertainty.py:1223: RuntimeWarning: divide by zero encountered in divide\n",
      "  new_array = None if self.array is None else 1 / self.array\n"
     ]
    },
    {
     "name": "stdout",
     "output_type": "stream",
     "text": [
      "/Users/dangause/Desktop/personal_projects/qso_cv/data/SDSS/DR16/8499/spec-8499-57431-0216.fits\n",
      "/Users/dangause/Desktop/personal_projects/qso_cv/data/SDSS/DR16/8499/spec-8499-57431-0216.fits\n",
      "Processing spectrum 15\n",
      "Resampling axis\n"
     ]
    },
    {
     "name": "stderr",
     "output_type": "stream",
     "text": [
      "WARNING: UnitsWarning: '1E-17 erg/cm^2/s/Angstrom' contains multiple slashes, which is discouraged by the FITS standard [astropy.units.format.generic]\n",
      "/Users/dangause/anaconda3/envs/sdss/lib/python3.10/site-packages/astropy/nddata/nduncertainty.py:1223: RuntimeWarning: divide by zero encountered in divide\n",
      "  new_array = None if self.array is None else 1 / self.array\n"
     ]
    },
    {
     "name": "stdout",
     "output_type": "stream",
     "text": [
      "/Users/dangause/Desktop/personal_projects/qso_cv/data/SDSS/DR16/6300/spec-6300-56449-0982.fits\n",
      "/Users/dangause/Desktop/personal_projects/qso_cv/data/SDSS/DR16/6300/spec-6300-56449-0982.fits\n",
      "Processing spectrum 16\n",
      "Resampling axis\n"
     ]
    },
    {
     "name": "stderr",
     "output_type": "stream",
     "text": [
      "WARNING: UnitsWarning: '1E-17 erg/cm^2/s/Angstrom' contains multiple slashes, which is discouraged by the FITS standard [astropy.units.format.generic]\n",
      "/Users/dangause/anaconda3/envs/sdss/lib/python3.10/site-packages/astropy/nddata/nduncertainty.py:1223: RuntimeWarning: divide by zero encountered in divide\n",
      "  new_array = None if self.array is None else 1 / self.array\n"
     ]
    },
    {
     "name": "stdout",
     "output_type": "stream",
     "text": [
      "/Users/dangause/Desktop/personal_projects/qso_cv/data/SDSS/DR16/5349/spec-5349-55929-0402.fits\n",
      "/Users/dangause/Desktop/personal_projects/qso_cv/data/SDSS/DR16/5349/spec-5349-55929-0402.fits\n",
      "Processing spectrum 17\n",
      "Resampling axis\n"
     ]
    },
    {
     "name": "stderr",
     "output_type": "stream",
     "text": [
      "WARNING: UnitsWarning: '1E-17 erg/cm^2/s/Angstrom' contains multiple slashes, which is discouraged by the FITS standard [astropy.units.format.generic]\n",
      "/Users/dangause/anaconda3/envs/sdss/lib/python3.10/site-packages/astropy/nddata/nduncertainty.py:1223: RuntimeWarning: divide by zero encountered in divide\n",
      "  new_array = None if self.array is None else 1 / self.array\n"
     ]
    },
    {
     "name": "stdout",
     "output_type": "stream",
     "text": [
      "/Users/dangause/Desktop/personal_projects/qso_cv/data/SDSS/DR16/4865/spec-4865-55713-0426.fits\n",
      "/Users/dangause/Desktop/personal_projects/qso_cv/data/SDSS/DR16/4865/spec-4865-55713-0426.fits\n",
      "Processing spectrum 18\n",
      "Resampling axis\n"
     ]
    },
    {
     "name": "stderr",
     "output_type": "stream",
     "text": [
      "WARNING: UnitsWarning: '1E-17 erg/cm^2/s/Angstrom' contains multiple slashes, which is discouraged by the FITS standard [astropy.units.format.generic]\n",
      "/Users/dangause/anaconda3/envs/sdss/lib/python3.10/site-packages/astropy/nddata/nduncertainty.py:1223: RuntimeWarning: divide by zero encountered in divide\n",
      "  new_array = None if self.array is None else 1 / self.array\n"
     ]
    },
    {
     "name": "stdout",
     "output_type": "stream",
     "text": [
      "/Users/dangause/Desktop/personal_projects/qso_cv/data/SDSS/DR16/6416/spec-6416-56312-0612.fits\n",
      "/Users/dangause/Desktop/personal_projects/qso_cv/data/SDSS/DR16/6416/spec-6416-56312-0612.fits\n",
      "Processing spectrum 19\n",
      "Resampling axis\n"
     ]
    },
    {
     "name": "stderr",
     "output_type": "stream",
     "text": [
      "WARNING: UnitsWarning: '1E-17 erg/cm^2/s/Angstrom' contains multiple slashes, which is discouraged by the FITS standard [astropy.units.format.generic]\n",
      "/Users/dangause/anaconda3/envs/sdss/lib/python3.10/site-packages/astropy/nddata/nduncertainty.py:1223: RuntimeWarning: divide by zero encountered in divide\n",
      "  new_array = None if self.array is None else 1 / self.array\n"
     ]
    }
   ],
   "source": [
    "spec_l = qso_spectra.get_shifted_and_rebinned_spec_l(test_samp_df, spec_range=[1100, 3000], cut_head_tail=True)"
   ]
  },
  {
   "cell_type": "code",
   "execution_count": 6,
   "metadata": {},
   "outputs": [
    {
     "data": {
      "text/plain": [
       "[<Spectrum1D(flux=<Quantity [ 0.30275857, -0.03632579, -0.56006545, ...,  0.7914743 ,\n",
       "             1.1841333 , -0.0045755 ] 1e-17 erg / (Angstrom s cm2)>, spectral_axis=<SpectralAxis \n",
       "    (observer to target:\n",
       "       radial_velocity=0.0 km / s\n",
       "       redshift=0.0)\n",
       "   [1100.3247, 1100.5785, 1100.8317, ..., 2975.9177, 2976.604 , 2977.287 ] Angstrom>, uncertainty=InverseVariance([1.0512002 , 1.0212119 , 1.1484793 , ..., 0.29808018,\n",
       "                  0.26759455, 0.2625426 ]))>,\n",
       " <Spectrum1D(flux=<Quantity [10.02209238,  5.68697248,  4.22890299, ...,  2.84291465,\n",
       "             2.66815424,  3.03115806] 1e-17 erg / (Angstrom s cm2)>, spectral_axis=<SpectralAxis [1100.3247, 1100.5785, 1100.8317, ..., 2975.9177, 2976.604 , 2977.287 ] Angstrom>, uncertainty=InverseVariance([0.13114607, 0.16158117, 0.14280428, ..., 9.82335468,\n",
       "                  9.88295677, 9.22577316]))>,\n",
       " <Spectrum1D(flux=<Quantity [4.75984551, 5.37322473, 4.38239555, ...,        nan,        nan,\n",
       "                   nan] 1e-17 erg / (Angstrom s cm2)>, spectral_axis=<SpectralAxis [1100.3247, 1100.5785, 1100.8317, ..., 2975.9177, 2976.604 , 2977.287 ] Angstrom>, uncertainty=InverseVariance([2.41605144, 2.04378202, 2.58688578, ...,        nan,\n",
       "                         nan,        nan]))>,\n",
       " <Spectrum1D(flux=<Quantity [4.04419537, 2.61334876, 2.24393487, ..., 0.25546311, 1.27896501,\n",
       "            1.32638222] 1e-17 erg / (Angstrom s cm2)>, spectral_axis=<SpectralAxis [1100.3247, 1100.5785, 1100.8317, ..., 2975.9177, 2976.604 , 2977.287 ] Angstrom>, uncertainty=InverseVariance([0.28577915, 0.30503108, 0.33187846, ..., 2.79845649,\n",
       "                  2.19524155, 2.70028026]))>,\n",
       " <Spectrum1D(flux=<Quantity [1.4237059 , 0.83970295, 0.91320192, ...,        nan,        nan,\n",
       "                   nan] 1e-17 erg / (Angstrom s cm2)>, spectral_axis=<SpectralAxis [1100.3247, 1100.5785, 1100.8317, ..., 2975.9177, 2976.604 , 2977.287 ] Angstrom>, uncertainty=InverseVariance([5.82012089, 7.36623038, 6.71731655, ...,        nan,\n",
       "                         nan,        nan]))>,\n",
       " <Spectrum1D(flux=<Quantity [       nan,        nan,        nan, ..., 0.99946712, 1.55650065,\n",
       "            1.6771586 ] 1e-17 erg / (Angstrom s cm2)>, spectral_axis=<SpectralAxis [1100.3247, 1100.5785, 1100.8317, ..., 2975.9177, 2976.604 , 2977.287 ] Angstrom>, uncertainty=InverseVariance([       nan,        nan,        nan, ..., 6.32613773,\n",
       "                  2.92884856, 2.39046507]))>,\n",
       " <Spectrum1D(flux=<Quantity [1.00255917, 1.59777521, 1.84805263, ...,        nan,        nan,\n",
       "                   nan] 1e-17 erg / (Angstrom s cm2)>, spectral_axis=<SpectralAxis [1100.3247, 1100.5785, 1100.8317, ..., 2975.9177, 2976.604 , 2977.287 ] Angstrom>, uncertainty=InverseVariance([6.09167166, 6.00005483, 5.8322508 , ...,        nan,\n",
       "                         nan,        nan]))>,\n",
       " <Spectrum1D(flux=<Quantity [4.02792363, 3.27078022, 3.02911768, ...,        nan,        nan,\n",
       "                   nan] 1e-17 erg / (Angstrom s cm2)>, spectral_axis=<SpectralAxis [1100.3247, 1100.5785, 1100.8317, ..., 2975.9177, 2976.604 , 2977.287 ] Angstrom>, uncertainty=InverseVariance([1.96060489, 2.14706094, 2.17513614, ...,        nan,\n",
       "                         nan,        nan]))>,\n",
       " <Spectrum1D(flux=<Quantity [       nan,        nan,        nan, ..., 0.5138602 , 0.55393344,\n",
       "            0.85295763] 1e-17 erg / (Angstrom s cm2)>, spectral_axis=<SpectralAxis [1100.3247, 1100.5785, 1100.8317, ..., 2975.9177, 2976.604 , 2977.287 ] Angstrom>, uncertainty=InverseVariance([        nan,         nan,         nan, ..., 15.32455752,\n",
       "                  12.71242807, 12.94511699]))>,\n",
       " <Spectrum1D(flux=<Quantity [       nan,        nan,        nan, ..., 5.43506576, 5.39587619,\n",
       "            5.08462182] 1e-17 erg / (Angstrom s cm2)>, spectral_axis=<SpectralAxis [1100.3247, 1100.5785, 1100.8317, ..., 2975.9177, 2976.604 , 2977.287 ] Angstrom>, uncertainty=InverseVariance([        nan,         nan,         nan, ..., 13.9169556 ,\n",
       "                  10.53261806,  8.27731344]))>,\n",
       " <Spectrum1D(flux=<Quantity [-0.01827872,  0.82543152,  0.6941525 , ...,         nan,\n",
       "                    nan,         nan] 1e-17 erg / (Angstrom s cm2)>, spectral_axis=<SpectralAxis [1100.3247, 1100.5785, 1100.8317, ..., 2975.9177, 2976.604 , 2977.287 ] Angstrom>, uncertainty=InverseVariance([5.77942224, 5.48663395, 5.61706696, ...,        nan,\n",
       "                         nan,        nan]))>,\n",
       " <Spectrum1D(flux=<Quantity [       nan,        nan,        nan, ..., 0.54603727, 0.15712282,\n",
       "            0.14986368] 1e-17 erg / (Angstrom s cm2)>, spectral_axis=<SpectralAxis [1100.3247, 1100.5785, 1100.8317, ..., 2975.9177, 2976.604 , 2977.287 ] Angstrom>, uncertainty=InverseVariance([        nan,         nan,         nan, ...,  1.61878307,\n",
       "                  11.78703359, 11.12709332]))>,\n",
       " <Spectrum1D(flux=<Quantity [1.38217505, 0.79343178, 0.91783764, ...,        nan,        nan,\n",
       "                   nan] 1e-17 erg / (Angstrom s cm2)>, spectral_axis=<SpectralAxis [1100.3247, 1100.5785, 1100.8317, ..., 2975.9177, 2976.604 , 2977.287 ] Angstrom>, uncertainty=InverseVariance([12.76451254, 14.64390518, 14.1057219 , ...,         nan,\n",
       "                          nan,         nan]))>,\n",
       " <Spectrum1D(flux=<Quantity [ 6.06679291,  0.60331034, -0.67135857, ...,  0.3065625 ,\n",
       "             1.15463469,  0.77490948] 1e-17 erg / (Angstrom s cm2)>, spectral_axis=<SpectralAxis [1100.3247, 1100.5785, 1100.8317, ..., 2975.9177, 2976.604 , 2977.287 ] Angstrom>, uncertainty=InverseVariance([0.17821712, 0.19981416, 0.206051  , ..., 0.21994483,\n",
       "                  0.30486174, 2.36218713]))>,\n",
       " <Spectrum1D(flux=<Quantity [       nan,        nan,        nan, ..., 0.77212747, 0.57304293,\n",
       "            1.35025418] 1e-17 erg / (Angstrom s cm2)>, spectral_axis=<SpectralAxis [1100.3247, 1100.5785, 1100.8317, ..., 2975.9177, 2976.604 , 2977.287 ] Angstrom>, uncertainty=InverseVariance([       nan,        nan,        nan, ..., 4.03308287,\n",
       "                  4.30407292, 5.1772    ]))>,\n",
       " <Spectrum1D(flux=<Quantity [       nan,        nan,        nan, ..., 0.17504914, 0.1976118 ,\n",
       "            0.18651171] 1e-17 erg / (Angstrom s cm2)>, spectral_axis=<SpectralAxis [1100.3247, 1100.5785, 1100.8317, ..., 2975.9177, 2976.604 , 2977.287 ] Angstrom>, uncertainty=InverseVariance([        nan,         nan,         nan, ..., 10.30726024,\n",
       "                  14.32464393, 16.84572369]))>,\n",
       " <Spectrum1D(flux=<Quantity [       nan,        nan,        nan, ..., 5.62792166, 8.54154486,\n",
       "            3.1411977 ] 1e-17 erg / (Angstrom s cm2)>, spectral_axis=<SpectralAxis [1100.3247, 1100.5785, 1100.8317, ..., 2975.9177, 2976.604 , 2977.287 ] Angstrom>, uncertainty=InverseVariance([       nan,        nan,        nan, ..., 0.04838306,\n",
       "                  0.0468365 , 0.58670533]))>,\n",
       " <Spectrum1D(flux=<Quantity [ 2.50088873,  2.81594381,  2.29456512, ..., -1.44563936,\n",
       "             0.76032493, -0.63330822] 1e-17 erg / (Angstrom s cm2)>, spectral_axis=<SpectralAxis [1100.3247, 1100.5785, 1100.8317, ..., 2975.9177, 2976.604 , 2977.287 ] Angstrom>, uncertainty=InverseVariance([1.24867893, 1.1971672 , 1.3063081 , ..., 0.41496887,\n",
       "                  0.70789692, 0.79328148]))>,\n",
       " <Spectrum1D(flux=<Quantity [0.87229859, 1.09274587, 1.41767217, ..., 0.14179257, 0.44024924,\n",
       "            0.50073043] 1e-17 erg / (Angstrom s cm2)>, spectral_axis=<SpectralAxis [1100.3247, 1100.5785, 1100.8317, ..., 2975.9177, 2976.604 , 2977.287 ] Angstrom>, uncertainty=InverseVariance([0.38973446, 0.3468139 , 0.35317939, ..., 5.16862511,\n",
       "                  4.1921082 , 3.41722475]))>,\n",
       " <Spectrum1D(flux=<Quantity [1.48692666, 0.80305722, 1.08036139, ...,        nan,        nan,\n",
       "                   nan] 1e-17 erg / (Angstrom s cm2)>, spectral_axis=<SpectralAxis [1100.3247, 1100.5785, 1100.8317, ..., 2975.9177, 2976.604 , 2977.287 ] Angstrom>, uncertainty=InverseVariance([3.38470424, 3.6577584 , 3.46327948, ...,        nan,\n",
       "                         nan,        nan]))>]"
      ]
     },
     "execution_count": 6,
     "metadata": {},
     "output_type": "execute_result"
    }
   ],
   "source": [
    "spec_l"
   ]
  },
  {
   "cell_type": "code",
   "execution_count": null,
   "metadata": {},
   "outputs": [],
   "source": []
  },
  {
   "cell_type": "code",
   "execution_count": null,
   "metadata": {},
   "outputs": [],
   "source": []
  },
  {
   "cell_type": "code",
   "execution_count": null,
   "metadata": {},
   "outputs": [],
   "source": []
  },
  {
   "cell_type": "code",
   "execution_count": 5,
   "metadata": {},
   "outputs": [
    {
     "name": "stdout",
     "output_type": "stream",
     "text": [
      "/Users/dangause/Desktop/personal_projects/qso_cv/data/SDSS/DR16/4622/spec-4622-55629-0228.fits\n",
      "/Users/dangause/Desktop/personal_projects/qso_cv/data/SDSS/DR16/4622/spec-4622-55629-0228.fits\n",
      "Processing spectrum 0\n",
      "/Users/dangause/Desktop/personal_projects/qso_cv/data/SDSS/DR16/5493/spec-5493-56009-0344.fits\n",
      "/Users/dangause/Desktop/personal_projects/qso_cv/data/SDSS/DR16/5493/spec-5493-56009-0344.fits\n",
      "Processing spectrum 1\n",
      "Resampling axis\n"
     ]
    },
    {
     "name": "stderr",
     "output_type": "stream",
     "text": [
      "WARNING: UnitsWarning: '1E-17 erg/cm^2/s/Angstrom' contains multiple slashes, which is discouraged by the FITS standard [astropy.units.format.generic]\n",
      "WARNING: UnitsWarning: '1E-17 erg/cm^2/s/Angstrom' contains multiple slashes, which is discouraged by the FITS standard [astropy.units.format.generic]\n"
     ]
    },
    {
     "name": "stdout",
     "output_type": "stream",
     "text": [
      "/Users/dangause/Desktop/personal_projects/qso_cv/data/SDSS/DR16/5134/spec-5134-55868-0866.fits\n",
      "/Users/dangause/Desktop/personal_projects/qso_cv/data/SDSS/DR16/5134/spec-5134-55868-0866.fits\n",
      "Processing spectrum 2\n",
      "Resampling axis\n"
     ]
    },
    {
     "name": "stderr",
     "output_type": "stream",
     "text": [
      "WARNING: UnitsWarning: '1E-17 erg/cm^2/s/Angstrom' contains multiple slashes, which is discouraged by the FITS standard [astropy.units.format.generic]\n",
      "/Users/dangause/anaconda3/envs/sdss/lib/python3.10/site-packages/astropy/nddata/nduncertainty.py:1223: RuntimeWarning: divide by zero encountered in divide\n",
      "  new_array = None if self.array is None else 1 / self.array\n"
     ]
    },
    {
     "name": "stdout",
     "output_type": "stream",
     "text": [
      "/Users/dangause/Desktop/personal_projects/qso_cv/data/SDSS/DR16/6131/spec-6131-56211-0476.fits\n",
      "/Users/dangause/Desktop/personal_projects/qso_cv/data/SDSS/DR16/6131/spec-6131-56211-0476.fits\n",
      "Processing spectrum 3\n",
      "Resampling axis\n"
     ]
    },
    {
     "name": "stderr",
     "output_type": "stream",
     "text": [
      "WARNING: UnitsWarning: '1E-17 erg/cm^2/s/Angstrom' contains multiple slashes, which is discouraged by the FITS standard [astropy.units.format.generic]\n",
      "/Users/dangause/anaconda3/envs/sdss/lib/python3.10/site-packages/astropy/nddata/nduncertainty.py:1223: RuntimeWarning: divide by zero encountered in divide\n",
      "  new_array = None if self.array is None else 1 / self.array\n"
     ]
    },
    {
     "name": "stdout",
     "output_type": "stream",
     "text": [
      "/Users/dangause/Desktop/personal_projects/qso_cv/data/SDSS/DR16/5346/spec-5346-55955-0784.fits\n",
      "/Users/dangause/Desktop/personal_projects/qso_cv/data/SDSS/DR16/5346/spec-5346-55955-0784.fits\n",
      "Processing spectrum 4\n",
      "Resampling axis\n"
     ]
    },
    {
     "name": "stderr",
     "output_type": "stream",
     "text": [
      "WARNING: UnitsWarning: '1E-17 erg/cm^2/s/Angstrom' contains multiple slashes, which is discouraged by the FITS standard [astropy.units.format.generic]\n",
      "/Users/dangause/anaconda3/envs/sdss/lib/python3.10/site-packages/astropy/nddata/nduncertainty.py:1223: RuntimeWarning: divide by zero encountered in divide\n",
      "  new_array = None if self.array is None else 1 / self.array\n"
     ]
    },
    {
     "name": "stdout",
     "output_type": "stream",
     "text": [
      "/Users/dangause/Desktop/personal_projects/qso_cv/data/SDSS/DR16/7850/spec-7850-56956-0216.fits\n",
      "/Users/dangause/Desktop/personal_projects/qso_cv/data/SDSS/DR16/7850/spec-7850-56956-0216.fits\n",
      "Processing spectrum 5\n",
      "Resampling axis\n"
     ]
    },
    {
     "name": "stderr",
     "output_type": "stream",
     "text": [
      "WARNING: UnitsWarning: '1E-17 erg/cm^2/s/Angstrom' contains multiple slashes, which is discouraged by the FITS standard [astropy.units.format.generic]\n",
      "/Users/dangause/anaconda3/envs/sdss/lib/python3.10/site-packages/astropy/nddata/nduncertainty.py:1223: RuntimeWarning: divide by zero encountered in divide\n",
      "  new_array = None if self.array is None else 1 / self.array\n"
     ]
    },
    {
     "name": "stdout",
     "output_type": "stream",
     "text": [
      "/Users/dangause/Desktop/personal_projects/qso_cv/data/SDSS/DR16/5986/spec-5986-56328-0606.fits\n",
      "/Users/dangause/Desktop/personal_projects/qso_cv/data/SDSS/DR16/5986/spec-5986-56328-0606.fits\n",
      "Processing spectrum 6\n",
      "Resampling axis\n"
     ]
    },
    {
     "name": "stderr",
     "output_type": "stream",
     "text": [
      "WARNING: UnitsWarning: '1E-17 erg/cm^2/s/Angstrom' contains multiple slashes, which is discouraged by the FITS standard [astropy.units.format.generic]\n"
     ]
    },
    {
     "name": "stdout",
     "output_type": "stream",
     "text": [
      "/Users/dangause/Desktop/personal_projects/qso_cv/data/SDSS/DR16/4280/spec-4280-55503-0586.fits\n",
      "/Users/dangause/Desktop/personal_projects/qso_cv/data/SDSS/DR16/4280/spec-4280-55503-0586.fits\n",
      "Processing spectrum 7\n",
      "Resampling axis\n"
     ]
    },
    {
     "name": "stderr",
     "output_type": "stream",
     "text": [
      "WARNING: UnitsWarning: '1E-17 erg/cm^2/s/Angstrom' contains multiple slashes, which is discouraged by the FITS standard [astropy.units.format.generic]\n",
      "/Users/dangause/anaconda3/envs/sdss/lib/python3.10/site-packages/astropy/nddata/nduncertainty.py:1223: RuntimeWarning: divide by zero encountered in divide\n",
      "  new_array = None if self.array is None else 1 / self.array\n"
     ]
    },
    {
     "name": "stdout",
     "output_type": "stream",
     "text": [
      "/Users/dangause/Desktop/personal_projects/qso_cv/data/SDSS/DR16/9356/spec-9356-57809-0896.fits\n",
      "/Users/dangause/Desktop/personal_projects/qso_cv/data/SDSS/DR16/9356/spec-9356-57809-0896.fits\n",
      "Processing spectrum 8\n",
      "Resampling axis\n"
     ]
    },
    {
     "name": "stderr",
     "output_type": "stream",
     "text": [
      "WARNING: UnitsWarning: '1E-17 erg/cm^2/s/Angstrom' contains multiple slashes, which is discouraged by the FITS standard [astropy.units.format.generic]\n"
     ]
    },
    {
     "name": "stdout",
     "output_type": "stream",
     "text": [
      "/Users/dangause/Desktop/personal_projects/qso_cv/data/SDSS/DR16/5466/spec-5466-56033-0208.fits\n",
      "/Users/dangause/Desktop/personal_projects/qso_cv/data/SDSS/DR16/5466/spec-5466-56033-0208.fits\n",
      "Processing spectrum 9\n",
      "Resampling axis\n"
     ]
    },
    {
     "name": "stderr",
     "output_type": "stream",
     "text": [
      "WARNING: UnitsWarning: '1E-17 erg/cm^2/s/Angstrom' contains multiple slashes, which is discouraged by the FITS standard [astropy.units.format.generic]\n",
      "/Users/dangause/anaconda3/envs/sdss/lib/python3.10/site-packages/astropy/nddata/nduncertainty.py:1223: RuntimeWarning: divide by zero encountered in divide\n",
      "  new_array = None if self.array is None else 1 / self.array\n"
     ]
    },
    {
     "name": "stdout",
     "output_type": "stream",
     "text": [
      "/Users/dangause/Desktop/personal_projects/qso_cv/data/SDSS/DR16/4660/spec-4660-56191-0212.fits\n",
      "/Users/dangause/Desktop/personal_projects/qso_cv/data/SDSS/DR16/4660/spec-4660-56191-0212.fits\n",
      "Processing spectrum 10\n",
      "Resampling axis\n"
     ]
    },
    {
     "name": "stderr",
     "output_type": "stream",
     "text": [
      "WARNING: UnitsWarning: '1E-17 erg/cm^2/s/Angstrom' contains multiple slashes, which is discouraged by the FITS standard [astropy.units.format.generic]\n",
      "/Users/dangause/anaconda3/envs/sdss/lib/python3.10/site-packages/astropy/nddata/nduncertainty.py:1223: RuntimeWarning: divide by zero encountered in divide\n",
      "  new_array = None if self.array is None else 1 / self.array\n"
     ]
    },
    {
     "name": "stdout",
     "output_type": "stream",
     "text": [
      "/Users/dangause/Desktop/personal_projects/qso_cv/data/SDSS/DR16/6727/spec-6727-56369-0336.fits\n",
      "/Users/dangause/Desktop/personal_projects/qso_cv/data/SDSS/DR16/6727/spec-6727-56369-0336.fits\n",
      "Processing spectrum 11\n",
      "Resampling axis\n"
     ]
    },
    {
     "name": "stderr",
     "output_type": "stream",
     "text": [
      "WARNING: UnitsWarning: '1E-17 erg/cm^2/s/Angstrom' contains multiple slashes, which is discouraged by the FITS standard [astropy.units.format.generic]\n",
      "/Users/dangause/anaconda3/envs/sdss/lib/python3.10/site-packages/astropy/nddata/nduncertainty.py:1223: RuntimeWarning: divide by zero encountered in divide\n",
      "  new_array = None if self.array is None else 1 / self.array\n"
     ]
    },
    {
     "name": "stdout",
     "output_type": "stream",
     "text": [
      "/Users/dangause/Desktop/personal_projects/qso_cv/data/SDSS/DR16/7287/spec-7287-57042-0334.fits\n",
      "/Users/dangause/Desktop/personal_projects/qso_cv/data/SDSS/DR16/7287/spec-7287-57042-0334.fits\n",
      "Processing spectrum 12\n",
      "Resampling axis\n"
     ]
    },
    {
     "name": "stderr",
     "output_type": "stream",
     "text": [
      "WARNING: UnitsWarning: '1E-17 erg/cm^2/s/Angstrom' contains multiple slashes, which is discouraged by the FITS standard [astropy.units.format.generic]\n",
      "/Users/dangause/anaconda3/envs/sdss/lib/python3.10/site-packages/astropy/nddata/nduncertainty.py:1223: RuntimeWarning: divide by zero encountered in divide\n",
      "  new_array = None if self.array is None else 1 / self.array\n"
     ]
    },
    {
     "name": "stdout",
     "output_type": "stream",
     "text": [
      "/Users/dangause/Desktop/personal_projects/qso_cv/data/SDSS/DR16/6828/spec-6828-56430-0146.fits\n",
      "/Users/dangause/Desktop/personal_projects/qso_cv/data/SDSS/DR16/6828/spec-6828-56430-0146.fits\n",
      "Processing spectrum 13\n",
      "Resampling axis\n"
     ]
    },
    {
     "name": "stderr",
     "output_type": "stream",
     "text": [
      "WARNING: UnitsWarning: '1E-17 erg/cm^2/s/Angstrom' contains multiple slashes, which is discouraged by the FITS standard [astropy.units.format.generic]\n",
      "/Users/dangause/anaconda3/envs/sdss/lib/python3.10/site-packages/astropy/nddata/nduncertainty.py:1223: RuntimeWarning: divide by zero encountered in divide\n",
      "  new_array = None if self.array is None else 1 / self.array\n"
     ]
    },
    {
     "name": "stdout",
     "output_type": "stream",
     "text": [
      "/Users/dangause/Desktop/personal_projects/qso_cv/data/SDSS/DR16/11124/spec-11124-58430-0430.fits\n",
      "/Users/dangause/Desktop/personal_projects/qso_cv/data/SDSS/DR16/11124/spec-11124-58430-0430.fits\n",
      "Processing spectrum 14\n",
      "Resampling axis\n"
     ]
    },
    {
     "name": "stderr",
     "output_type": "stream",
     "text": [
      "WARNING: UnitsWarning: '1E-17 erg/cm^2/s/Angstrom' contains multiple slashes, which is discouraged by the FITS standard [astropy.units.format.generic]\n",
      "/Users/dangause/anaconda3/envs/sdss/lib/python3.10/site-packages/astropy/nddata/nduncertainty.py:1223: RuntimeWarning: divide by zero encountered in divide\n",
      "  new_array = None if self.array is None else 1 / self.array\n"
     ]
    },
    {
     "name": "stdout",
     "output_type": "stream",
     "text": [
      "/Users/dangause/Desktop/personal_projects/qso_cv/data/SDSS/DR16/8499/spec-8499-57431-0216.fits\n",
      "/Users/dangause/Desktop/personal_projects/qso_cv/data/SDSS/DR16/8499/spec-8499-57431-0216.fits\n",
      "Processing spectrum 15\n",
      "Resampling axis\n"
     ]
    },
    {
     "name": "stderr",
     "output_type": "stream",
     "text": [
      "WARNING: UnitsWarning: '1E-17 erg/cm^2/s/Angstrom' contains multiple slashes, which is discouraged by the FITS standard [astropy.units.format.generic]\n"
     ]
    },
    {
     "name": "stdout",
     "output_type": "stream",
     "text": [
      "/Users/dangause/Desktop/personal_projects/qso_cv/data/SDSS/DR16/6300/spec-6300-56449-0982.fits\n",
      "/Users/dangause/Desktop/personal_projects/qso_cv/data/SDSS/DR16/6300/spec-6300-56449-0982.fits\n",
      "Processing spectrum 16\n",
      "Resampling axis\n"
     ]
    },
    {
     "name": "stderr",
     "output_type": "stream",
     "text": [
      "WARNING: UnitsWarning: '1E-17 erg/cm^2/s/Angstrom' contains multiple slashes, which is discouraged by the FITS standard [astropy.units.format.generic]\n",
      "/Users/dangause/anaconda3/envs/sdss/lib/python3.10/site-packages/astropy/nddata/nduncertainty.py:1223: RuntimeWarning: divide by zero encountered in divide\n",
      "  new_array = None if self.array is None else 1 / self.array\n"
     ]
    },
    {
     "name": "stdout",
     "output_type": "stream",
     "text": [
      "/Users/dangause/Desktop/personal_projects/qso_cv/data/SDSS/DR16/5349/spec-5349-55929-0402.fits\n",
      "/Users/dangause/Desktop/personal_projects/qso_cv/data/SDSS/DR16/5349/spec-5349-55929-0402.fits\n",
      "Processing spectrum 17\n",
      "Resampling axis\n"
     ]
    },
    {
     "name": "stderr",
     "output_type": "stream",
     "text": [
      "WARNING: UnitsWarning: '1E-17 erg/cm^2/s/Angstrom' contains multiple slashes, which is discouraged by the FITS standard [astropy.units.format.generic]\n",
      "/Users/dangause/anaconda3/envs/sdss/lib/python3.10/site-packages/astropy/nddata/nduncertainty.py:1223: RuntimeWarning: divide by zero encountered in divide\n",
      "  new_array = None if self.array is None else 1 / self.array\n"
     ]
    },
    {
     "name": "stdout",
     "output_type": "stream",
     "text": [
      "/Users/dangause/Desktop/personal_projects/qso_cv/data/SDSS/DR16/4865/spec-4865-55713-0426.fits\n",
      "/Users/dangause/Desktop/personal_projects/qso_cv/data/SDSS/DR16/4865/spec-4865-55713-0426.fits\n",
      "Processing spectrum 18\n",
      "Resampling axis\n"
     ]
    },
    {
     "name": "stderr",
     "output_type": "stream",
     "text": [
      "WARNING: UnitsWarning: '1E-17 erg/cm^2/s/Angstrom' contains multiple slashes, which is discouraged by the FITS standard [astropy.units.format.generic]\n",
      "/Users/dangause/anaconda3/envs/sdss/lib/python3.10/site-packages/astropy/nddata/nduncertainty.py:1223: RuntimeWarning: divide by zero encountered in divide\n",
      "  new_array = None if self.array is None else 1 / self.array\n"
     ]
    },
    {
     "name": "stdout",
     "output_type": "stream",
     "text": [
      "/Users/dangause/Desktop/personal_projects/qso_cv/data/SDSS/DR16/6416/spec-6416-56312-0612.fits\n",
      "/Users/dangause/Desktop/personal_projects/qso_cv/data/SDSS/DR16/6416/spec-6416-56312-0612.fits\n",
      "Processing spectrum 19\n",
      "Resampling axis\n"
     ]
    },
    {
     "name": "stderr",
     "output_type": "stream",
     "text": [
      "WARNING: UnitsWarning: '1E-17 erg/cm^2/s/Angstrom' contains multiple slashes, which is discouraged by the FITS standard [astropy.units.format.generic]\n",
      "/Users/dangause/anaconda3/envs/sdss/lib/python3.10/site-packages/astropy/nddata/nduncertainty.py:1223: RuntimeWarning: divide by zero encountered in divide\n",
      "  new_array = None if self.array is None else 1 / self.array\n"
     ]
    },
    {
     "name": "stdout",
     "output_type": "stream",
     "text": [
      "/Users/dangause/Desktop/personal_projects/qso_cv/data/SDSS/DR16/6595/spec-6595-56569-0782.fits\n",
      "/Users/dangause/Desktop/personal_projects/qso_cv/data/SDSS/DR16/6595/spec-6595-56569-0782.fits\n",
      "Processing spectrum 20\n",
      "Resampling axis\n"
     ]
    },
    {
     "name": "stderr",
     "output_type": "stream",
     "text": [
      "WARNING: UnitsWarning: '1E-17 erg/cm^2/s/Angstrom' contains multiple slashes, which is discouraged by the FITS standard [astropy.units.format.generic]\n",
      "/Users/dangause/anaconda3/envs/sdss/lib/python3.10/site-packages/astropy/nddata/nduncertainty.py:1223: RuntimeWarning: divide by zero encountered in divide\n",
      "  new_array = None if self.array is None else 1 / self.array\n"
     ]
    },
    {
     "name": "stdout",
     "output_type": "stream",
     "text": [
      "/Users/dangause/Desktop/personal_projects/qso_cv/data/SDSS/DR16/8208/spec-8208-57430-0595.fits\n",
      "/Users/dangause/Desktop/personal_projects/qso_cv/data/SDSS/DR16/8208/spec-8208-57430-0595.fits\n"
     ]
    },
    {
     "name": "stderr",
     "output_type": "stream",
     "text": [
      "WARNING: UnitsWarning: '1E-17 erg/cm^2/s/Angstrom' contains multiple slashes, which is discouraged by the FITS standard [astropy.units.format.generic]\n"
     ]
    },
    {
     "name": "stdout",
     "output_type": "stream",
     "text": [
      "Processing spectrum 21\n",
      "Resampling axis\n"
     ]
    },
    {
     "name": "stderr",
     "output_type": "stream",
     "text": [
      "/Users/dangause/anaconda3/envs/sdss/lib/python3.10/site-packages/astropy/nddata/nduncertainty.py:1223: RuntimeWarning: divide by zero encountered in divide\n",
      "  new_array = None if self.array is None else 1 / self.array\n"
     ]
    },
    {
     "name": "stdout",
     "output_type": "stream",
     "text": [
      "/Users/dangause/Desktop/personal_projects/qso_cv/data/SDSS/DR16/11076/spec-11076-58428-0343.fits\n",
      "/Users/dangause/Desktop/personal_projects/qso_cv/data/SDSS/DR16/11076/spec-11076-58428-0343.fits\n",
      "Processing spectrum 22\n",
      "Resampling axis\n"
     ]
    },
    {
     "name": "stderr",
     "output_type": "stream",
     "text": [
      "WARNING: UnitsWarning: '1E-17 erg/cm^2/s/Angstrom' contains multiple slashes, which is discouraged by the FITS standard [astropy.units.format.generic]\n",
      "/Users/dangause/anaconda3/envs/sdss/lib/python3.10/site-packages/astropy/nddata/nduncertainty.py:1223: RuntimeWarning: divide by zero encountered in divide\n",
      "  new_array = None if self.array is None else 1 / self.array\n"
     ]
    },
    {
     "name": "stdout",
     "output_type": "stream",
     "text": [
      "/Users/dangause/Desktop/personal_projects/qso_cv/data/SDSS/DR16/9167/spec-9167-58064-0566.fits\n",
      "/Users/dangause/Desktop/personal_projects/qso_cv/data/SDSS/DR16/9167/spec-9167-58064-0566.fits\n",
      "Processing spectrum 23\n",
      "Resampling axis\n"
     ]
    },
    {
     "name": "stderr",
     "output_type": "stream",
     "text": [
      "WARNING: UnitsWarning: '1E-17 erg/cm^2/s/Angstrom' contains multiple slashes, which is discouraged by the FITS standard [astropy.units.format.generic]\n",
      "/Users/dangause/anaconda3/envs/sdss/lib/python3.10/site-packages/astropy/nddata/nduncertainty.py:1223: RuntimeWarning: divide by zero encountered in divide\n",
      "  new_array = None if self.array is None else 1 / self.array\n"
     ]
    },
    {
     "name": "stdout",
     "output_type": "stream",
     "text": [
      "/Users/dangause/Desktop/personal_projects/qso_cv/data/SDSS/DR16/4987/spec-4987-55746-0610.fits\n",
      "/Users/dangause/Desktop/personal_projects/qso_cv/data/SDSS/DR16/4987/spec-4987-55746-0610.fits\n",
      "Processing spectrum 24\n",
      "Resampling axis\n"
     ]
    },
    {
     "name": "stderr",
     "output_type": "stream",
     "text": [
      "WARNING: UnitsWarning: '1E-17 erg/cm^2/s/Angstrom' contains multiple slashes, which is discouraged by the FITS standard [astropy.units.format.generic]\n",
      "/Users/dangause/anaconda3/envs/sdss/lib/python3.10/site-packages/astropy/nddata/nduncertainty.py:1223: RuntimeWarning: divide by zero encountered in divide\n",
      "  new_array = None if self.array is None else 1 / self.array\n"
     ]
    },
    {
     "name": "stdout",
     "output_type": "stream",
     "text": [
      "/Users/dangause/Desktop/personal_projects/qso_cv/data/SDSS/DR16/8535/spec-8535-58019-0228.fits\n",
      "/Users/dangause/Desktop/personal_projects/qso_cv/data/SDSS/DR16/8535/spec-8535-58019-0228.fits\n",
      "Processing spectrum 25\n",
      "Resampling axis\n"
     ]
    },
    {
     "name": "stderr",
     "output_type": "stream",
     "text": [
      "WARNING: UnitsWarning: '1E-17 erg/cm^2/s/Angstrom' contains multiple slashes, which is discouraged by the FITS standard [astropy.units.format.generic]\n",
      "/Users/dangause/anaconda3/envs/sdss/lib/python3.10/site-packages/astropy/nddata/nduncertainty.py:1223: RuntimeWarning: divide by zero encountered in divide\n",
      "  new_array = None if self.array is None else 1 / self.array\n"
     ]
    },
    {
     "name": "stdout",
     "output_type": "stream",
     "text": [
      "/Users/dangause/Desktop/personal_projects/qso_cv/data/SDSS/DR16/4056/spec-4056-55357-0014.fits\n",
      "/Users/dangause/Desktop/personal_projects/qso_cv/data/SDSS/DR16/4056/spec-4056-55357-0014.fits\n"
     ]
    },
    {
     "name": "stderr",
     "output_type": "stream",
     "text": [
      "WARNING: UnitsWarning: '1E-17 erg/cm^2/s/Angstrom' contains multiple slashes, which is discouraged by the FITS standard [astropy.units.format.generic]\n"
     ]
    },
    {
     "name": "stdout",
     "output_type": "stream",
     "text": [
      "Processing spectrum 26\n",
      "Resampling axis\n"
     ]
    },
    {
     "name": "stderr",
     "output_type": "stream",
     "text": [
      "/Users/dangause/anaconda3/envs/sdss/lib/python3.10/site-packages/astropy/nddata/nduncertainty.py:1223: RuntimeWarning: divide by zero encountered in divide\n",
      "  new_array = None if self.array is None else 1 / self.array\n"
     ]
    },
    {
     "name": "stdout",
     "output_type": "stream",
     "text": [
      "/Users/dangause/Desktop/personal_projects/qso_cv/data/SDSS/DR16/8747/spec-8747-57401-0771.fits\n",
      "/Users/dangause/Desktop/personal_projects/qso_cv/data/SDSS/DR16/8747/spec-8747-57401-0771.fits\n"
     ]
    },
    {
     "name": "stderr",
     "output_type": "stream",
     "text": [
      "WARNING: UnitsWarning: '1E-17 erg/cm^2/s/Angstrom' contains multiple slashes, which is discouraged by the FITS standard [astropy.units.format.generic]\n"
     ]
    },
    {
     "name": "stdout",
     "output_type": "stream",
     "text": [
      "Processing spectrum 27\n",
      "Resampling axis\n",
      "/Users/dangause/Desktop/personal_projects/qso_cv/data/SDSS/DR16/7827/spec-7827-57278-0667.fits\n",
      "/Users/dangause/Desktop/personal_projects/qso_cv/data/SDSS/DR16/7827/spec-7827-57278-0667.fits\n"
     ]
    },
    {
     "name": "stderr",
     "output_type": "stream",
     "text": [
      "WARNING: UnitsWarning: '1E-17 erg/cm^2/s/Angstrom' contains multiple slashes, which is discouraged by the FITS standard [astropy.units.format.generic]\n",
      "/Users/dangause/anaconda3/envs/sdss/lib/python3.10/site-packages/astropy/nddata/nduncertainty.py:1223: RuntimeWarning: divide by zero encountered in divide\n",
      "  new_array = None if self.array is None else 1 / self.array\n"
     ]
    },
    {
     "name": "stdout",
     "output_type": "stream",
     "text": [
      "Processing spectrum 28\n",
      "Resampling axis\n",
      "/Users/dangause/Desktop/personal_projects/qso_cv/data/SDSS/DR16/8176/spec-8176-57131-0408.fits\n",
      "/Users/dangause/Desktop/personal_projects/qso_cv/data/SDSS/DR16/8176/spec-8176-57131-0408.fits\n"
     ]
    },
    {
     "name": "stderr",
     "output_type": "stream",
     "text": [
      "WARNING: UnitsWarning: '1E-17 erg/cm^2/s/Angstrom' contains multiple slashes, which is discouraged by the FITS standard [astropy.units.format.generic]\n",
      "/Users/dangause/anaconda3/envs/sdss/lib/python3.10/site-packages/astropy/nddata/nduncertainty.py:1223: RuntimeWarning: divide by zero encountered in divide\n",
      "  new_array = None if self.array is None else 1 / self.array\n"
     ]
    },
    {
     "name": "stdout",
     "output_type": "stream",
     "text": [
      "Processing spectrum 29\n",
      "Resampling axis\n",
      "/Users/dangause/Desktop/personal_projects/qso_cv/data/SDSS/DR16/5796/spec-5796-56274-0240.fits\n",
      "/Users/dangause/Desktop/personal_projects/qso_cv/data/SDSS/DR16/5796/spec-5796-56274-0240.fits\n"
     ]
    },
    {
     "name": "stderr",
     "output_type": "stream",
     "text": [
      "WARNING: UnitsWarning: '1E-17 erg/cm^2/s/Angstrom' contains multiple slashes, which is discouraged by the FITS standard [astropy.units.format.generic]\n"
     ]
    },
    {
     "name": "stdout",
     "output_type": "stream",
     "text": [
      "Processing spectrum 30\n",
      "Resampling axis\n"
     ]
    },
    {
     "name": "stderr",
     "output_type": "stream",
     "text": [
      "/Users/dangause/anaconda3/envs/sdss/lib/python3.10/site-packages/astropy/nddata/nduncertainty.py:1223: RuntimeWarning: divide by zero encountered in divide\n",
      "  new_array = None if self.array is None else 1 / self.array\n"
     ]
    },
    {
     "name": "stdout",
     "output_type": "stream",
     "text": [
      "/Users/dangause/Desktop/personal_projects/qso_cv/data/SDSS/DR16/8377/spec-8377-57783-0994.fits\n",
      "/Users/dangause/Desktop/personal_projects/qso_cv/data/SDSS/DR16/8377/spec-8377-57783-0994.fits\n",
      "Processing spectrum 31\n",
      "Resampling axis\n"
     ]
    },
    {
     "name": "stderr",
     "output_type": "stream",
     "text": [
      "WARNING: UnitsWarning: '1E-17 erg/cm^2/s/Angstrom' contains multiple slashes, which is discouraged by the FITS standard [astropy.units.format.generic]\n",
      "/Users/dangause/anaconda3/envs/sdss/lib/python3.10/site-packages/astropy/nddata/nduncertainty.py:1223: RuntimeWarning: divide by zero encountered in divide\n",
      "  new_array = None if self.array is None else 1 / self.array\n"
     ]
    },
    {
     "name": "stdout",
     "output_type": "stream",
     "text": [
      "/Users/dangause/Desktop/personal_projects/qso_cv/data/SDSS/DR16/11109/spec-11109-58523-0810.fits\n",
      "/Users/dangause/Desktop/personal_projects/qso_cv/data/SDSS/DR16/11109/spec-11109-58523-0810.fits\n"
     ]
    },
    {
     "name": "stderr",
     "output_type": "stream",
     "text": [
      "WARNING: UnitsWarning: '1E-17 erg/cm^2/s/Angstrom' contains multiple slashes, which is discouraged by the FITS standard [astropy.units.format.generic]\n"
     ]
    },
    {
     "name": "stdout",
     "output_type": "stream",
     "text": [
      "Processing spectrum 32\n",
      "Resampling axis\n",
      "/Users/dangause/Desktop/personal_projects/qso_cv/data/SDSS/DR16/5460/spec-5460-56000-0272.fits\n",
      "/Users/dangause/Desktop/personal_projects/qso_cv/data/SDSS/DR16/5460/spec-5460-56000-0272.fits\n",
      "Processing spectrum 33\n",
      "Resampling axis\n"
     ]
    },
    {
     "name": "stderr",
     "output_type": "stream",
     "text": [
      "WARNING: UnitsWarning: '1E-17 erg/cm^2/s/Angstrom' contains multiple slashes, which is discouraged by the FITS standard [astropy.units.format.generic]\n",
      "/Users/dangause/anaconda3/envs/sdss/lib/python3.10/site-packages/astropy/nddata/nduncertainty.py:1223: RuntimeWarning: divide by zero encountered in divide\n",
      "  new_array = None if self.array is None else 1 / self.array\n"
     ]
    },
    {
     "name": "stdout",
     "output_type": "stream",
     "text": [
      "/Users/dangause/Desktop/personal_projects/qso_cv/data/SDSS/DR16/4762/spec-4762-55888-0668.fits\n",
      "/Users/dangause/Desktop/personal_projects/qso_cv/data/SDSS/DR16/4762/spec-4762-55888-0668.fits\n",
      "Processing spectrum 34\n",
      "Resampling axis\n"
     ]
    },
    {
     "name": "stderr",
     "output_type": "stream",
     "text": [
      "WARNING: UnitsWarning: '1E-17 erg/cm^2/s/Angstrom' contains multiple slashes, which is discouraged by the FITS standard [astropy.units.format.generic]\n",
      "/Users/dangause/anaconda3/envs/sdss/lib/python3.10/site-packages/astropy/nddata/nduncertainty.py:1223: RuntimeWarning: divide by zero encountered in divide\n",
      "  new_array = None if self.array is None else 1 / self.array\n"
     ]
    },
    {
     "name": "stdout",
     "output_type": "stream",
     "text": [
      "/Users/dangause/Desktop/personal_projects/qso_cv/data/SDSS/DR16/7573/spec-7573-56946-0837.fits\n",
      "/Users/dangause/Desktop/personal_projects/qso_cv/data/SDSS/DR16/7573/spec-7573-56946-0837.fits\n",
      "Processing spectrum 35\n",
      "Resampling axis\n"
     ]
    },
    {
     "name": "stderr",
     "output_type": "stream",
     "text": [
      "WARNING: UnitsWarning: '1E-17 erg/cm^2/s/Angstrom' contains multiple slashes, which is discouraged by the FITS standard [astropy.units.format.generic]\n",
      "/Users/dangause/anaconda3/envs/sdss/lib/python3.10/site-packages/astropy/nddata/nduncertainty.py:1223: RuntimeWarning: divide by zero encountered in divide\n",
      "  new_array = None if self.array is None else 1 / self.array\n"
     ]
    },
    {
     "name": "stdout",
     "output_type": "stream",
     "text": [
      "/Users/dangause/Desktop/personal_projects/qso_cv/data/SDSS/DR16/6636/spec-6636-56367-0886.fits\n",
      "/Users/dangause/Desktop/personal_projects/qso_cv/data/SDSS/DR16/6636/spec-6636-56367-0886.fits\n",
      "Processing spectrum 36\n",
      "Resampling axis\n"
     ]
    },
    {
     "name": "stderr",
     "output_type": "stream",
     "text": [
      "WARNING: UnitsWarning: '1E-17 erg/cm^2/s/Angstrom' contains multiple slashes, which is discouraged by the FITS standard [astropy.units.format.generic]\n",
      "/Users/dangause/anaconda3/envs/sdss/lib/python3.10/site-packages/astropy/nddata/nduncertainty.py:1223: RuntimeWarning: divide by zero encountered in divide\n",
      "  new_array = None if self.array is None else 1 / self.array\n"
     ]
    },
    {
     "name": "stdout",
     "output_type": "stream",
     "text": [
      "/Users/dangause/Desktop/personal_projects/qso_cv/data/SDSS/DR16/5138/spec-5138-55830-0005.fits\n",
      "/Users/dangause/Desktop/personal_projects/qso_cv/data/SDSS/DR16/5138/spec-5138-55830-0005.fits\n",
      "Processing spectrum 37\n",
      "Resampling axis\n"
     ]
    },
    {
     "name": "stderr",
     "output_type": "stream",
     "text": [
      "WARNING: UnitsWarning: '1E-17 erg/cm^2/s/Angstrom' contains multiple slashes, which is discouraged by the FITS standard [astropy.units.format.generic]\n",
      "/Users/dangause/anaconda3/envs/sdss/lib/python3.10/site-packages/astropy/nddata/nduncertainty.py:1223: RuntimeWarning: divide by zero encountered in divide\n",
      "  new_array = None if self.array is None else 1 / self.array\n"
     ]
    },
    {
     "name": "stdout",
     "output_type": "stream",
     "text": [
      "/Users/dangause/Desktop/personal_projects/qso_cv/data/SDSS/DR16/4281/spec-4281-55836-0530.fits\n",
      "/Users/dangause/Desktop/personal_projects/qso_cv/data/SDSS/DR16/4281/spec-4281-55836-0530.fits\n",
      "Processing spectrum 38\n",
      "Resampling axis\n"
     ]
    },
    {
     "name": "stderr",
     "output_type": "stream",
     "text": [
      "WARNING: UnitsWarning: '1E-17 erg/cm^2/s/Angstrom' contains multiple slashes, which is discouraged by the FITS standard [astropy.units.format.generic]\n",
      "/Users/dangause/anaconda3/envs/sdss/lib/python3.10/site-packages/astropy/nddata/nduncertainty.py:1223: RuntimeWarning: divide by zero encountered in divide\n",
      "  new_array = None if self.array is None else 1 / self.array\n"
     ]
    },
    {
     "name": "stdout",
     "output_type": "stream",
     "text": [
      "/Users/dangause/Desktop/personal_projects/qso_cv/data/SDSS/DR16/3784/spec-3784-55269-0702.fits\n",
      "/Users/dangause/Desktop/personal_projects/qso_cv/data/SDSS/DR16/3784/spec-3784-55269-0702.fits\n",
      "Processing spectrum 39\n",
      "Resampling axis\n"
     ]
    },
    {
     "name": "stderr",
     "output_type": "stream",
     "text": [
      "WARNING: UnitsWarning: '1E-17 erg/cm^2/s/Angstrom' contains multiple slashes, which is discouraged by the FITS standard [astropy.units.format.generic]\n",
      "/Users/dangause/anaconda3/envs/sdss/lib/python3.10/site-packages/astropy/nddata/nduncertainty.py:1223: RuntimeWarning: divide by zero encountered in divide\n",
      "  new_array = None if self.array is None else 1 / self.array\n"
     ]
    },
    {
     "name": "stdout",
     "output_type": "stream",
     "text": [
      "/Users/dangause/Desktop/personal_projects/qso_cv/data/SDSS/DR16/8302/spec-8302-57389-0498.fits\n",
      "/Users/dangause/Desktop/personal_projects/qso_cv/data/SDSS/DR16/8302/spec-8302-57389-0498.fits\n",
      "Processing spectrum 40\n",
      "Resampling axis\n"
     ]
    },
    {
     "name": "stderr",
     "output_type": "stream",
     "text": [
      "WARNING: UnitsWarning: '1E-17 erg/cm^2/s/Angstrom' contains multiple slashes, which is discouraged by the FITS standard [astropy.units.format.generic]\n",
      "/Users/dangause/anaconda3/envs/sdss/lib/python3.10/site-packages/astropy/nddata/nduncertainty.py:1223: RuntimeWarning: divide by zero encountered in divide\n",
      "  new_array = None if self.array is None else 1 / self.array\n"
     ]
    },
    {
     "name": "stdout",
     "output_type": "stream",
     "text": [
      "/Users/dangause/Desktop/personal_projects/qso_cv/data/SDSS/DR16/8542/spec-8542-57933-0456.fits\n",
      "/Users/dangause/Desktop/personal_projects/qso_cv/data/SDSS/DR16/8542/spec-8542-57933-0456.fits\n",
      "Processing spectrum 41\n",
      "Resampling axis\n"
     ]
    },
    {
     "name": "stderr",
     "output_type": "stream",
     "text": [
      "WARNING: UnitsWarning: '1E-17 erg/cm^2/s/Angstrom' contains multiple slashes, which is discouraged by the FITS standard [astropy.units.format.generic]\n",
      "/Users/dangause/anaconda3/envs/sdss/lib/python3.10/site-packages/astropy/nddata/nduncertainty.py:1223: RuntimeWarning: divide by zero encountered in divide\n",
      "  new_array = None if self.array is None else 1 / self.array\n"
     ]
    },
    {
     "name": "stdout",
     "output_type": "stream",
     "text": [
      "/Users/dangause/Desktop/personal_projects/qso_cv/data/SDSS/DR16/8871/spec-8871-57519-0026.fits\n",
      "/Users/dangause/Desktop/personal_projects/qso_cv/data/SDSS/DR16/8871/spec-8871-57519-0026.fits\n",
      "Processing spectrum 42\n",
      "Resampling axis\n"
     ]
    },
    {
     "name": "stderr",
     "output_type": "stream",
     "text": [
      "WARNING: UnitsWarning: '1E-17 erg/cm^2/s/Angstrom' contains multiple slashes, which is discouraged by the FITS standard [astropy.units.format.generic]\n",
      "/Users/dangause/anaconda3/envs/sdss/lib/python3.10/site-packages/astropy/nddata/nduncertainty.py:1223: RuntimeWarning: divide by zero encountered in divide\n",
      "  new_array = None if self.array is None else 1 / self.array\n"
     ]
    },
    {
     "name": "stdout",
     "output_type": "stream",
     "text": [
      "/Users/dangause/Desktop/personal_projects/qso_cv/data/SDSS/DR16/7735/spec-7735-58136-0646.fits\n",
      "/Users/dangause/Desktop/personal_projects/qso_cv/data/SDSS/DR16/7735/spec-7735-58136-0646.fits\n",
      "Processing spectrum 43\n",
      "Resampling axis\n"
     ]
    },
    {
     "name": "stderr",
     "output_type": "stream",
     "text": [
      "WARNING: UnitsWarning: '1E-17 erg/cm^2/s/Angstrom' contains multiple slashes, which is discouraged by the FITS standard [astropy.units.format.generic]\n"
     ]
    },
    {
     "name": "stdout",
     "output_type": "stream",
     "text": [
      "/Users/dangause/Desktop/personal_projects/qso_cv/data/SDSS/DR16/6203/spec-6203-56266-0200.fits\n",
      "/Users/dangause/Desktop/personal_projects/qso_cv/data/SDSS/DR16/6203/spec-6203-56266-0200.fits\n"
     ]
    },
    {
     "name": "stderr",
     "output_type": "stream",
     "text": [
      "WARNING: UnitsWarning: '1E-17 erg/cm^2/s/Angstrom' contains multiple slashes, which is discouraged by the FITS standard [astropy.units.format.generic]\n"
     ]
    },
    {
     "name": "stdout",
     "output_type": "stream",
     "text": [
      "Processing spectrum 44\n",
      "Resampling axis\n",
      "/Users/dangause/Desktop/personal_projects/qso_cv/data/SDSS/DR16/11073/spec-11073-58451-0986.fits\n",
      "/Users/dangause/Desktop/personal_projects/qso_cv/data/SDSS/DR16/11073/spec-11073-58451-0986.fits\n",
      "Processing spectrum 45\n",
      "Resampling axis\n"
     ]
    },
    {
     "name": "stderr",
     "output_type": "stream",
     "text": [
      "WARNING: UnitsWarning: '1E-17 erg/cm^2/s/Angstrom' contains multiple slashes, which is discouraged by the FITS standard [astropy.units.format.generic]\n",
      "/Users/dangause/anaconda3/envs/sdss/lib/python3.10/site-packages/astropy/nddata/nduncertainty.py:1223: RuntimeWarning: divide by zero encountered in divide\n",
      "  new_array = None if self.array is None else 1 / self.array\n"
     ]
    },
    {
     "name": "stdout",
     "output_type": "stream",
     "text": [
      "/Users/dangause/Desktop/personal_projects/qso_cv/data/SDSS/DR16/7630/spec-7630-57006-0839.fits\n",
      "/Users/dangause/Desktop/personal_projects/qso_cv/data/SDSS/DR16/7630/spec-7630-57006-0839.fits\n",
      "Processing spectrum 46\n",
      "Resampling axis\n"
     ]
    },
    {
     "name": "stderr",
     "output_type": "stream",
     "text": [
      "WARNING: UnitsWarning: '1E-17 erg/cm^2/s/Angstrom' contains multiple slashes, which is discouraged by the FITS standard [astropy.units.format.generic]\n",
      "/Users/dangause/anaconda3/envs/sdss/lib/python3.10/site-packages/astropy/nddata/nduncertainty.py:1223: RuntimeWarning: divide by zero encountered in divide\n",
      "  new_array = None if self.array is None else 1 / self.array\n"
     ]
    },
    {
     "name": "stdout",
     "output_type": "stream",
     "text": [
      "/Users/dangause/Desktop/personal_projects/qso_cv/data/SDSS/DR16/6147/spec-6147-56239-0674.fits\n",
      "/Users/dangause/Desktop/personal_projects/qso_cv/data/SDSS/DR16/6147/spec-6147-56239-0674.fits\n",
      "Processing spectrum 47\n",
      "Resampling axis\n"
     ]
    },
    {
     "name": "stderr",
     "output_type": "stream",
     "text": [
      "WARNING: UnitsWarning: '1E-17 erg/cm^2/s/Angstrom' contains multiple slashes, which is discouraged by the FITS standard [astropy.units.format.generic]\n",
      "/Users/dangause/anaconda3/envs/sdss/lib/python3.10/site-packages/astropy/nddata/nduncertainty.py:1223: RuntimeWarning: divide by zero encountered in divide\n",
      "  new_array = None if self.array is None else 1 / self.array\n"
     ]
    },
    {
     "name": "stdout",
     "output_type": "stream",
     "text": [
      "/Users/dangause/Desktop/personal_projects/qso_cv/data/SDSS/DR16/5799/spec-5799-56325-0078.fits\n",
      "/Users/dangause/Desktop/personal_projects/qso_cv/data/SDSS/DR16/5799/spec-5799-56325-0078.fits\n"
     ]
    },
    {
     "name": "stderr",
     "output_type": "stream",
     "text": [
      "WARNING: UnitsWarning: '1E-17 erg/cm^2/s/Angstrom' contains multiple slashes, which is discouraged by the FITS standard [astropy.units.format.generic]\n"
     ]
    },
    {
     "name": "stdout",
     "output_type": "stream",
     "text": [
      "Processing spectrum 48\n",
      "Resampling axis\n",
      "/Users/dangause/Desktop/personal_projects/qso_cv/data/SDSS/DR16/5327/spec-5327-55979-0809.fits\n",
      "/Users/dangause/Desktop/personal_projects/qso_cv/data/SDSS/DR16/5327/spec-5327-55979-0809.fits\n",
      "Processing spectrum 49\n",
      "Resampling axis\n"
     ]
    },
    {
     "name": "stderr",
     "output_type": "stream",
     "text": [
      "WARNING: UnitsWarning: '1E-17 erg/cm^2/s/Angstrom' contains multiple slashes, which is discouraged by the FITS standard [astropy.units.format.generic]\n",
      "/Users/dangause/anaconda3/envs/sdss/lib/python3.10/site-packages/astropy/nddata/nduncertainty.py:1223: RuntimeWarning: divide by zero encountered in divide\n",
      "  new_array = None if self.array is None else 1 / self.array\n"
     ]
    }
   ],
   "source": [
    "from specutils import SpectrumCollection\n",
    "from specutils.manipulation import FluxConservingResampler\n",
    "fluxcon = FluxConservingResampler()\n",
    "\n",
    "spec_l = []\n",
    "\n",
    "for idx, row in nonbal_qso_samp_df.iloc[0:50].iterrows():\n",
    "    spec = qso_spectra.fetch_sdss_spectrum(row.PLATE, row.MJD, row.FIBERID, row.Z, data_release=16)\n",
    "    spec.shift_spectrum_to(redshift=0)\n",
    "    spec = spec[1260*u.AA:2400*u.AA]\n",
    "    print(f'Processing spectrum {idx}')\n",
    "    if idx == 0:\n",
    "        spectral_axis = spec.spectral_axis\n",
    "        bins = len(spec.spectral_axis)\n",
    "    else:\n",
    "        if not np.array_equal(spec.spectral_axis, spectral_axis):\n",
    "            print('Resampling axis')\n",
    "            spec = fluxcon(spec, spectral_axis)\n",
    "    spec_l.append(spec)\n",
    "\n"
   ]
  },
  {
   "cell_type": "code",
   "execution_count": null,
   "metadata": {},
   "outputs": [],
   "source": []
  },
  {
   "cell_type": "code",
   "execution_count": 5,
   "metadata": {},
   "outputs": [],
   "source": [
    "from src.wrangle.sdss.tools.sdss_fits import sdss_fits_url"
   ]
  },
  {
   "cell_type": "code",
   "execution_count": 10,
   "metadata": {},
   "outputs": [
    {
     "name": "stdout",
     "output_type": "stream",
     "text": [
      "https://data.sdss.org/sas/dr16/eboss/spectro/redux/v5_13_0/spectra/lite/4622/spec-4622-55629-0228.fits\n",
      "https://data.sdss.org/sas/dr16/eboss/spectro/redux/v5_13_0/spectra/lite/5493/spec-5493-56009-0344.fits\n",
      "https://data.sdss.org/sas/dr16/eboss/spectro/redux/v5_13_0/spectra/lite/5134/spec-5134-55868-0866.fits\n",
      "https://data.sdss.org/sas/dr16/eboss/spectro/redux/v5_13_0/spectra/lite/6131/spec-6131-56211-0476.fits\n",
      "https://data.sdss.org/sas/dr16/eboss/spectro/redux/v5_13_0/spectra/lite/5346/spec-5346-55955-0784.fits\n"
     ]
    }
   ],
   "source": [
    "for idx, row in nonbal_qso_samp_df.iloc[0:5].iterrows():\n",
    "    print(sdss_fits_url(row.PLATE, row.MJD, row.FIBERID, sdss_dr='DR16'))"
   ]
  },
  {
   "cell_type": "code",
   "execution_count": 6,
   "metadata": {},
   "outputs": [
    {
     "name": "stdout",
     "output_type": "stream",
     "text": [
      "true\n"
     ]
    }
   ],
   "source": [
    "if not None:\n",
    "    print('true')"
   ]
  },
  {
   "cell_type": "code",
   "execution_count": null,
   "metadata": {},
   "outputs": [],
   "source": []
  }
 ],
 "metadata": {
  "kernelspec": {
   "display_name": "sdss",
   "language": "python",
   "name": "python3"
  },
  "language_info": {
   "codemirror_mode": {
    "name": "ipython",
    "version": 3
   },
   "file_extension": ".py",
   "mimetype": "text/x-python",
   "name": "python",
   "nbconvert_exporter": "python",
   "pygments_lexer": "ipython3",
   "version": "3.10.6"
  }
 },
 "nbformat": 4,
 "nbformat_minor": 2
}
