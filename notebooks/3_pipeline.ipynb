{
 "cells": [
  {
   "cell_type": "code",
   "execution_count": 8,
   "metadata": {},
   "outputs": [],
   "source": [
    "import numpy as np\n",
    "import warnings\n",
    "import pandas as pd\n",
    "\n",
    "from sklearn.base import BaseEstimator, TransformerMixin\n",
    "from sklearn.pipeline import FeatureUnion, Pipeline\n",
    "from sklearn.decomposition import PCA\n",
    "from scipy.signal import find_peaks, peak_widths\n",
    "\n",
    "import astropy\n",
    "from astropy.table import Table\n",
    "from astropy.io import fits\n",
    "from astropy import units as u\n",
    "\n",
    "warnings.filterwarnings('ignore')"
   ]
  },
  {
   "cell_type": "code",
   "execution_count": 2,
   "metadata": {},
   "outputs": [],
   "source": [
    "X_full_path = '../data/X_full.npy'\n",
    "X_full = np.load(X_full_path)\n",
    "\n",
    "wavelengths_path = '../data/wavelengths.npy'\n",
    "wavelengths = np.load(wavelengths_path)\n"
   ]
  },
  {
   "cell_type": "code",
   "execution_count": 7,
   "metadata": {},
   "outputs": [
    {
     "data": {
      "text/plain": [
       "array([[1.19550204, 1.03793788, 1.25705957, ..., 0.19054089, 0.47583213,\n",
       "        0.43016803],\n",
       "       [7.60315248, 7.13697939, 6.64533472, ..., 3.12152142, 3.13476166,\n",
       "        3.37540529],\n",
       "       [5.31835146, 5.16014164, 4.86810956, ..., 1.1297361 , 1.09039694,\n",
       "        1.71308875],\n",
       "       ...,\n",
       "       [2.52033424, 2.72489985, 2.60168448, ..., 0.77349984, 0.83812168,\n",
       "        0.71297602],\n",
       "       [3.12595589, 2.91660415, 3.53408267, ..., 1.09230628, 1.38101776,\n",
       "        1.1850602 ],\n",
       "       [2.72489721, 3.02516791, 1.20496079, ..., 0.28848155, 0.37093287,\n",
       "        0.27019219]])"
      ]
     },
     "execution_count": 7,
     "metadata": {},
     "output_type": "execute_result"
    }
   ],
   "source": [
    "X_full"
   ]
  },
  {
   "cell_type": "code",
   "execution_count": null,
   "metadata": {},
   "outputs": [],
   "source": []
  },
  {
   "cell_type": "code",
   "execution_count": null,
   "metadata": {},
   "outputs": [],
   "source": [
    "dr16q_filename = '../data/DR16Q_v4.fits'\n",
    "\n",
    "hdul = fits.open(dr16q_filename)"
   ]
  },
  {
   "cell_type": "code",
   "execution_count": null,
   "metadata": {},
   "outputs": [],
   "source": []
  },
  {
   "cell_type": "code",
   "execution_count": null,
   "metadata": {},
   "outputs": [],
   "source": []
  },
  {
   "cell_type": "code",
   "execution_count": null,
   "metadata": {},
   "outputs": [],
   "source": [
    "\n",
    "X_train = X\n",
    "\n",
    "pca = PCA(n_components=5, svd_solver='full', random_state=12345)\n",
    "# pca_mle = PCA(n_components='mle', random_state=1234)\n",
    "\n",
    "pca.fit(X_train)"
   ]
  },
  {
   "cell_type": "code",
   "execution_count": null,
   "metadata": {},
   "outputs": [],
   "source": [
    "class CustomPCA(PCA):\n",
    "    def __init__(self, **kwargs):\n",
    "        super().__init__(**kwargs)\n",
    "\n",
    "    def get_bal_mask(flux, wavelengths, rest_wavelength=1549.48, v_range=[-25000, 0], min_trough_depth=0.4, min_trough_width=2000, max_trough_width=25000, plt_return=False):\n",
    "        # Finding the minimum limit to search for troughs i.e. blueshifts of up to -25,000km/s\n",
    "        min_trough_lim = ( ( v_range[0]*u.km/u.s )/(astropy.constants.c) + 1 ) * ( rest_wavelength * u.AA )\n",
    "        min_trough_disp = rest_wavelength * u.AA - min_trough_lim\n",
    "\n",
    "        # Finding the minimum limit to search for troughs i.e. blueshifts of up to -25,000km/s\n",
    "        min_bal_lim = ( ( min_trough_width*u.km/u.s )/(astropy.constants.c) + 1 ) * ( rest_wavelength * u.AA )\n",
    "        min_bal_trough_width = np.abs(rest_wavelength * u.AA - min_bal_lim).value\n",
    "        # Finding the max limit to search for troughs i.e. blueshifts of up to -25,000km/s\n",
    "        max_bal_lim = ( ( max_trough_width*u.km/u.s )/(astropy.constants.c) + 1 ) * ( rest_wavelength * u.AA )\n",
    "        max_bal_trough_width = np.abs(rest_wavelength * u.AA - max_bal_lim).value\n",
    "\n",
    "        # Load quasar spectral data\n",
    "        wavelength = np.array(spec.spectral_axis)\n",
    "        flux = np.array(spec.flux)\n",
    "\n",
    "        # flux = flux / np.nanmax(flux)\n",
    "\n",
    "        # Finding the minimum limit to search for troughs i.e. blueshifts of up to -25,000km/s\n",
    "        min_trough_lim = ( ( v_range[0]*u.km/u.s )/(astropy.constants.c) + 1 ) * ( rest_wavelength * u.AA )\n",
    "        min_trough_disp = (rest_wavelength * u.AA - min_trough_lim).value\n",
    "\n",
    "        # Find indices corresponding to the region of interest\n",
    "        civ_indices = np.where((wavelength >= (rest_wavelength - min_trough_disp)) &\n",
    "                            (wavelength <= rest_wavelength))[0]\n",
    "\n",
    "        # Extract wavelength and flux data within the defined window\n",
    "        civ_wavelength = wavelength[civ_indices]\n",
    "        civ_flux = flux[civ_indices]\n",
    "\n",
    "        # Smooth the flux data to enhance peak detection\n",
    "        smoothed_flux = np.convolve(civ_flux, np.ones(5)/5, mode='valid')\n",
    "\n",
    "        # Find peaks (troughs) in the smoothed flux data\n",
    "        trough_indices, _ = find_peaks(-smoothed_flux, prominence = 1.5, width=[min_bal_trough_width,max_bal_trough_width] )\n",
    "        trough_widths, _, _, _ = peak_widths(-smoothed_flux, trough_indices, rel_height=1)\n",
    "\n",
    "        if len(trough_indices) > 0:\n",
    "            # Set the mask region\n",
    "            min_mask_wavelength = civ_wavelength[trough_indices.min()] - trough_widths[trough_indices.argmin()]/2\n",
    "            bal_mask = [min_mask_wavelength, rest_wavelength]\n",
    "        else:\n",
    "            bal_mask = None\n",
    "\n",
    "        if plt_return:\n",
    "            return bal_mask, wavelength, flux, civ_wavelength, smoothed_flux, civ_wavelength, trough_indices, trough_widths\n",
    "        else:\n",
    "            return bal_mask\n",
    "        \n",
    "    def \n",
    "    \n",
    "    def fit(self, X, y=None):\n",
    "        X = X[X.pca_train == 1]\n",
    "        transformed_X = super().fit(X)\n",
    "        new_X = pd.DataFrame(transformed_X, columns=self.feature_names_in_)\n",
    "        return new_X"
   ]
  }
 ],
 "metadata": {
  "kernelspec": {
   "display_name": "sdss",
   "language": "python",
   "name": "python3"
  },
  "language_info": {
   "codemirror_mode": {
    "name": "ipython",
    "version": 3
   },
   "file_extension": ".py",
   "mimetype": "text/x-python",
   "name": "python",
   "nbconvert_exporter": "python",
   "pygments_lexer": "ipython3",
   "version": "3.10.6"
  }
 },
 "nbformat": 4,
 "nbformat_minor": 2
}
