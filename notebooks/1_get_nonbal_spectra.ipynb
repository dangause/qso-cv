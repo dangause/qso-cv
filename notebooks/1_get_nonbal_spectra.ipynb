{
 "cells": [
  {
   "cell_type": "code",
   "execution_count": 4,
   "metadata": {},
   "outputs": [],
   "source": [
    "import os \n",
    "import re\n",
    "import sys\n",
    "module_path = os.path.abspath(os.path.join('..'))\n",
    "if module_path not in sys.path:\n",
    "    sys.path.append(module_path)"
   ]
  },
  {
   "cell_type": "code",
   "execution_count": 5,
   "metadata": {},
   "outputs": [],
   "source": [
    "import numpy as np\n",
    "\n",
    "import pandas as pd\n",
    "from matplotlib import pyplot as plt\n",
    "\n",
    "import astroquery\n",
    "from astroquery.sdss import SDSS\n",
    "import astropy\n",
    "from astropy.table import Table\n",
    "from astropy.io import fits\n",
    "from astropy import units as u\n",
    "\n",
    "from specutils import SpectrumCollection\n",
    "\n",
    "from src.wrangle.sdss.qso_spectra import QsoSpectraDataset\n"
   ]
  },
  {
   "cell_type": "code",
   "execution_count": 6,
   "metadata": {},
   "outputs": [],
   "source": [
    "nonbal_qso_samp_path = '../data/nonbal_qso_samp.csv'\n",
    "nonbal_qso_samp_df = pd.read_csv(nonbal_qso_samp_path, index_col=0)\n",
    "test_samp_df = nonbal_qso_samp_df.iloc[0:20]"
   ]
  },
  {
   "cell_type": "code",
   "execution_count": 7,
   "metadata": {},
   "outputs": [],
   "source": [
    "qso_spectra = QsoSpectraDataset()"
   ]
  },
  {
   "cell_type": "code",
   "execution_count": 8,
   "metadata": {},
   "outputs": [
    {
     "name": "stdout",
     "output_type": "stream",
     "text": [
      "/Users/dangause/Desktop/personal_projects/qso_cv/data/SDSS/DR16/4622/spec-4622-55629-0228.fits\n",
      "/Users/dangause/Desktop/personal_projects/qso_cv/data/SDSS/DR16/4622/spec-4622-55629-0228.fits\n",
      "Processing spectrum 0\n",
      "/Users/dangause/Desktop/personal_projects/qso_cv/data/SDSS/DR16/5493/spec-5493-56009-0344.fits\n",
      "/Users/dangause/Desktop/personal_projects/qso_cv/data/SDSS/DR16/5493/spec-5493-56009-0344.fits\n",
      "Processing spectrum 1\n",
      "Resampling axis\n"
     ]
    },
    {
     "name": "stderr",
     "output_type": "stream",
     "text": [
      "WARNING: UnitsWarning: '1E-17 erg/cm^2/s/Angstrom' contains multiple slashes, which is discouraged by the FITS standard [astropy.units.format.generic]\n",
      "WARNING: UnitsWarning: '1E-17 erg/cm^2/s/Angstrom' contains multiple slashes, which is discouraged by the FITS standard [astropy.units.format.generic]\n"
     ]
    },
    {
     "name": "stdout",
     "output_type": "stream",
     "text": [
      "/Users/dangause/Desktop/personal_projects/qso_cv/data/SDSS/DR16/5134/spec-5134-55868-0866.fits\n",
      "/Users/dangause/Desktop/personal_projects/qso_cv/data/SDSS/DR16/5134/spec-5134-55868-0866.fits\n",
      "Processing spectrum 2\n",
      "Resampling axis\n"
     ]
    },
    {
     "name": "stderr",
     "output_type": "stream",
     "text": [
      "WARNING: UnitsWarning: '1E-17 erg/cm^2/s/Angstrom' contains multiple slashes, which is discouraged by the FITS standard [astropy.units.format.generic]\n",
      "/Users/dangause/anaconda3/envs/sdss/lib/python3.10/site-packages/astropy/nddata/nduncertainty.py:1223: RuntimeWarning: divide by zero encountered in divide\n",
      "  new_array = None if self.array is None else 1 / self.array\n"
     ]
    },
    {
     "name": "stdout",
     "output_type": "stream",
     "text": [
      "/Users/dangause/Desktop/personal_projects/qso_cv/data/SDSS/DR16/6131/spec-6131-56211-0476.fits\n",
      "/Users/dangause/Desktop/personal_projects/qso_cv/data/SDSS/DR16/6131/spec-6131-56211-0476.fits\n",
      "Processing spectrum 3\n",
      "Resampling axis\n"
     ]
    },
    {
     "name": "stderr",
     "output_type": "stream",
     "text": [
      "WARNING: UnitsWarning: '1E-17 erg/cm^2/s/Angstrom' contains multiple slashes, which is discouraged by the FITS standard [astropy.units.format.generic]\n",
      "/Users/dangause/anaconda3/envs/sdss/lib/python3.10/site-packages/astropy/nddata/nduncertainty.py:1223: RuntimeWarning: divide by zero encountered in divide\n",
      "  new_array = None if self.array is None else 1 / self.array\n"
     ]
    },
    {
     "name": "stdout",
     "output_type": "stream",
     "text": [
      "/Users/dangause/Desktop/personal_projects/qso_cv/data/SDSS/DR16/5346/spec-5346-55955-0784.fits\n",
      "/Users/dangause/Desktop/personal_projects/qso_cv/data/SDSS/DR16/5346/spec-5346-55955-0784.fits\n"
     ]
    },
    {
     "name": "stderr",
     "output_type": "stream",
     "text": [
      "WARNING: UnitsWarning: '1E-17 erg/cm^2/s/Angstrom' contains multiple slashes, which is discouraged by the FITS standard [astropy.units.format.generic]\n",
      "/Users/dangause/anaconda3/envs/sdss/lib/python3.10/site-packages/astropy/nddata/nduncertainty.py:1223: RuntimeWarning: divide by zero encountered in divide\n",
      "  new_array = None if self.array is None else 1 / self.array\n"
     ]
    },
    {
     "name": "stdout",
     "output_type": "stream",
     "text": [
      "Processing spectrum 4\n",
      "Resampling axis\n",
      "/Users/dangause/Desktop/personal_projects/qso_cv/data/SDSS/DR16/7850/spec-7850-56956-0216.fits\n",
      "/Users/dangause/Desktop/personal_projects/qso_cv/data/SDSS/DR16/7850/spec-7850-56956-0216.fits\n",
      "Processing spectrum 5\n",
      "Resampling axis\n"
     ]
    },
    {
     "name": "stderr",
     "output_type": "stream",
     "text": [
      "WARNING: UnitsWarning: '1E-17 erg/cm^2/s/Angstrom' contains multiple slashes, which is discouraged by the FITS standard [astropy.units.format.generic]\n",
      "/Users/dangause/anaconda3/envs/sdss/lib/python3.10/site-packages/astropy/nddata/nduncertainty.py:1223: RuntimeWarning: divide by zero encountered in divide\n",
      "  new_array = None if self.array is None else 1 / self.array\n"
     ]
    },
    {
     "name": "stdout",
     "output_type": "stream",
     "text": [
      "/Users/dangause/Desktop/personal_projects/qso_cv/data/SDSS/DR16/5986/spec-5986-56328-0606.fits\n",
      "/Users/dangause/Desktop/personal_projects/qso_cv/data/SDSS/DR16/5986/spec-5986-56328-0606.fits\n",
      "Processing spectrum 6\n",
      "Resampling axis\n"
     ]
    },
    {
     "name": "stderr",
     "output_type": "stream",
     "text": [
      "WARNING: UnitsWarning: '1E-17 erg/cm^2/s/Angstrom' contains multiple slashes, which is discouraged by the FITS standard [astropy.units.format.generic]\n"
     ]
    },
    {
     "name": "stdout",
     "output_type": "stream",
     "text": [
      "/Users/dangause/Desktop/personal_projects/qso_cv/data/SDSS/DR16/4280/spec-4280-55503-0586.fits\n",
      "/Users/dangause/Desktop/personal_projects/qso_cv/data/SDSS/DR16/4280/spec-4280-55503-0586.fits\n",
      "Processing spectrum 7\n",
      "Resampling axis\n"
     ]
    },
    {
     "name": "stderr",
     "output_type": "stream",
     "text": [
      "WARNING: UnitsWarning: '1E-17 erg/cm^2/s/Angstrom' contains multiple slashes, which is discouraged by the FITS standard [astropy.units.format.generic]\n",
      "/Users/dangause/anaconda3/envs/sdss/lib/python3.10/site-packages/astropy/nddata/nduncertainty.py:1223: RuntimeWarning: divide by zero encountered in divide\n",
      "  new_array = None if self.array is None else 1 / self.array\n"
     ]
    },
    {
     "name": "stdout",
     "output_type": "stream",
     "text": [
      "/Users/dangause/Desktop/personal_projects/qso_cv/data/SDSS/DR16/9356/spec-9356-57809-0896.fits\n",
      "/Users/dangause/Desktop/personal_projects/qso_cv/data/SDSS/DR16/9356/spec-9356-57809-0896.fits\n",
      "Processing spectrum 8\n",
      "Resampling axis\n"
     ]
    },
    {
     "name": "stderr",
     "output_type": "stream",
     "text": [
      "WARNING: UnitsWarning: '1E-17 erg/cm^2/s/Angstrom' contains multiple slashes, which is discouraged by the FITS standard [astropy.units.format.generic]\n"
     ]
    },
    {
     "name": "stdout",
     "output_type": "stream",
     "text": [
      "/Users/dangause/Desktop/personal_projects/qso_cv/data/SDSS/DR16/5466/spec-5466-56033-0208.fits\n",
      "/Users/dangause/Desktop/personal_projects/qso_cv/data/SDSS/DR16/5466/spec-5466-56033-0208.fits\n",
      "Processing spectrum 9\n",
      "Resampling axis\n"
     ]
    },
    {
     "name": "stderr",
     "output_type": "stream",
     "text": [
      "WARNING: UnitsWarning: '1E-17 erg/cm^2/s/Angstrom' contains multiple slashes, which is discouraged by the FITS standard [astropy.units.format.generic]\n",
      "/Users/dangause/anaconda3/envs/sdss/lib/python3.10/site-packages/astropy/nddata/nduncertainty.py:1223: RuntimeWarning: divide by zero encountered in divide\n",
      "  new_array = None if self.array is None else 1 / self.array\n"
     ]
    },
    {
     "name": "stdout",
     "output_type": "stream",
     "text": [
      "/Users/dangause/Desktop/personal_projects/qso_cv/data/SDSS/DR16/4660/spec-4660-56191-0212.fits\n",
      "/Users/dangause/Desktop/personal_projects/qso_cv/data/SDSS/DR16/4660/spec-4660-56191-0212.fits\n",
      "Processing spectrum 10\n",
      "Resampling axis\n"
     ]
    },
    {
     "name": "stderr",
     "output_type": "stream",
     "text": [
      "WARNING: UnitsWarning: '1E-17 erg/cm^2/s/Angstrom' contains multiple slashes, which is discouraged by the FITS standard [astropy.units.format.generic]\n",
      "/Users/dangause/anaconda3/envs/sdss/lib/python3.10/site-packages/astropy/nddata/nduncertainty.py:1223: RuntimeWarning: divide by zero encountered in divide\n",
      "  new_array = None if self.array is None else 1 / self.array\n"
     ]
    },
    {
     "name": "stdout",
     "output_type": "stream",
     "text": [
      "/Users/dangause/Desktop/personal_projects/qso_cv/data/SDSS/DR16/6727/spec-6727-56369-0336.fits\n",
      "/Users/dangause/Desktop/personal_projects/qso_cv/data/SDSS/DR16/6727/spec-6727-56369-0336.fits\n",
      "Processing spectrum 11\n",
      "Resampling axis\n"
     ]
    },
    {
     "name": "stderr",
     "output_type": "stream",
     "text": [
      "WARNING: UnitsWarning: '1E-17 erg/cm^2/s/Angstrom' contains multiple slashes, which is discouraged by the FITS standard [astropy.units.format.generic]\n",
      "/Users/dangause/anaconda3/envs/sdss/lib/python3.10/site-packages/astropy/nddata/nduncertainty.py:1223: RuntimeWarning: divide by zero encountered in divide\n",
      "  new_array = None if self.array is None else 1 / self.array\n"
     ]
    },
    {
     "name": "stdout",
     "output_type": "stream",
     "text": [
      "/Users/dangause/Desktop/personal_projects/qso_cv/data/SDSS/DR16/7287/spec-7287-57042-0334.fits\n",
      "/Users/dangause/Desktop/personal_projects/qso_cv/data/SDSS/DR16/7287/spec-7287-57042-0334.fits\n",
      "Processing spectrum 12\n",
      "Resampling axis\n"
     ]
    },
    {
     "name": "stderr",
     "output_type": "stream",
     "text": [
      "WARNING: UnitsWarning: '1E-17 erg/cm^2/s/Angstrom' contains multiple slashes, which is discouraged by the FITS standard [astropy.units.format.generic]\n",
      "/Users/dangause/anaconda3/envs/sdss/lib/python3.10/site-packages/astropy/nddata/nduncertainty.py:1223: RuntimeWarning: divide by zero encountered in divide\n",
      "  new_array = None if self.array is None else 1 / self.array\n"
     ]
    },
    {
     "name": "stdout",
     "output_type": "stream",
     "text": [
      "/Users/dangause/Desktop/personal_projects/qso_cv/data/SDSS/DR16/6828/spec-6828-56430-0146.fits\n",
      "/Users/dangause/Desktop/personal_projects/qso_cv/data/SDSS/DR16/6828/spec-6828-56430-0146.fits\n"
     ]
    },
    {
     "name": "stderr",
     "output_type": "stream",
     "text": [
      "WARNING: UnitsWarning: '1E-17 erg/cm^2/s/Angstrom' contains multiple slashes, which is discouraged by the FITS standard [astropy.units.format.generic]\n",
      "/Users/dangause/anaconda3/envs/sdss/lib/python3.10/site-packages/astropy/nddata/nduncertainty.py:1223: RuntimeWarning: divide by zero encountered in divide\n",
      "  new_array = None if self.array is None else 1 / self.array\n"
     ]
    },
    {
     "name": "stdout",
     "output_type": "stream",
     "text": [
      "Processing spectrum 13\n",
      "Resampling axis\n",
      "/Users/dangause/Desktop/personal_projects/qso_cv/data/SDSS/DR16/11124/spec-11124-58430-0430.fits\n",
      "/Users/dangause/Desktop/personal_projects/qso_cv/data/SDSS/DR16/11124/spec-11124-58430-0430.fits\n",
      "Processing spectrum 14\n",
      "Resampling axis\n"
     ]
    },
    {
     "name": "stderr",
     "output_type": "stream",
     "text": [
      "WARNING: UnitsWarning: '1E-17 erg/cm^2/s/Angstrom' contains multiple slashes, which is discouraged by the FITS standard [astropy.units.format.generic]\n",
      "/Users/dangause/anaconda3/envs/sdss/lib/python3.10/site-packages/astropy/nddata/nduncertainty.py:1223: RuntimeWarning: divide by zero encountered in divide\n",
      "  new_array = None if self.array is None else 1 / self.array\n"
     ]
    },
    {
     "name": "stdout",
     "output_type": "stream",
     "text": [
      "/Users/dangause/Desktop/personal_projects/qso_cv/data/SDSS/DR16/8499/spec-8499-57431-0216.fits\n",
      "/Users/dangause/Desktop/personal_projects/qso_cv/data/SDSS/DR16/8499/spec-8499-57431-0216.fits\n",
      "Processing spectrum 15\n",
      "Resampling axis\n"
     ]
    },
    {
     "name": "stderr",
     "output_type": "stream",
     "text": [
      "WARNING: UnitsWarning: '1E-17 erg/cm^2/s/Angstrom' contains multiple slashes, which is discouraged by the FITS standard [astropy.units.format.generic]\n"
     ]
    },
    {
     "name": "stdout",
     "output_type": "stream",
     "text": [
      "/Users/dangause/Desktop/personal_projects/qso_cv/data/SDSS/DR16/6300/spec-6300-56449-0982.fits\n",
      "/Users/dangause/Desktop/personal_projects/qso_cv/data/SDSS/DR16/6300/spec-6300-56449-0982.fits\n",
      "Processing spectrum 16\n",
      "Resampling axis\n"
     ]
    },
    {
     "name": "stderr",
     "output_type": "stream",
     "text": [
      "WARNING: UnitsWarning: '1E-17 erg/cm^2/s/Angstrom' contains multiple slashes, which is discouraged by the FITS standard [astropy.units.format.generic]\n",
      "/Users/dangause/anaconda3/envs/sdss/lib/python3.10/site-packages/astropy/nddata/nduncertainty.py:1223: RuntimeWarning: divide by zero encountered in divide\n",
      "  new_array = None if self.array is None else 1 / self.array\n"
     ]
    },
    {
     "name": "stdout",
     "output_type": "stream",
     "text": [
      "/Users/dangause/Desktop/personal_projects/qso_cv/data/SDSS/DR16/5349/spec-5349-55929-0402.fits\n",
      "/Users/dangause/Desktop/personal_projects/qso_cv/data/SDSS/DR16/5349/spec-5349-55929-0402.fits\n",
      "Processing spectrum 17\n",
      "Resampling axis\n"
     ]
    },
    {
     "name": "stderr",
     "output_type": "stream",
     "text": [
      "WARNING: UnitsWarning: '1E-17 erg/cm^2/s/Angstrom' contains multiple slashes, which is discouraged by the FITS standard [astropy.units.format.generic]\n",
      "/Users/dangause/anaconda3/envs/sdss/lib/python3.10/site-packages/astropy/nddata/nduncertainty.py:1223: RuntimeWarning: divide by zero encountered in divide\n",
      "  new_array = None if self.array is None else 1 / self.array\n"
     ]
    },
    {
     "name": "stdout",
     "output_type": "stream",
     "text": [
      "/Users/dangause/Desktop/personal_projects/qso_cv/data/SDSS/DR16/4865/spec-4865-55713-0426.fits\n",
      "/Users/dangause/Desktop/personal_projects/qso_cv/data/SDSS/DR16/4865/spec-4865-55713-0426.fits\n",
      "Processing spectrum 18\n",
      "Resampling axis\n"
     ]
    },
    {
     "name": "stderr",
     "output_type": "stream",
     "text": [
      "WARNING: UnitsWarning: '1E-17 erg/cm^2/s/Angstrom' contains multiple slashes, which is discouraged by the FITS standard [astropy.units.format.generic]\n",
      "/Users/dangause/anaconda3/envs/sdss/lib/python3.10/site-packages/astropy/nddata/nduncertainty.py:1223: RuntimeWarning: divide by zero encountered in divide\n",
      "  new_array = None if self.array is None else 1 / self.array\n"
     ]
    },
    {
     "name": "stdout",
     "output_type": "stream",
     "text": [
      "/Users/dangause/Desktop/personal_projects/qso_cv/data/SDSS/DR16/6416/spec-6416-56312-0612.fits\n",
      "/Users/dangause/Desktop/personal_projects/qso_cv/data/SDSS/DR16/6416/spec-6416-56312-0612.fits\n",
      "Processing spectrum 19\n",
      "Resampling axis\n"
     ]
    },
    {
     "name": "stderr",
     "output_type": "stream",
     "text": [
      "WARNING: UnitsWarning: '1E-17 erg/cm^2/s/Angstrom' contains multiple slashes, which is discouraged by the FITS standard [astropy.units.format.generic]\n",
      "/Users/dangause/anaconda3/envs/sdss/lib/python3.10/site-packages/astropy/nddata/nduncertainty.py:1223: RuntimeWarning: divide by zero encountered in divide\n",
      "  new_array = None if self.array is None else 1 / self.array\n"
     ]
    }
   ],
   "source": [
    "spec_l = qso_spectra.get_shifted_and_rebinned_spec_l(test_samp_df, cut_head_tail=True)"
   ]
  },
  {
   "cell_type": "code",
   "execution_count": 9,
   "metadata": {},
   "outputs": [],
   "source": [
    "for spec in spec_l:\n",
    "    spec.mask = np.full((len(spec.spectral_axis)), False)"
   ]
  },
  {
   "cell_type": "code",
   "execution_count": 10,
   "metadata": {},
   "outputs": [
    {
     "data": {
      "text/plain": [
       "[<Spectrum1D(flux=<Quantity [1.195502  , 1.0379379 , 1.2570596 , ..., 0.1905409 , 0.47583213,\n",
       "            0.43016803] 1e-17 erg / (Angstrom s cm2)>, spectral_axis=<SpectralAxis \n",
       "    (observer to target:\n",
       "       radial_velocity=0.0 km / s\n",
       "       redshift=0.0)\n",
       "   [1260.4363, 1260.7269, 1261.017 , ..., 2397.8438, 2398.3967, 2398.9485] Angstrom>, uncertainty=InverseVariance([ 3.3343036,  3.6504157,  3.7967134, ..., 10.951164 ,\n",
       "                  15.417354 , 12.43437  ]))>,\n",
       " <Spectrum1D(flux=<Quantity [7.60315248, 7.13697939, 6.64533472, ..., 3.12152142, 3.13476166,\n",
       "            3.37540529] 1e-17 erg / (Angstrom s cm2)>, spectral_axis=<SpectralAxis [1260.4363, 1260.7269, 1261.017 , ..., 2397.8438, 2398.3967, 2398.9485] Angstrom>, uncertainty=InverseVariance([2.34991889, 2.41506566, 2.46565274, ..., 9.15125931,\n",
       "                  8.01384387, 7.31453271]))>,\n",
       " <Spectrum1D(flux=<Quantity [5.31835146, 5.16014164, 4.86810956, ..., 1.1297361 , 1.09039694,\n",
       "            1.71308875] 1e-17 erg / (Angstrom s cm2)>, spectral_axis=<SpectralAxis [1260.4363, 1260.7269, 1261.017 , ..., 2397.8438, 2398.3967, 2398.9485] Angstrom>, uncertainty=InverseVariance([5.33981301, 5.50730377, 5.4340458 , ..., 3.06037658,\n",
       "                  1.43929321, 2.24190864]))>,\n",
       " <Spectrum1D(flux=<Quantity [2.19549734, 1.84577244, 1.85201837, ..., 0.83658517, 1.14103754,\n",
       "            0.28592013] 1e-17 erg / (Angstrom s cm2)>, spectral_axis=<SpectralAxis [1260.4363, 1260.7269, 1261.017 , ..., 2397.8438, 2398.3967, 2398.9485] Angstrom>, uncertainty=InverseVariance([4.60823496, 4.83911596, 4.98075887, ..., 1.82210096,\n",
       "                  0.86700591, 0.86098356]))>,\n",
       " <Spectrum1D(flux=<Quantity [1.08309266, 1.28245775, 1.44699667, ..., 0.37428783, 0.30993289,\n",
       "            0.50290783] 1e-17 erg / (Angstrom s cm2)>, spectral_axis=<SpectralAxis [1260.4363, 1260.7269, 1261.017 , ..., 2397.8438, 2398.3967, 2398.9485] Angstrom>, uncertainty=InverseVariance([10.12095443, 10.0394564 , 10.29056337, ...,  3.64506511,\n",
       "                   3.35641646,  3.67304044]))>,\n",
       " <Spectrum1D(flux=<Quantity [        nan,         nan,         nan, ..., -0.07762701,\n",
       "             0.58413678,  1.38307318] 1e-17 erg / (Angstrom s cm2)>, spectral_axis=<SpectralAxis [1260.4363, 1260.7269, 1261.017 , ..., 2397.8438, 2398.3967, 2398.9485] Angstrom>, uncertainty=InverseVariance([       nan,        nan,        nan, ..., 1.54844284,\n",
       "                  1.74463218, 5.13423589]))>,\n",
       " <Spectrum1D(flux=<Quantity [1.9384719 , 1.82529306, 1.79541762, ..., 0.73320873, 0.54079408,\n",
       "            0.56080145] 1e-17 erg / (Angstrom s cm2)>, spectral_axis=<SpectralAxis [1260.4363, 1260.7269, 1261.017 , ..., 2397.8438, 2398.3967, 2398.9485] Angstrom>, uncertainty=InverseVariance([ 8.35968469,  8.70649041,  8.87725694, ..., 21.38715297,\n",
       "                  30.00278352, 32.22314515]))>,\n",
       " <Spectrum1D(flux=<Quantity [4.79245643, 5.11852537, 4.51458974, ..., 1.60775036, 1.44989165,\n",
       "            1.97740142] 1e-17 erg / (Angstrom s cm2)>, spectral_axis=<SpectralAxis [1260.4363, 1260.7269, 1261.017 , ..., 2397.8438, 2398.3967, 2398.9485] Angstrom>, uncertainty=InverseVariance([3.91463009, 3.8067632 , 3.90742416, ..., 9.78809476,\n",
       "                  8.93540815, 2.25160329]))>,\n",
       " <Spectrum1D(flux=<Quantity [-4.27129802,  1.93015915,  1.98839517, ...,  0.3943795 ,\n",
       "             0.5555299 ,  0.5453653 ] 1e-17 erg / (Angstrom s cm2)>, spectral_axis=<SpectralAxis [1260.4363, 1260.7269, 1261.017 , ..., 2397.8438, 2398.3967, 2398.9485] Angstrom>, uncertainty=InverseVariance([ 0.2151015 ,  0.18545196,  0.16375864, ..., 26.66077793,\n",
       "                  27.31916497, 31.57186933]))>,\n",
       " <Spectrum1D(flux=<Quantity [       nan,        nan,        nan, ..., 6.75847017, 6.40615225,\n",
       "            6.72002155] 1e-17 erg / (Angstrom s cm2)>, spectral_axis=<SpectralAxis [1260.4363, 1260.7269, 1261.017 , ..., 2397.8438, 2398.3967, 2398.9485] Angstrom>, uncertainty=InverseVariance([        nan,         nan,         nan, ..., 12.56001714,\n",
       "                  12.593597  , 10.3253101 ]))>,\n",
       " <Spectrum1D(flux=<Quantity [1.28038434, 0.86300034, 0.56730988, ..., 0.11575683, 0.43656494,\n",
       "            0.12117102] 1e-17 erg / (Angstrom s cm2)>, spectral_axis=<SpectralAxis [1260.4363, 1260.7269, 1261.017 , ..., 2397.8438, 2398.3967, 2398.9485] Angstrom>, uncertainty=InverseVariance([ 8.31354955,  8.97951025, 10.49202105, ..., 16.05198294,\n",
       "                  14.23072005, 15.03878096]))>,\n",
       " <Spectrum1D(flux=<Quantity [0.53850355, 1.36731772, 0.93154186, ..., 0.34200338, 0.20137443,\n",
       "            0.05263264] 1e-17 erg / (Angstrom s cm2)>, spectral_axis=<SpectralAxis [1260.4363, 1260.7269, 1261.017 , ..., 2397.8438, 2398.3967, 2398.9485] Angstrom>, uncertainty=InverseVariance([ 2.79832964,  2.42228692,  2.55359259, ..., 22.82601637,\n",
       "                  20.97709246, 23.30894496]))>,\n",
       " <Spectrum1D(flux=<Quantity [2.21506272, 2.38536551, 1.87201588, ...,        nan,        nan,\n",
       "                   nan] 1e-17 erg / (Angstrom s cm2)>, spectral_axis=<SpectralAxis [1260.4363, 1260.7269, 1261.017 , ..., 2397.8438, 2398.3967, 2398.9485] Angstrom>, uncertainty=InverseVariance([11.00035718, 10.70933841, 10.30069739, ...,         nan,\n",
       "                          nan,         nan]))>,\n",
       " <Spectrum1D(flux=<Quantity [2.61995719, 2.36836619, 2.66258346, ..., 1.02395944, 0.79692837,\n",
       "            0.67139317] 1e-17 erg / (Angstrom s cm2)>, spectral_axis=<SpectralAxis [1260.4363, 1260.7269, 1261.017 , ..., 2397.8438, 2398.3967, 2398.9485] Angstrom>, uncertainty=InverseVariance([ 3.22317507,  3.20806576,  3.22559034, ...,  5.66615932,\n",
       "                   6.70857399, 12.16856516]))>,\n",
       " <Spectrum1D(flux=<Quantity [5.18653992, 9.73591439, 4.71728134, ..., 0.71645433, 0.66850316,\n",
       "            0.48136854] 1e-17 erg / (Angstrom s cm2)>, spectral_axis=<SpectralAxis [1260.4363, 1260.7269, 1261.017 , ..., 2397.8438, 2398.3967, 2398.9485] Angstrom>, uncertainty=InverseVariance([ 0.32138971,  0.2566784 ,  0.27879807, ..., 12.17357257,\n",
       "                  11.27194644, 14.11366446]))>,\n",
       " <Spectrum1D(flux=<Quantity [1.727068  , 0.78602234, 1.41010883, ..., 0.70607806, 0.60712692,\n",
       "            0.61404221] 1e-17 erg / (Angstrom s cm2)>, spectral_axis=<SpectralAxis [1260.4363, 1260.7269, 1261.017 , ..., 2397.8438, 2398.3967, 2398.9485] Angstrom>, uncertainty=InverseVariance([ 1.13911776,  1.24482896,  1.2981798 , ..., 37.93439444,\n",
       "                  39.89204111, 40.5923224 ]))>,\n",
       " <Spectrum1D(flux=<Quantity [8.96329794, 7.55870586, 7.38723835, ..., 3.87460551, 4.24411419,\n",
       "            3.87439613] 1e-17 erg / (Angstrom s cm2)>, spectral_axis=<SpectralAxis [1260.4363, 1260.7269, 1261.017 , ..., 2397.8438, 2398.3967, 2398.9485] Angstrom>, uncertainty=InverseVariance([1.61735252, 1.60899088, 1.64927625, ..., 7.44680437,\n",
       "                  7.08936396, 7.53672411]))>,\n",
       " <Spectrum1D(flux=<Quantity [2.32146246, 2.2732146 , 1.99750986, ..., 0.40760848, 0.47930646,\n",
       "            0.57042087] 1e-17 erg / (Angstrom s cm2)>, spectral_axis=<SpectralAxis [1260.4363, 1260.7269, 1261.017 , ..., 2397.8438, 2398.3967, 2398.9485] Angstrom>, uncertainty=InverseVariance([ 7.23142562,  6.77092166,  6.82425876, ..., 17.73069833,\n",
       "                  17.46286153, 17.33193778]))>,\n",
       " <Spectrum1D(flux=<Quantity [ 1.92302222,  2.26687205,  2.18224511, ...,  0.43660464,\n",
       "            -0.91763718, -0.2085357 ] 1e-17 erg / (Angstrom s cm2)>, spectral_axis=<SpectralAxis [1260.4363, 1260.7269, 1261.017 , ..., 2397.8438, 2398.3967, 2398.9485] Angstrom>, uncertainty=InverseVariance([4.10464284, 3.83278122, 3.94185259, ..., 0.42418434,\n",
       "                  0.62944995, 1.62818251]))>,\n",
       " <Spectrum1D(flux=<Quantity [3.10624997, 3.55365076, 3.16432487, ..., 1.37067043, 1.48233381,\n",
       "            1.19328898] 1e-17 erg / (Angstrom s cm2)>, spectral_axis=<SpectralAxis [1260.4363, 1260.7269, 1261.017 , ..., 2397.8438, 2398.3967, 2398.9485] Angstrom>, uncertainty=InverseVariance([ 5.77149321,  5.34465575,  5.30067509, ...,  7.5392142 ,\n",
       "                  10.79060603, 11.92650712]))>]"
      ]
     },
     "execution_count": 10,
     "metadata": {},
     "output_type": "execute_result"
    }
   ],
   "source": [
    "spec_l"
   ]
  },
  {
   "cell_type": "code",
   "execution_count": null,
   "metadata": {},
   "outputs": [],
   "source": []
  },
  {
   "cell_type": "code",
   "execution_count": 18,
   "metadata": {},
   "outputs": [],
   "source": [
    "spec_coll = SpectrumCollection.from_spectra(spec_l)"
   ]
  },
  {
   "cell_type": "code",
   "execution_count": 19,
   "metadata": {},
   "outputs": [],
   "source": [
    "X_full = np.array(spec_coll.flux)"
   ]
  },
  {
   "cell_type": "code",
   "execution_count": 20,
   "metadata": {},
   "outputs": [],
   "source": [
    "X_full_path = '../data/X_full.npy'\n",
    "\n",
    "# np.save(X_full_path, X_full)    # .npy extension is added if not given\n",
    "\n",
    "X_full = np.load(X_full_path)"
   ]
  },
  {
   "cell_type": "code",
   "execution_count": 21,
   "metadata": {},
   "outputs": [],
   "source": [
    "X = X_full"
   ]
  },
  {
   "cell_type": "code",
   "execution_count": 22,
   "metadata": {},
   "outputs": [],
   "source": [
    "wavelengths = np.array(spec_coll.spectral_axis)[0]"
   ]
  },
  {
   "cell_type": "code",
   "execution_count": null,
   "metadata": {},
   "outputs": [],
   "source": [
    "wavelengths_path = '../data/wavelengths.npy'\n",
    "\n",
    "# np.save(wavelengths_path, wavelengths)    # .npy extension is added if not given\n",
    "\n",
    "wavelengths = np.load(wavelengths_path)\n"
   ]
  },
  {
   "cell_type": "code",
   "execution_count": null,
   "metadata": {},
   "outputs": [],
   "source": []
  },
  {
   "cell_type": "code",
   "execution_count": 11,
   "metadata": {},
   "outputs": [],
   "source": [
    "spec = spec_l[0]"
   ]
  },
  {
   "cell_type": "code",
   "execution_count": 13,
   "metadata": {},
   "outputs": [
    {
     "ename": "AttributeError",
     "evalue": "'Spectrum1D' object has no attribute 'to_pandas'",
     "output_type": "error",
     "traceback": [
      "\u001b[0;31m---------------------------------------------------------------------------\u001b[0m",
      "\u001b[0;31mAttributeError\u001b[0m                            Traceback (most recent call last)",
      "Input \u001b[0;32mIn [13]\u001b[0m, in \u001b[0;36m<cell line: 1>\u001b[0;34m()\u001b[0m\n\u001b[0;32m----> 1\u001b[0m \u001b[43mspec\u001b[49m\u001b[38;5;241;43m.\u001b[39;49m\u001b[43mto_pandas\u001b[49m()\n",
      "\u001b[0;31mAttributeError\u001b[0m: 'Spectrum1D' object has no attribute 'to_pandas'"
     ]
    }
   ],
   "source": [
    "spec.to_pandas()"
   ]
  },
  {
   "cell_type": "code",
   "execution_count": 14,
   "metadata": {},
   "outputs": [
    {
     "data": {
      "text/plain": [
       "[<Spectrum1D(flux=<Quantity [1.195502  , 1.0379379 , 1.2570596 , ..., 0.1905409 , 0.47583213,\n",
       "            0.43016803] 1e-17 erg / (Angstrom s cm2)>, spectral_axis=<SpectralAxis \n",
       "    (observer to target:\n",
       "       radial_velocity=0.0 km / s\n",
       "       redshift=0.0)\n",
       "   [1260.4363, 1260.7269, 1261.017 , ..., 2397.8438, 2398.3967, 2398.9485] Angstrom>, uncertainty=InverseVariance([ 3.3343036,  3.6504157,  3.7967134, ..., 10.951164 ,\n",
       "                  15.417354 , 12.43437  ]))>,\n",
       " <Spectrum1D(flux=<Quantity [7.60315248, 7.13697939, 6.64533472, ..., 3.12152142, 3.13476166,\n",
       "            3.37540529] 1e-17 erg / (Angstrom s cm2)>, spectral_axis=<SpectralAxis [1260.4363, 1260.7269, 1261.017 , ..., 2397.8438, 2398.3967, 2398.9485] Angstrom>, uncertainty=InverseVariance([2.34991889, 2.41506566, 2.46565274, ..., 9.15125931,\n",
       "                  8.01384387, 7.31453271]))>,\n",
       " <Spectrum1D(flux=<Quantity [5.31835146, 5.16014164, 4.86810956, ..., 1.1297361 , 1.09039694,\n",
       "            1.71308875] 1e-17 erg / (Angstrom s cm2)>, spectral_axis=<SpectralAxis [1260.4363, 1260.7269, 1261.017 , ..., 2397.8438, 2398.3967, 2398.9485] Angstrom>, uncertainty=InverseVariance([5.33981301, 5.50730377, 5.4340458 , ..., 3.06037658,\n",
       "                  1.43929321, 2.24190864]))>,\n",
       " <Spectrum1D(flux=<Quantity [2.19549734, 1.84577244, 1.85201837, ..., 0.83658517, 1.14103754,\n",
       "            0.28592013] 1e-17 erg / (Angstrom s cm2)>, spectral_axis=<SpectralAxis [1260.4363, 1260.7269, 1261.017 , ..., 2397.8438, 2398.3967, 2398.9485] Angstrom>, uncertainty=InverseVariance([4.60823496, 4.83911596, 4.98075887, ..., 1.82210096,\n",
       "                  0.86700591, 0.86098356]))>,\n",
       " <Spectrum1D(flux=<Quantity [1.08309266, 1.28245775, 1.44699667, ..., 0.37428783, 0.30993289,\n",
       "            0.50290783] 1e-17 erg / (Angstrom s cm2)>, spectral_axis=<SpectralAxis [1260.4363, 1260.7269, 1261.017 , ..., 2397.8438, 2398.3967, 2398.9485] Angstrom>, uncertainty=InverseVariance([10.12095443, 10.0394564 , 10.29056337, ...,  3.64506511,\n",
       "                   3.35641646,  3.67304044]))>,\n",
       " <Spectrum1D(flux=<Quantity [        nan,         nan,         nan, ..., -0.07762701,\n",
       "             0.58413678,  1.38307318] 1e-17 erg / (Angstrom s cm2)>, spectral_axis=<SpectralAxis [1260.4363, 1260.7269, 1261.017 , ..., 2397.8438, 2398.3967, 2398.9485] Angstrom>, uncertainty=InverseVariance([       nan,        nan,        nan, ..., 1.54844284,\n",
       "                  1.74463218, 5.13423589]))>,\n",
       " <Spectrum1D(flux=<Quantity [1.9384719 , 1.82529306, 1.79541762, ..., 0.73320873, 0.54079408,\n",
       "            0.56080145] 1e-17 erg / (Angstrom s cm2)>, spectral_axis=<SpectralAxis [1260.4363, 1260.7269, 1261.017 , ..., 2397.8438, 2398.3967, 2398.9485] Angstrom>, uncertainty=InverseVariance([ 8.35968469,  8.70649041,  8.87725694, ..., 21.38715297,\n",
       "                  30.00278352, 32.22314515]))>,\n",
       " <Spectrum1D(flux=<Quantity [4.79245643, 5.11852537, 4.51458974, ..., 1.60775036, 1.44989165,\n",
       "            1.97740142] 1e-17 erg / (Angstrom s cm2)>, spectral_axis=<SpectralAxis [1260.4363, 1260.7269, 1261.017 , ..., 2397.8438, 2398.3967, 2398.9485] Angstrom>, uncertainty=InverseVariance([3.91463009, 3.8067632 , 3.90742416, ..., 9.78809476,\n",
       "                  8.93540815, 2.25160329]))>,\n",
       " <Spectrum1D(flux=<Quantity [-4.27129802,  1.93015915,  1.98839517, ...,  0.3943795 ,\n",
       "             0.5555299 ,  0.5453653 ] 1e-17 erg / (Angstrom s cm2)>, spectral_axis=<SpectralAxis [1260.4363, 1260.7269, 1261.017 , ..., 2397.8438, 2398.3967, 2398.9485] Angstrom>, uncertainty=InverseVariance([ 0.2151015 ,  0.18545196,  0.16375864, ..., 26.66077793,\n",
       "                  27.31916497, 31.57186933]))>,\n",
       " <Spectrum1D(flux=<Quantity [       nan,        nan,        nan, ..., 6.75847017, 6.40615225,\n",
       "            6.72002155] 1e-17 erg / (Angstrom s cm2)>, spectral_axis=<SpectralAxis [1260.4363, 1260.7269, 1261.017 , ..., 2397.8438, 2398.3967, 2398.9485] Angstrom>, uncertainty=InverseVariance([        nan,         nan,         nan, ..., 12.56001714,\n",
       "                  12.593597  , 10.3253101 ]))>,\n",
       " <Spectrum1D(flux=<Quantity [1.28038434, 0.86300034, 0.56730988, ..., 0.11575683, 0.43656494,\n",
       "            0.12117102] 1e-17 erg / (Angstrom s cm2)>, spectral_axis=<SpectralAxis [1260.4363, 1260.7269, 1261.017 , ..., 2397.8438, 2398.3967, 2398.9485] Angstrom>, uncertainty=InverseVariance([ 8.31354955,  8.97951025, 10.49202105, ..., 16.05198294,\n",
       "                  14.23072005, 15.03878096]))>,\n",
       " <Spectrum1D(flux=<Quantity [0.53850355, 1.36731772, 0.93154186, ..., 0.34200338, 0.20137443,\n",
       "            0.05263264] 1e-17 erg / (Angstrom s cm2)>, spectral_axis=<SpectralAxis [1260.4363, 1260.7269, 1261.017 , ..., 2397.8438, 2398.3967, 2398.9485] Angstrom>, uncertainty=InverseVariance([ 2.79832964,  2.42228692,  2.55359259, ..., 22.82601637,\n",
       "                  20.97709246, 23.30894496]))>,\n",
       " <Spectrum1D(flux=<Quantity [2.21506272, 2.38536551, 1.87201588, ...,        nan,        nan,\n",
       "                   nan] 1e-17 erg / (Angstrom s cm2)>, spectral_axis=<SpectralAxis [1260.4363, 1260.7269, 1261.017 , ..., 2397.8438, 2398.3967, 2398.9485] Angstrom>, uncertainty=InverseVariance([11.00035718, 10.70933841, 10.30069739, ...,         nan,\n",
       "                          nan,         nan]))>,\n",
       " <Spectrum1D(flux=<Quantity [2.61995719, 2.36836619, 2.66258346, ..., 1.02395944, 0.79692837,\n",
       "            0.67139317] 1e-17 erg / (Angstrom s cm2)>, spectral_axis=<SpectralAxis [1260.4363, 1260.7269, 1261.017 , ..., 2397.8438, 2398.3967, 2398.9485] Angstrom>, uncertainty=InverseVariance([ 3.22317507,  3.20806576,  3.22559034, ...,  5.66615932,\n",
       "                   6.70857399, 12.16856516]))>,\n",
       " <Spectrum1D(flux=<Quantity [5.18653992, 9.73591439, 4.71728134, ..., 0.71645433, 0.66850316,\n",
       "            0.48136854] 1e-17 erg / (Angstrom s cm2)>, spectral_axis=<SpectralAxis [1260.4363, 1260.7269, 1261.017 , ..., 2397.8438, 2398.3967, 2398.9485] Angstrom>, uncertainty=InverseVariance([ 0.32138971,  0.2566784 ,  0.27879807, ..., 12.17357257,\n",
       "                  11.27194644, 14.11366446]))>,\n",
       " <Spectrum1D(flux=<Quantity [1.727068  , 0.78602234, 1.41010883, ..., 0.70607806, 0.60712692,\n",
       "            0.61404221] 1e-17 erg / (Angstrom s cm2)>, spectral_axis=<SpectralAxis [1260.4363, 1260.7269, 1261.017 , ..., 2397.8438, 2398.3967, 2398.9485] Angstrom>, uncertainty=InverseVariance([ 1.13911776,  1.24482896,  1.2981798 , ..., 37.93439444,\n",
       "                  39.89204111, 40.5923224 ]))>,\n",
       " <Spectrum1D(flux=<Quantity [8.96329794, 7.55870586, 7.38723835, ..., 3.87460551, 4.24411419,\n",
       "            3.87439613] 1e-17 erg / (Angstrom s cm2)>, spectral_axis=<SpectralAxis [1260.4363, 1260.7269, 1261.017 , ..., 2397.8438, 2398.3967, 2398.9485] Angstrom>, uncertainty=InverseVariance([1.61735252, 1.60899088, 1.64927625, ..., 7.44680437,\n",
       "                  7.08936396, 7.53672411]))>,\n",
       " <Spectrum1D(flux=<Quantity [2.32146246, 2.2732146 , 1.99750986, ..., 0.40760848, 0.47930646,\n",
       "            0.57042087] 1e-17 erg / (Angstrom s cm2)>, spectral_axis=<SpectralAxis [1260.4363, 1260.7269, 1261.017 , ..., 2397.8438, 2398.3967, 2398.9485] Angstrom>, uncertainty=InverseVariance([ 7.23142562,  6.77092166,  6.82425876, ..., 17.73069833,\n",
       "                  17.46286153, 17.33193778]))>,\n",
       " <Spectrum1D(flux=<Quantity [ 1.92302222,  2.26687205,  2.18224511, ...,  0.43660464,\n",
       "            -0.91763718, -0.2085357 ] 1e-17 erg / (Angstrom s cm2)>, spectral_axis=<SpectralAxis [1260.4363, 1260.7269, 1261.017 , ..., 2397.8438, 2398.3967, 2398.9485] Angstrom>, uncertainty=InverseVariance([4.10464284, 3.83278122, 3.94185259, ..., 0.42418434,\n",
       "                  0.62944995, 1.62818251]))>,\n",
       " <Spectrum1D(flux=<Quantity [3.10624997, 3.55365076, 3.16432487, ..., 1.37067043, 1.48233381,\n",
       "            1.19328898] 1e-17 erg / (Angstrom s cm2)>, spectral_axis=<SpectralAxis [1260.4363, 1260.7269, 1261.017 , ..., 2397.8438, 2398.3967, 2398.9485] Angstrom>, uncertainty=InverseVariance([ 5.77149321,  5.34465575,  5.30067509, ...,  7.5392142 ,\n",
       "                  10.79060603, 11.92650712]))>]"
      ]
     },
     "execution_count": 14,
     "metadata": {},
     "output_type": "execute_result"
    }
   ],
   "source": [
    "spec_l"
   ]
  },
  {
   "cell_type": "code",
   "execution_count": null,
   "metadata": {},
   "outputs": [],
   "source": []
  }
 ],
 "metadata": {
  "kernelspec": {
   "display_name": "sdss",
   "language": "python",
   "name": "python3"
  },
  "language_info": {
   "codemirror_mode": {
    "name": "ipython",
    "version": 3
   },
   "file_extension": ".py",
   "mimetype": "text/x-python",
   "name": "python",
   "nbconvert_exporter": "python",
   "pygments_lexer": "ipython3",
   "version": "3.10.6"
  }
 },
 "nbformat": 4,
 "nbformat_minor": 2
}
