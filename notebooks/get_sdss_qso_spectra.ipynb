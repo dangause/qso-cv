{
 "cells": [
  {
   "cell_type": "code",
   "execution_count": 2,
   "metadata": {},
   "outputs": [],
   "source": [
    "import os,sys,time\n",
    "import matplotlib\n",
    "import numpy as np\n",
    "from astropy.io import fits\n",
    "import astroquery\n",
    "from astroquery.sdss import SDSS\n",
    "\n",
    "from astropy import coordinates as coords\n",
    "import astropy.units as u\n",
    "import astropy.coordinates as coord\n",
    "\n",
    "import matplotlib.pyplot as plt\n",
    "import warnings\n",
    "#from astropy.modeling.blackbody import blackbody_lambda\n",
    "from scipy import interpolate\n",
    "from scipy import integrate\n",
    "from astropy import constants as const\n",
    "import pandas as pd\n",
    "# from qsofunc import *\n",
    "from multiprocessing import Pool\n",
    "warnings.filterwarnings(\"ignore\")\n",
    "from scipy.signal import medfilt\n",
    "from astropy.cosmology import FlatLambdaCDM\n",
    "cosmo = FlatLambdaCDM(H0=70, Om0=0.3)\n",
    "from matplotlib.ticker import (MultipleLocator, FormatStrFormatter,\n",
    "                               AutoMinorLocator)\n",
    "from matplotlib import rc"
   ]
  },
  {
   "cell_type": "code",
   "execution_count": 3,
   "metadata": {},
   "outputs": [],
   "source": [
    "nonbal_qso_samp_path = '../data/nonbal_qso_samp.csv'\n",
    "nonbal_qso_samp_df = pd.read_csv(nonbal_qso_samp_path, index_col=0)"
   ]
  },
  {
   "cell_type": "code",
   "execution_count": 63,
   "metadata": {},
   "outputs": [
    {
     "data": {
      "text/html": [
       "<div>\n",
       "<style scoped>\n",
       "    .dataframe tbody tr th:only-of-type {\n",
       "        vertical-align: middle;\n",
       "    }\n",
       "\n",
       "    .dataframe tbody tr th {\n",
       "        vertical-align: top;\n",
       "    }\n",
       "\n",
       "    .dataframe thead th {\n",
       "        text-align: right;\n",
       "    }\n",
       "</style>\n",
       "<table border=\"1\" class=\"dataframe\">\n",
       "  <thead>\n",
       "    <tr style=\"text-align: right;\">\n",
       "      <th></th>\n",
       "      <th>SDSS_NAME</th>\n",
       "      <th>RA</th>\n",
       "      <th>DEC</th>\n",
       "      <th>PLATE</th>\n",
       "      <th>MJD</th>\n",
       "      <th>FIBERID</th>\n",
       "      <th>AUTOCLASS_PQN</th>\n",
       "      <th>Z</th>\n",
       "      <th>BAL_PROB</th>\n",
       "      <th>BI_CIV</th>\n",
       "      <th>AI_CIV</th>\n",
       "    </tr>\n",
       "  </thead>\n",
       "  <tbody>\n",
       "    <tr>\n",
       "      <th>1</th>\n",
       "      <td>021542.40+020942.5</td>\n",
       "      <td>33.926674</td>\n",
       "      <td>2.161808</td>\n",
       "      <td>7830</td>\n",
       "      <td>57043</td>\n",
       "      <td>692</td>\n",
       "      <td>QSO</td>\n",
       "      <td>1.792089</td>\n",
       "      <td>0.0</td>\n",
       "      <td>0.0</td>\n",
       "      <td>0.0</td>\n",
       "    </tr>\n",
       "  </tbody>\n",
       "</table>\n",
       "</div>"
      ],
      "text/plain": [
       "            SDSS_NAME         RA       DEC  PLATE    MJD  FIBERID  \\\n",
       "1  021542.40+020942.5  33.926674  2.161808   7830  57043      692   \n",
       "\n",
       "  AUTOCLASS_PQN         Z  BAL_PROB  BI_CIV  AI_CIV  \n",
       "1           QSO  1.792089       0.0     0.0     0.0  "
      ]
     },
     "execution_count": 63,
     "metadata": {},
     "output_type": "execute_result"
    }
   ],
   "source": [
    "nonbal_qso_samp_df.iloc[[1]]"
   ]
  },
  {
   "cell_type": "code",
   "execution_count": 5,
   "metadata": {},
   "outputs": [],
   "source": [
    "hdul = SDSS.get_spectra(plate = nonbal_qso_samp_df.iloc[[0]].PLATE,\n",
    "                mjd = nonbal_qso_samp_df.iloc[[0]].MJD,\n",
    "                fiberID = nonbal_qso_samp_df.iloc[[0]].FIBERID)[0]"
   ]
  },
  {
   "cell_type": "code",
   "execution_count": 6,
   "metadata": {},
   "outputs": [
    {
     "name": "stdout",
     "output_type": "stream",
     "text": [
      "Filename: (No file associated with this HDUList)\n",
      "No.    Name      Ver    Type      Cards   Dimensions   Format\n",
      "  0  PRIMARY       1 PrimaryHDU     125   ()      \n",
      "  1  COADD         1 BinTableHDU     26   4626R x 8C   [E, E, E, J, J, E, E, E]   \n",
      "  2  SPALL         1 BinTableHDU    488   1R x 236C   [27A, 14A, 4A, E, E, J, J, E, J, E, E, E, K, K, K, K, K, K, K, K, K, B, B, J, I, 5E, 5E, J, J, J, J, 7A, 7A, 16A, D, D, 6A, 21A, E, E, E, J, E, 24A, 10J, J, 10E, E, E, E, E, E, E, J, E, E, E, J, 5E, E, E, 10E, 10E, 10E, 5E, 5E, 5E, 5E, 5E, J, J, E, E, E, E, E, E, 16A, 9A, 12A, E, E, E, E, E, E, E, E, J, E, E, J, J, 6A, 21A, E, 35E, K, 19A, 19A, 19A, B, B, B, I, 3A, B, I, I, I, I, J, E, J, J, E, E, E, E, E, E, E, E, 5E, 5E, 5E, 5E, 5E, 5E, 5E, 5E, 5E, 5E, 5E, 5E, 5E, 5E, 5E, 5E, 5E, 5E, 5E, 5E, 5E, 5E, 5E, 5E, 5E, 5E, 5E, 5E, 5E, 5E, 5E, 5E, 5E, 5E, 5E, 5J, 5J, 5J, 5E, 5J, 75E, 75E, 5E, 5E, 5E, 5J, 5E, D, D, D, D, D, D, D, D, D, 5E, 5E, 5E, 5E, 5E, 5E, 5E, 5E, 5E, 5E, 5E, 5E, 5E, 5E, 5E, 5E, 5E, 5E, 5E, 5E, 5E, 5E, 5E, 5E, 5E, 5E, 5E, 5E, 5E, 5E, 5E, 5E, 5E, 5E, 5E, 5E, 5E, 5E, 5E, 5E, 5E, 5E, 40E, 40E, 5J, 5J, 5E, 5E, 5D, J, J, J, J, J, J, J, E]   \n",
      "  3  SPZLINE       1 BinTableHDU     48   32R x 19C   [J, J, J, 13A, D, E, E, E, E, E, E, E, E, E, E, J, J, E, E]   \n",
      "  4  B1-00150421-00150420-00150419    1 BinTableHDU    181   2524R x 8C   [E, E, E, J, E, E, E, E]   \n",
      "  5  B1-00150422-00150420-00150419    1 BinTableHDU    181   2519R x 8C   [E, E, E, J, E, E, E, E]   \n",
      "  6  B1-00150423-00150420-00150419    1 BinTableHDU    181   2517R x 8C   [E, E, E, J, E, E, E, E]   \n",
      "  7  B1-00150424-00150420-00150419    1 BinTableHDU    181   2524R x 8C   [E, E, E, J, E, E, E, E]   \n",
      "  8  R1-00150421-00150420-00150419    1 BinTableHDU    181   3143R x 8C   [E, E, E, J, E, E, E, E]   \n",
      "  9  R1-00150422-00150420-00150419    1 BinTableHDU    181   3143R x 8C   [E, E, E, J, E, E, E, E]   \n",
      " 10  R1-00150423-00150420-00150419    1 BinTableHDU    181   3143R x 8C   [E, E, E, J, E, E, E, E]   \n",
      " 11  R1-00150424-00150420-00150419    1 BinTableHDU    181   3143R x 8C   [E, E, E, J, E, E, E, E]   \n"
     ]
    }
   ],
   "source": [
    "hdul.info()"
   ]
  },
  {
   "cell_type": "code",
   "execution_count": 23,
   "metadata": {},
   "outputs": [],
   "source": [
    "qso_fits_path = '../data/qso.fits'\n",
    "hdul.writeto(qso_fits_path, overwrite=True)"
   ]
  },
  {
   "cell_type": "code",
   "execution_count": 7,
   "metadata": {},
   "outputs": [
    {
     "data": {
      "text/plain": [
       "SIMPLE  =                    T / conforms to FITS standard                      \n",
       "BITPIX  =                    8 / array data type                                \n",
       "NAXIS   =                    0 / number of array dimensions                     \n",
       "EXTEND  =                    T                                                  \n",
       "TELESCOP= 'SDSS 2.5-M'         / Sloan Digital Sky Survey                       \n",
       "FLAVOR  = 'science '           / exposure type, SDSS spectro style              \n",
       "BOSSVER = '2       '           / ICC version                                    \n",
       "MJD     =                56240 / APO fMJD day at start of exposure              \n",
       "MJDLIST = '56240   '           /                                                \n",
       "NAME    = '6255-56240-01'      / The name of the currently loaded plate         \n",
       "PLATEID =                 6255 / The currently loaded plate                     \n",
       "TILEID  =                15188 /Cartridge used in this plugging                 \n",
       "CARTID  =                   15 /Cartridge used in this plugging                 \n",
       "MAPID   =                    1 / The mapping version of the loaded plate        \n",
       "RA      =            16.232466 / RA of telescope boresight (deg)                \n",
       "DEC     =            26.638018 / Dec of telescope boresight (deg)               \n",
       "EQUINOX =              2000.00 /                                                \n",
       "RADECSYS= 'FK5     '           /                                                \n",
       "RADEG   =              16.2323 / RA of telescope pointing(deg)                  \n",
       "DECDEG  =              26.6371 / Dec of telescope pointing (deg)                \n",
       "BOREOFFX=                  0.0 / TCC Boresight offset, deg                      \n",
       "BOREOFFY=                  0.0 / TCC Boresight offset, deg                      \n",
       "GUIDOFFY=                  0.0 / TCC GuideOff, deg                              \n",
       "PRESSURE=              21.4622 / pressure                                       \n",
       "WINDD   =              259.175 / windd                                          \n",
       "WINDS   =              16.5000 / winds                                          \n",
       "GUSTD   =                264.3 / gustd                                          \n",
       "GUSTS   =              25.1000 / gusts                                          \n",
       "AIRTEMP =              7.25000 / airTempPT                                      \n",
       "DEWPOINT=             -5.90000 / dpTempPT                                       \n",
       "HUMIDITY=              38.9250 / humidity                                       \n",
       "DUSTA   =              13188.2 / dusta                                          \n",
       "DUSTB   =              252.250 / dustb                                          \n",
       "WINDD25M=                342.7 / windd25m                                       \n",
       "WINDS25M=                 19.6 / winds25m                                       \n",
       "SLITID2 =                   15 / Normalized slithead ID. sp1&2 should match.    \n",
       "BESTEXP =               150421 /                                                \n",
       "NEXP_B1 =                    4 / b1 camera number of exposures                  \n",
       "NEXP_R1 =                    4 / r1 camera number of exposures                  \n",
       "EXPT_B1 =              3603.36 / b1 camera exposure time (seconds)              \n",
       "EXPT_R1 =              3603.36 / r1 camera exposure time (seconds)              \n",
       "EXPTIME =              3603.36 / Minimum of exposure times for all cameras      \n",
       "SPCOADD = 'Sat May 28 16:59:36 2016' / SPCOADD finished                         \n",
       "SHOPETIM=                 0.73 / open shutter transit time, s                   \n",
       "SHCLOTIM=                 0.55 / close shutter transit time, s                  \n",
       "LN2TEMP =    90.23399999999999                                                  \n",
       "CCDTEMP =   -99.60899999999999                                                  \n",
       "IONPUMP =                -6.59                                                  \n",
       "VERSIDL = '7.1.1   '           / Version of IDL                                 \n",
       "VERSUTIL= 'v5_5_17 '           / Version of idlutils                            \n",
       "VERSREAD= 'v5_10_0 '           / Version of idlspec2d for pre-processing raw dat\n",
       "VERS2D  = 'v5_10_0 '           / Version of idlspec2d for 2D reduction          \n",
       "VERSCOMB= 'v5_10_0 '           / Version of idlspec2d for combining multiple spe\n",
       "VERSLOG = 'trunk 23370'        / Version of SPECLOG product                     \n",
       "VERSFLAT= 'v1_25   '           / Version of SPECFLAT product                    \n",
       "RDNOISE0=              2.04045 /CCD read noise amp 0 [electrons]                \n",
       "BADPIXEL= 'badpixels-56149-b1.fits.gz' /                                        \n",
       "RUN2D   = 'v5_10_0 '           / Spectro-2D reduction name                      \n",
       "REDDEN01=             0.361900 / Median extinction in u-band                    \n",
       "REDDEN02=             0.266300 / Median extinction in g-band                    \n",
       "REDDEN03=             0.193100 / Median extinction in r-band                    \n",
       "REDDEN04=             0.146400 / Median extinction in i-band                    \n",
       "REDDEN05=             0.103800 / Median extinction in z-band                    \n",
       "PLUGFILE= 'plPlugMapM-6255-56240-01.par' /                                      \n",
       "HELIO_RV=        11.0419449970 / Heliocentric correction (added to velocities)  \n",
       "VACUUM  =                    T / Wavelengths are in vacuum                      \n",
       "SFLATTEN=                    T / Superflat has been applied                     \n",
       "PSFSKY  =                    3 / Order of PSF skysubtraction                    \n",
       "SKYCHI2 =        1.00719278170 / Mean chi^2 of sky-subtraction                  \n",
       "SCHI2MIN=       0.960598877851 /                                                \n",
       "SCHI2MAX=        1.11669208159 /                                                \n",
       "PREJECT =             0.200000 / Profile area rejection threshold               \n",
       "SPEC1_G =              9.94003 / (S/N)^2 for spec  1 at mag 21.20               \n",
       "SN2EXT1G=              9.94003 / Extinction corrected (S/N)^2                   \n",
       "SPEC1_R =              33.2892 / (S/N)^2 for spec  1 at mag 20.20               \n",
       "SN2EXT1R=              33.2892 / Extinction corrected (S/N)^2                   \n",
       "SPEC1_I =              28.0215 / (S/N)^2 for spec  1 at mag 20.20               \n",
       "SN2EXT1I=              28.0215 / Extinction corrected (S/N)^2                   \n",
       "SPEC2_G =              9.91091 / (S/N)^2 for spec  2 at mag 21.20               \n",
       "SN2EXT2G=              9.91091 / Extinction corrected (S/N)^2                   \n",
       "SPEC2_R =              30.4956 / (S/N)^2 for spec  2 at mag 20.20               \n",
       "SN2EXT2R=              30.4956 / Extinction corrected (S/N)^2                   \n",
       "SPEC2_I =              27.0919 / (S/N)^2 for spec  2 at mag 20.20               \n",
       "SN2EXT2I=              27.0919 / Extinction corrected (S/N)^2                   \n",
       "NSTD    =                   20 / Number of (good) std stars                     \n",
       "GOFFSTD =           0.00524330 / Spectrophoto offset for std stars in G-band    \n",
       "GRMSSTD =            0.0734977 / Spectrophoto RMS for std stars in G-band       \n",
       "ROFFSTD =           0.00422859 / Spectrophoto offset for std stars in R-band    \n",
       "RRMSSTD =            0.0448702 / Spectrophoto RMS for std stars in R-band       \n",
       "IOFFSTD =          -0.00976944 / Spectrophoto offset for std stars in I-band    \n",
       "IRMSSTD =            0.0497498 / Spectrophoto RMS for std stars in I-band       \n",
       "GROFFSTD=           -0.0195065 / Spectrophoto offset for std stars in (GR)      \n",
       "GRRMSSTD=            0.0513857 / Spectrophoto RMS for std stars in (GR)         \n",
       "RIOFFSTD=           0.00794792 / Spectrophoto offset for std stars in (RI)      \n",
       "RIRMSSTD=            0.0308476 / Spectrophoto RMS for std stars in (RI)         \n",
       "LOWREJ  =                    4 / Extraction: low rejection                      \n",
       "HIGHREJ =                    4 / Extraction: high rejection                     \n",
       "SCATPOLY=                    0 / Extraction: Order of scattered light polynomial\n",
       "PROFTYPE=                    1 / Extraction profile: 1=Gaussian                 \n",
       "NFITPOLY=                    1 / Extraction: Number of parameters in each profil\n",
       "XCHI2   =              0.00000 / Extraction: Mean chi^2                         \n",
       "NWORDER =                    2 / Linear-log10 coefficients                      \n",
       "WFITTYPE= 'LOG-LINEAR'         / Linear-log10 dispersion                        \n",
       "COEFF0  =                3.552 / Central wavelength (log10) of first pixel      \n",
       "COEFF1  =    0.000100000000000 / Log10 dispersion per pixel                     \n",
       "FBADPIX =            0.0277157 / Fraction of bad pixels                         \n",
       "FBADPIX1=            0.0397734 / Fraction of bad pixels on spectro-1            \n",
       "FBADPIX2=            0.0156338 / Fraction of bad pixels on spectro-2            \n",
       "WAT0_001= 'system=linear'      /                                                \n",
       "WAT1_001= 'wtype=linear label=Wavelength units=Angstroms' /                     \n",
       "DC-FLAG =                    1 / Log-linear flag                                \n",
       "BUNIT   = '1E-17 erg/cm^2/s/Ang' /                                              \n",
       "PLUG_RA =    16.97904299999999 / RA of object [deg]                             \n",
       "PLUG_DEC=            26.240876 / dec of object [deg]                            \n",
       "THING_ID=            339383700 / Unique object identifier                       \n",
       "FIBERID =                   62 / Fiber number (1-1000)                          \n",
       "NEXP    =                    8 / Number of individual exposures                 \n",
       "EXPID01 = 'b1-00150421-00150420-00150419'                                       \n",
       "EXPID02 = 'b1-00150422-00150420-00150419'                                       \n",
       "EXPID03 = 'b1-00150423-00150420-00150419'                                       \n",
       "EXPID04 = 'b1-00150424-00150420-00150419'                                       \n",
       "EXPID05 = 'r1-00150421-00150420-00150419'                                       \n",
       "EXPID06 = 'r1-00150422-00150420-00150419'                                       \n",
       "EXPID07 = 'r1-00150423-00150420-00150419'                                       \n",
       "EXPID08 = 'r1-00150424-00150420-00150419'                                       "
      ]
     },
     "execution_count": 7,
     "metadata": {},
     "output_type": "execute_result"
    }
   ],
   "source": [
    "hdr = hdul[0]\n",
    "hdr.header"
   ]
  },
  {
   "cell_type": "code",
   "execution_count": null,
   "metadata": {},
   "outputs": [],
   "source": [
    "hdr"
   ]
  },
  {
   "cell_type": "code",
   "execution_count": null,
   "metadata": {},
   "outputs": [],
   "source": [
    "hdul['SPALL'].header"
   ]
  },
  {
   "cell_type": "code",
   "execution_count": null,
   "metadata": {},
   "outputs": [],
   "source": [
    "hdul['SPALL'].data"
   ]
  },
  {
   "cell_type": "code",
   "execution_count": null,
   "metadata": {},
   "outputs": [],
   "source": [
    "hdul['SPZLINE'].header"
   ]
  },
  {
   "cell_type": "code",
   "execution_count": null,
   "metadata": {},
   "outputs": [],
   "source": [
    "hdul[4].header"
   ]
  },
  {
   "cell_type": "code",
   "execution_count": null,
   "metadata": {},
   "outputs": [],
   "source": [
    "hdul['COADD'].data"
   ]
  },
  {
   "cell_type": "code",
   "execution_count": 8,
   "metadata": {},
   "outputs": [],
   "source": [
    "from astropy.table import Table\n",
    "spectra_df = Table(hdul[4].data).to_pandas()"
   ]
  },
  {
   "cell_type": "code",
   "execution_count": 9,
   "metadata": {},
   "outputs": [
    {
     "data": {
      "text/plain": [
       "<Axes: xlabel='loglam'>"
      ]
     },
     "execution_count": 9,
     "metadata": {},
     "output_type": "execute_result"
    },
    {
     "data": {
      "image/png": "[encoded data removed]",
      "text/plain": [
       "<Figure size 640x480 with 1 Axes>"
      ]
     },
     "metadata": {},
     "output_type": "display_data"
    }
   ],
   "source": [
    "spectra_df.plot('loglam', 'flux')"
   ]
  },
  {
   "cell_type": "code",
   "execution_count": null,
   "metadata": {},
   "outputs": [],
   "source": []
  },
  {
   "cell_type": "code",
   "execution_count": null,
   "metadata": {},
   "outputs": [],
   "source": [
    "for idx, row in nonbal_qso_samp_df.iloc[[0]].iterrows():\n",
    "    op_filename = f\"op-{row['PLATE']}-{row['MJD']}-{row['FIBERID']}\"\n",
    "    print(op_filename)\n",
    "    op_data = fits.getdata('./download/'+op_filename+'.fits', 1)\n",
    "    # extension=1: main results\n",
    "    op_data_MC = fits.getdata('./download/'+op_filename+'.fits', 2)\n",
    "    # extension=2: MC results\n",
    "    op_data_spec = fits.getdata('./download/'+op_filename+'.fits', 3)\n",
    "    # extension=3: processed spectra\n",
    "\n",
    "    # processed spectrum\n",
    "    fig, ax = plt.subplots(1, 1, figsize=(15, 4))\n",
    "    ax.tick_params(which=\"both\",bottom=True, top=True, left=True, right=True)\n",
    "    ax.errorbar(op_data_spec.wave_prereduced, op_data_spec.flux_prereduced, yerr=op_data_spec.err_prereduced, \\\n",
    "                color='k', ecolor='silver', label='data', zorder=1)\n",
    "    ax.xaxis.set_major_locator(MultipleLocator(250.))\n",
    "    ax.xaxis.set_minor_locator(MultipleLocator(50.))\n",
    "    ax.yaxis.set_major_locator(MultipleLocator(100.))\n",
    "    ax.yaxis.set_minor_locator(MultipleLocator(50.))\n",
    "    ax.set_title(op_filename[3:])\n",
    "    ax.set_xlabel(r'$\\rm Rest \\, Wavelength$ ($\\rm \\AA$)')\n",
    "    ax.set_ylabel(r'$ f_{\\lambda}$ ($\\rm 10^{-17} {\\rm erg\\;s^{-1}\\;cm^{-2}\\;\\AA^{-1}}$)')\n",
    "    ax.set_xlim(op_data_spec.wave_prereduced.min(), op_data_spec.wave_prereduced.max())\n",
    "    med_flux = medfilt(op_data_spec.flux_prereduced, kernel_size=5)\n",
    "    ax.set_ylim(-1.2*abs(med_flux.min()), 1.2*med_flux.max())\n",
    "    set_mpl_style(major=8.0,minor=4.0,lwidth=1.2)\n",
    "    plt.show()"
   ]
  },
  {
   "cell_type": "code",
   "execution_count": null,
   "metadata": {},
   "outputs": [],
   "source": []
  },
  {
   "cell_type": "code",
   "execution_count": null,
   "metadata": {},
   "outputs": [],
   "source": []
  },
  {
   "cell_type": "code",
   "execution_count": null,
   "metadata": {},
   "outputs": [],
   "source": []
  },
  {
   "cell_type": "code",
   "execution_count": 10,
   "metadata": {},
   "outputs": [],
   "source": [
    "obj_plate, obj_mjd, obj_fiber = 5808, 56325, 560             # input the objID\n",
    "op_filename = 'op-%04d'%obj_plate+'-%5d'%obj_mjd+'-%04d'%obj_fiber"
   ]
  },
  {
   "cell_type": "code",
   "execution_count": null,
   "metadata": {},
   "outputs": [],
   "source": [
    "# read output data\n",
    "\n",
    "op_data = fits.getdata('./download/'+op_filename+'.fits', 1)\n",
    "# extension=1: main results\n",
    "\n",
    "op_data_MC = fits.getdata('./download/'+op_filename+'.fits', 2)\n",
    "# extension=2: MC results\n",
    "\n",
    "op_data_spec = fits.getdata('./download/'+op_filename+'.fits', 3)\n",
    "# extension=3: processed spectra"
   ]
  },
  {
   "cell_type": "code",
   "execution_count": null,
   "metadata": {},
   "outputs": [],
   "source": [
    "# processed spectrum\n",
    "fig, ax = plt.subplots(1, 1, figsize=(15, 4))\n",
    "ax.tick_params(which=\"both\",bottom=True, top=True, left=True, right=True)\n",
    "ax.errorbar(op_data_spec.wave_prereduced, op_data_spec.flux_prereduced, yerr=op_data_spec.err_prereduced, \\\n",
    "            color='k', ecolor='silver', label='data', zorder=1)\n",
    "ax.xaxis.set_major_locator(MultipleLocator(250.))\n",
    "ax.xaxis.set_minor_locator(MultipleLocator(50.))\n",
    "ax.yaxis.set_major_locator(MultipleLocator(100.))\n",
    "ax.yaxis.set_minor_locator(MultipleLocator(50.))\n",
    "ax.set_title(op_filename[3:])\n",
    "ax.set_xlabel(r'$\\rm Rest \\, Wavelength$ ($\\rm \\AA$)')\n",
    "ax.set_ylabel(r'$ f_{\\lambda}$ ($\\rm 10^{-17} {\\rm erg\\;s^{-1}\\;cm^{-2}\\;\\AA^{-1}}$)')\n",
    "ax.set_xlim(op_data_spec.wave_prereduced.min(), op_data_spec.wave_prereduced.max())\n",
    "med_flux = medfilt(op_data_spec.flux_prereduced, kernel_size=5)\n",
    "ax.set_ylim(-1.2*abs(med_flux.min()), 1.2*med_flux.max())\n",
    "set_mpl_style(major=8.0,minor=4.0,lwidth=1.2)\n",
    "plt.show()"
   ]
  },
  {
   "cell_type": "code",
   "execution_count": null,
   "metadata": {},
   "outputs": [],
   "source": []
  },
  {
   "cell_type": "code",
   "execution_count": 11,
   "metadata": {},
   "outputs": [],
   "source": [
    "import astroML\n",
    "from astroML.datasets import fetch_sdss_spectrum"
   ]
  },
  {
   "cell_type": "code",
   "execution_count": 12,
   "metadata": {},
   "outputs": [
    {
     "data": {
      "text/html": [
       "<div>\n",
       "<style scoped>\n",
       "    .dataframe tbody tr th:only-of-type {\n",
       "        vertical-align: middle;\n",
       "    }\n",
       "\n",
       "    .dataframe tbody tr th {\n",
       "        vertical-align: top;\n",
       "    }\n",
       "\n",
       "    .dataframe thead th {\n",
       "        text-align: right;\n",
       "    }\n",
       "</style>\n",
       "<table border=\"1\" class=\"dataframe\">\n",
       "  <thead>\n",
       "    <tr style=\"text-align: right;\">\n",
       "      <th></th>\n",
       "      <th>SDSS_NAME</th>\n",
       "      <th>RA</th>\n",
       "      <th>DEC</th>\n",
       "      <th>PLATE</th>\n",
       "      <th>MJD</th>\n",
       "      <th>FIBERID</th>\n",
       "      <th>AUTOCLASS_PQN</th>\n",
       "      <th>Z</th>\n",
       "      <th>BAL_PROB</th>\n",
       "      <th>BI_CIV</th>\n",
       "      <th>AI_CIV</th>\n",
       "    </tr>\n",
       "  </thead>\n",
       "  <tbody>\n",
       "    <tr>\n",
       "      <th>0</th>\n",
       "      <td>010754.97+261427.1</td>\n",
       "      <td>16.979045</td>\n",
       "      <td>26.240866</td>\n",
       "      <td>6255</td>\n",
       "      <td>56240</td>\n",
       "      <td>62</td>\n",
       "      <td>QSO</td>\n",
       "      <td>2.373</td>\n",
       "      <td>0.0</td>\n",
       "      <td>0.0</td>\n",
       "      <td>0.0</td>\n",
       "    </tr>\n",
       "  </tbody>\n",
       "</table>\n",
       "</div>"
      ],
      "text/plain": [
       "            SDSS_NAME         RA        DEC  PLATE    MJD  FIBERID  \\\n",
       "0  010754.97+261427.1  16.979045  26.240866   6255  56240       62   \n",
       "\n",
       "  AUTOCLASS_PQN      Z  BAL_PROB  BI_CIV  AI_CIV  \n",
       "0           QSO  2.373       0.0     0.0     0.0  "
      ]
     },
     "execution_count": 12,
     "metadata": {},
     "output_type": "execute_result"
    }
   ],
   "source": [
    "nonbal_qso_samp_df.iloc[[0]]"
   ]
  },
  {
   "cell_type": "code",
   "execution_count": null,
   "metadata": {},
   "outputs": [],
   "source": [
    "SDSS.query_specobj()"
   ]
  },
  {
   "cell_type": "code",
   "execution_count": null,
   "metadata": {},
   "outputs": [],
   "source": [
    "\"http://dr18.sdss.org/sas/dr18/prior-surveys/sdss4-dr17-eboss/photoObj/frames/301/1239/6/frame-u-001239-6-0145.fits.bz2\""
   ]
  },
  {
   "cell_type": "code",
   "execution_count": null,
   "metadata": {},
   "outputs": [],
   "source": []
  },
  {
   "cell_type": "code",
   "execution_count": 14,
   "metadata": {},
   "outputs": [],
   "source": [
    "from astroML.datasets.tools.sdss_fits import SDSSfits"
   ]
  },
  {
   "cell_type": "code",
   "execution_count": 24,
   "metadata": {},
   "outputs": [
    {
     "ename": "KeyError",
     "evalue": "\"Keyword 'SPEC_CLN' not found.\"",
     "output_type": "error",
     "traceback": [
      "\u001b[0;31m---------------------------------------------------------------------------\u001b[0m",
      "\u001b[0;31mKeyError\u001b[0m                                  Traceback (most recent call last)",
      "Input \u001b[0;32mIn [24]\u001b[0m, in \u001b[0;36m<cell line: 1>\u001b[0;34m()\u001b[0m\n\u001b[0;32m----> 1\u001b[0m \u001b[43mSDSSfits\u001b[49m\u001b[43m(\u001b[49m\u001b[43msource\u001b[49m\u001b[38;5;241;43m=\u001b[39;49m\u001b[43mqso_fits_path\u001b[49m\u001b[43m)\u001b[49m\n",
      "File \u001b[0;32m~/anaconda3/envs/sdss/lib/python3.10/site-packages/astroML/datasets/tools/sdss_fits.py:80\u001b[0m, in \u001b[0;36mSDSSfits.__init__\u001b[0;34m(self, source)\u001b[0m\n\u001b[1;32m     78\u001b[0m         \u001b[38;5;28mself\u001b[39m\u001b[38;5;241m.\u001b[39m_load_fits_url(source)\n\u001b[1;32m     79\u001b[0m     \u001b[38;5;28;01melse\u001b[39;00m:\n\u001b[0;32m---> 80\u001b[0m         \u001b[38;5;28;43mself\u001b[39;49m\u001b[38;5;241;43m.\u001b[39;49m\u001b[43m_load_fits_file\u001b[49m\u001b[43m(\u001b[49m\u001b[43msource\u001b[49m\u001b[43m)\u001b[49m\n\u001b[1;32m     81\u001b[0m \u001b[38;5;28;01melse\u001b[39;00m:\n\u001b[1;32m     82\u001b[0m     \u001b[38;5;28mself\u001b[39m\u001b[38;5;241m.\u001b[39m_load_fits_file(source)\n",
      "File \u001b[0;32m~/anaconda3/envs/sdss/lib/python3.10/site-packages/astroML/datasets/tools/sdss_fits.py:93\u001b[0m, in \u001b[0;36mSDSSfits._load_fits_file\u001b[0;34m(self, file_or_buffer)\u001b[0m\n\u001b[1;32m     90\u001b[0m \u001b[38;5;28;01mdef\u001b[39;00m \u001b[38;5;21m_load_fits_file\u001b[39m(\u001b[38;5;28mself\u001b[39m, file_or_buffer):\n\u001b[1;32m     91\u001b[0m     \u001b[38;5;66;03m# fits is an optional dependency: don't import globally\u001b[39;00m\n\u001b[1;32m     92\u001b[0m     \u001b[38;5;28;01mfrom\u001b[39;00m \u001b[38;5;21;01mastropy\u001b[39;00m\u001b[38;5;21;01m.\u001b[39;00m\u001b[38;5;21;01mio\u001b[39;00m \u001b[38;5;28;01mimport\u001b[39;00m fits\n\u001b[0;32m---> 93\u001b[0m     \u001b[38;5;28;43mself\u001b[39;49m\u001b[38;5;241;43m.\u001b[39;49m\u001b[43m_initialize\u001b[49m\u001b[43m(\u001b[49m\u001b[43mfits\u001b[49m\u001b[38;5;241;43m.\u001b[39;49m\u001b[43mopen\u001b[49m\u001b[43m(\u001b[49m\u001b[43mfile_or_buffer\u001b[49m\u001b[43m)\u001b[49m\u001b[43m)\u001b[49m\n",
      "File \u001b[0;32m~/anaconda3/envs/sdss/lib/python3.10/site-packages/astroML/datasets/tools/sdss_fits.py:99\u001b[0m, in \u001b[0;36mSDSSfits._initialize\u001b[0;34m(self, hdulist)\u001b[0m\n\u001b[1;32m     96\u001b[0m data \u001b[38;5;241m=\u001b[39m hdulist[\u001b[38;5;241m0\u001b[39m]\u001b[38;5;241m.\u001b[39mdata\n\u001b[1;32m     98\u001b[0m \u001b[38;5;28mself\u001b[39m\u001b[38;5;241m.\u001b[39mname \u001b[38;5;241m=\u001b[39m hdulist[\u001b[38;5;241m0\u001b[39m]\u001b[38;5;241m.\u001b[39mheader[\u001b[38;5;124m'\u001b[39m\u001b[38;5;124mNAME\u001b[39m\u001b[38;5;124m'\u001b[39m]\n\u001b[0;32m---> 99\u001b[0m \u001b[38;5;28mself\u001b[39m\u001b[38;5;241m.\u001b[39mspec_cln \u001b[38;5;241m=\u001b[39m \u001b[43mhdulist\u001b[49m\u001b[43m[\u001b[49m\u001b[38;5;241;43m0\u001b[39;49m\u001b[43m]\u001b[49m\u001b[38;5;241;43m.\u001b[39;49m\u001b[43mheader\u001b[49m\u001b[43m[\u001b[49m\u001b[38;5;124;43m'\u001b[39;49m\u001b[38;5;124;43mSPEC_CLN\u001b[39;49m\u001b[38;5;124;43m'\u001b[39;49m\u001b[43m]\u001b[49m\n\u001b[1;32m    100\u001b[0m \u001b[38;5;28mself\u001b[39m\u001b[38;5;241m.\u001b[39mcoeff0 \u001b[38;5;241m=\u001b[39m hdulist[\u001b[38;5;241m0\u001b[39m]\u001b[38;5;241m.\u001b[39mheader[\u001b[38;5;124m'\u001b[39m\u001b[38;5;124mCOEFF0\u001b[39m\u001b[38;5;124m'\u001b[39m]\n\u001b[1;32m    101\u001b[0m \u001b[38;5;28mself\u001b[39m\u001b[38;5;241m.\u001b[39mcoeff1 \u001b[38;5;241m=\u001b[39m hdulist[\u001b[38;5;241m0\u001b[39m]\u001b[38;5;241m.\u001b[39mheader[\u001b[38;5;124m'\u001b[39m\u001b[38;5;124mCOEFF1\u001b[39m\u001b[38;5;124m'\u001b[39m]\n",
      "File \u001b[0;32m~/anaconda3/envs/sdss/lib/python3.10/site-packages/astropy/io/fits/header.py:170\u001b[0m, in \u001b[0;36mHeader.__getitem__\u001b[0;34m(self, key)\u001b[0m\n\u001b[1;32m    167\u001b[0m \u001b[38;5;28;01melse\u001b[39;00m:\n\u001b[1;32m    168\u001b[0m     keyword \u001b[38;5;241m=\u001b[39m key\n\u001b[0;32m--> 170\u001b[0m card \u001b[38;5;241m=\u001b[39m \u001b[38;5;28mself\u001b[39m\u001b[38;5;241m.\u001b[39m_cards[\u001b[38;5;28;43mself\u001b[39;49m\u001b[38;5;241;43m.\u001b[39;49m\u001b[43m_cardindex\u001b[49m\u001b[43m(\u001b[49m\u001b[43mkey\u001b[49m\u001b[43m)\u001b[49m]\n\u001b[1;32m    172\u001b[0m \u001b[38;5;28;01mif\u001b[39;00m card\u001b[38;5;241m.\u001b[39mfield_specifier \u001b[38;5;129;01mis\u001b[39;00m \u001b[38;5;129;01mnot\u001b[39;00m \u001b[38;5;28;01mNone\u001b[39;00m \u001b[38;5;129;01mand\u001b[39;00m keyword \u001b[38;5;241m==\u001b[39m card\u001b[38;5;241m.\u001b[39mrawkeyword:\n\u001b[1;32m    173\u001b[0m     \u001b[38;5;66;03m# This is RVKC; if only the top-level keyword was specified return\u001b[39;00m\n\u001b[1;32m    174\u001b[0m     \u001b[38;5;66;03m# the raw value, not the parsed out float value\u001b[39;00m\n\u001b[1;32m    175\u001b[0m     \u001b[38;5;28;01mreturn\u001b[39;00m card\u001b[38;5;241m.\u001b[39mrawvalue\n",
      "File \u001b[0;32m~/anaconda3/envs/sdss/lib/python3.10/site-packages/astropy/io/fits/header.py:1726\u001b[0m, in \u001b[0;36mHeader._cardindex\u001b[0;34m(self, key)\u001b[0m\n\u001b[1;32m   1723\u001b[0m         indices \u001b[38;5;241m=\u001b[39m \u001b[38;5;28mself\u001b[39m\u001b[38;5;241m.\u001b[39m_rvkc_indices\u001b[38;5;241m.\u001b[39mget(keyword, \u001b[38;5;28;01mNone\u001b[39;00m)\n\u001b[1;32m   1725\u001b[0m \u001b[38;5;28;01mif\u001b[39;00m \u001b[38;5;129;01mnot\u001b[39;00m indices:\n\u001b[0;32m-> 1726\u001b[0m     \u001b[38;5;28;01mraise\u001b[39;00m \u001b[38;5;167;01mKeyError\u001b[39;00m(\u001b[38;5;124mf\u001b[39m\u001b[38;5;124m\"\u001b[39m\u001b[38;5;124mKeyword \u001b[39m\u001b[38;5;132;01m{\u001b[39;00mkeyword\u001b[38;5;132;01m!r}\u001b[39;00m\u001b[38;5;124m not found.\u001b[39m\u001b[38;5;124m\"\u001b[39m)\n\u001b[1;32m   1728\u001b[0m \u001b[38;5;28;01mtry\u001b[39;00m:\n\u001b[1;32m   1729\u001b[0m     \u001b[38;5;28;01mreturn\u001b[39;00m indices[n]\n",
      "\u001b[0;31mKeyError\u001b[0m: \"Keyword 'SPEC_CLN' not found.\""
     ]
    }
   ],
   "source": [
    "SDSSfits(source=qso_fits_path)"
   ]
  },
  {
   "cell_type": "code",
   "execution_count": 31,
   "metadata": {},
   "outputs": [
    {
     "ename": "KeyError",
     "evalue": "\"Keyword 'Z' not found.\"",
     "output_type": "error",
     "traceback": [
      "\u001b[0;31m---------------------------------------------------------------------------\u001b[0m",
      "\u001b[0;31mKeyError\u001b[0m                                  Traceback (most recent call last)",
      "Input \u001b[0;32mIn [31]\u001b[0m, in \u001b[0;36m<cell line: 1>\u001b[0;34m()\u001b[0m\n\u001b[0;32m----> 1\u001b[0m \u001b[43mhdul\u001b[49m\u001b[43m[\u001b[49m\u001b[38;5;241;43m0\u001b[39;49m\u001b[43m]\u001b[49m\u001b[38;5;241;43m.\u001b[39;49m\u001b[43mheader\u001b[49m\u001b[43m[\u001b[49m\u001b[38;5;124;43m'\u001b[39;49m\u001b[38;5;124;43mz\u001b[39;49m\u001b[38;5;124;43m'\u001b[39;49m\u001b[43m]\u001b[49m\n",
      "File \u001b[0;32m~/anaconda3/envs/sdss/lib/python3.10/site-packages/astropy/io/fits/header.py:170\u001b[0m, in \u001b[0;36mHeader.__getitem__\u001b[0;34m(self, key)\u001b[0m\n\u001b[1;32m    167\u001b[0m \u001b[38;5;28;01melse\u001b[39;00m:\n\u001b[1;32m    168\u001b[0m     keyword \u001b[38;5;241m=\u001b[39m key\n\u001b[0;32m--> 170\u001b[0m card \u001b[38;5;241m=\u001b[39m \u001b[38;5;28mself\u001b[39m\u001b[38;5;241m.\u001b[39m_cards[\u001b[38;5;28;43mself\u001b[39;49m\u001b[38;5;241;43m.\u001b[39;49m\u001b[43m_cardindex\u001b[49m\u001b[43m(\u001b[49m\u001b[43mkey\u001b[49m\u001b[43m)\u001b[49m]\n\u001b[1;32m    172\u001b[0m \u001b[38;5;28;01mif\u001b[39;00m card\u001b[38;5;241m.\u001b[39mfield_specifier \u001b[38;5;129;01mis\u001b[39;00m \u001b[38;5;129;01mnot\u001b[39;00m \u001b[38;5;28;01mNone\u001b[39;00m \u001b[38;5;129;01mand\u001b[39;00m keyword \u001b[38;5;241m==\u001b[39m card\u001b[38;5;241m.\u001b[39mrawkeyword:\n\u001b[1;32m    173\u001b[0m     \u001b[38;5;66;03m# This is RVKC; if only the top-level keyword was specified return\u001b[39;00m\n\u001b[1;32m    174\u001b[0m     \u001b[38;5;66;03m# the raw value, not the parsed out float value\u001b[39;00m\n\u001b[1;32m    175\u001b[0m     \u001b[38;5;28;01mreturn\u001b[39;00m card\u001b[38;5;241m.\u001b[39mrawvalue\n",
      "File \u001b[0;32m~/anaconda3/envs/sdss/lib/python3.10/site-packages/astropy/io/fits/header.py:1726\u001b[0m, in \u001b[0;36mHeader._cardindex\u001b[0;34m(self, key)\u001b[0m\n\u001b[1;32m   1723\u001b[0m         indices \u001b[38;5;241m=\u001b[39m \u001b[38;5;28mself\u001b[39m\u001b[38;5;241m.\u001b[39m_rvkc_indices\u001b[38;5;241m.\u001b[39mget(keyword, \u001b[38;5;28;01mNone\u001b[39;00m)\n\u001b[1;32m   1725\u001b[0m \u001b[38;5;28;01mif\u001b[39;00m \u001b[38;5;129;01mnot\u001b[39;00m indices:\n\u001b[0;32m-> 1726\u001b[0m     \u001b[38;5;28;01mraise\u001b[39;00m \u001b[38;5;167;01mKeyError\u001b[39;00m(\u001b[38;5;124mf\u001b[39m\u001b[38;5;124m\"\u001b[39m\u001b[38;5;124mKeyword \u001b[39m\u001b[38;5;132;01m{\u001b[39;00mkeyword\u001b[38;5;132;01m!r}\u001b[39;00m\u001b[38;5;124m not found.\u001b[39m\u001b[38;5;124m\"\u001b[39m)\n\u001b[1;32m   1728\u001b[0m \u001b[38;5;28;01mtry\u001b[39;00m:\n\u001b[1;32m   1729\u001b[0m     \u001b[38;5;28;01mreturn\u001b[39;00m indices[n]\n",
      "\u001b[0;31mKeyError\u001b[0m: \"Keyword 'Z' not found.\""
     ]
    }
   ],
   "source": [
    "hdul[0].header['z']"
   ]
  },
  {
   "cell_type": "code",
   "execution_count": 35,
   "metadata": {},
   "outputs": [],
   "source": [
    "import os \n",
    "import re\n",
    "import sys\n",
    "module_path = os.path.abspath(os.path.join('..'))\n",
    "if module_path not in sys.path:\n",
    "    sys.path.append(module_path)"
   ]
  },
  {
   "cell_type": "code",
   "execution_count": 36,
   "metadata": {},
   "outputs": [],
   "source": [
    "from src.astroML.datasets.tools.download import download_with_progress_bar"
   ]
  },
  {
   "cell_type": "code",
   "execution_count": 41,
   "metadata": {},
   "outputs": [
    {
     "name": "stdout",
     "output_type": "stream",
     "text": [
      "Downloading https://data.sdss.org/sas/dr16/eboss/spectro/redux/v5_13_0/spectra/full/6255/spec-6255-56240-0001.fits\n",
      "[========================================]  956.2kb / 956.2kb   \n"
     ]
    }
   ],
   "source": [
    "download_url = 'https://data.sdss.org/sas/dr16/eboss/spectro/redux/v5_13_0/spectra/full/6255/spec-6255-56240-0001.fits'\n",
    "\n",
    "\n",
    "\n",
    "buffer = download_with_progress_bar(download_url, return_buffer=True)"
   ]
  },
  {
   "cell_type": "code",
   "execution_count": 46,
   "metadata": {},
   "outputs": [
    {
     "ename": "OSError",
     "evalue": "No SIMPLE card found, this file does not appear to be a valid FITS file. If this is really a FITS file, try with ignore_missing_simple=True",
     "output_type": "error",
     "traceback": [
      "\u001b[0;31m---------------------------------------------------------------------------\u001b[0m",
      "\u001b[0;31mOSError\u001b[0m                                   Traceback (most recent call last)",
      "Input \u001b[0;32mIn [46]\u001b[0m, in \u001b[0;36m<cell line: 1>\u001b[0;34m()\u001b[0m\n\u001b[0;32m----> 1\u001b[0m hdul \u001b[38;5;241m=\u001b[39m \u001b[43mfits\u001b[49m\u001b[38;5;241;43m.\u001b[39;49m\u001b[43mopen\u001b[49m\u001b[43m(\u001b[49m\u001b[43mbuffer\u001b[49m\u001b[43m)\u001b[49m\n",
      "File \u001b[0;32m~/anaconda3/envs/sdss/lib/python3.10/site-packages/astropy/io/fits/hdu/hdulist.py:222\u001b[0m, in \u001b[0;36mfitsopen\u001b[0;34m(name, mode, memmap, save_backup, cache, lazy_load_hdus, ignore_missing_simple, use_fsspec, fsspec_kwargs, decompress_in_memory, **kwargs)\u001b[0m\n\u001b[1;32m    219\u001b[0m \u001b[38;5;28;01mif\u001b[39;00m \u001b[38;5;129;01mnot\u001b[39;00m name:\n\u001b[1;32m    220\u001b[0m     \u001b[38;5;28;01mraise\u001b[39;00m \u001b[38;5;167;01mValueError\u001b[39;00m(\u001b[38;5;124mf\u001b[39m\u001b[38;5;124m\"\u001b[39m\u001b[38;5;124mEmpty filename: \u001b[39m\u001b[38;5;132;01m{\u001b[39;00mname\u001b[38;5;132;01m!r}\u001b[39;00m\u001b[38;5;124m\"\u001b[39m)\n\u001b[0;32m--> 222\u001b[0m \u001b[38;5;28;01mreturn\u001b[39;00m \u001b[43mHDUList\u001b[49m\u001b[38;5;241;43m.\u001b[39;49m\u001b[43mfromfile\u001b[49m\u001b[43m(\u001b[49m\n\u001b[1;32m    223\u001b[0m \u001b[43m    \u001b[49m\u001b[43mname\u001b[49m\u001b[43m,\u001b[49m\n\u001b[1;32m    224\u001b[0m \u001b[43m    \u001b[49m\u001b[43mmode\u001b[49m\u001b[43m,\u001b[49m\n\u001b[1;32m    225\u001b[0m \u001b[43m    \u001b[49m\u001b[43mmemmap\u001b[49m\u001b[43m,\u001b[49m\n\u001b[1;32m    226\u001b[0m \u001b[43m    \u001b[49m\u001b[43msave_backup\u001b[49m\u001b[43m,\u001b[49m\n\u001b[1;32m    227\u001b[0m \u001b[43m    \u001b[49m\u001b[43mcache\u001b[49m\u001b[43m,\u001b[49m\n\u001b[1;32m    228\u001b[0m \u001b[43m    \u001b[49m\u001b[43mlazy_load_hdus\u001b[49m\u001b[43m,\u001b[49m\n\u001b[1;32m    229\u001b[0m \u001b[43m    \u001b[49m\u001b[43mignore_missing_simple\u001b[49m\u001b[43m,\u001b[49m\n\u001b[1;32m    230\u001b[0m \u001b[43m    \u001b[49m\u001b[43muse_fsspec\u001b[49m\u001b[38;5;241;43m=\u001b[39;49m\u001b[43muse_fsspec\u001b[49m\u001b[43m,\u001b[49m\n\u001b[1;32m    231\u001b[0m \u001b[43m    \u001b[49m\u001b[43mfsspec_kwargs\u001b[49m\u001b[38;5;241;43m=\u001b[39;49m\u001b[43mfsspec_kwargs\u001b[49m\u001b[43m,\u001b[49m\n\u001b[1;32m    232\u001b[0m \u001b[43m    \u001b[49m\u001b[43mdecompress_in_memory\u001b[49m\u001b[38;5;241;43m=\u001b[39;49m\u001b[43mdecompress_in_memory\u001b[49m\u001b[43m,\u001b[49m\n\u001b[1;32m    233\u001b[0m \u001b[43m    \u001b[49m\u001b[38;5;241;43m*\u001b[39;49m\u001b[38;5;241;43m*\u001b[39;49m\u001b[43mkwargs\u001b[49m\u001b[43m,\u001b[49m\n\u001b[1;32m    234\u001b[0m \u001b[43m\u001b[49m\u001b[43m)\u001b[49m\n",
      "File \u001b[0;32m~/anaconda3/envs/sdss/lib/python3.10/site-packages/astropy/io/fits/hdu/hdulist.py:486\u001b[0m, in \u001b[0;36mHDUList.fromfile\u001b[0;34m(cls, fileobj, mode, memmap, save_backup, cache, lazy_load_hdus, ignore_missing_simple, **kwargs)\u001b[0m\n\u001b[1;32m    467\u001b[0m \u001b[38;5;129m@classmethod\u001b[39m\n\u001b[1;32m    468\u001b[0m \u001b[38;5;28;01mdef\u001b[39;00m \u001b[38;5;21mfromfile\u001b[39m(\n\u001b[1;32m    469\u001b[0m     \u001b[38;5;28mcls\u001b[39m,\n\u001b[0;32m   (...)\u001b[0m\n\u001b[1;32m    477\u001b[0m     \u001b[38;5;241m*\u001b[39m\u001b[38;5;241m*\u001b[39mkwargs,\n\u001b[1;32m    478\u001b[0m ):\n\u001b[1;32m    479\u001b[0m     \u001b[38;5;124;03m\"\"\"\u001b[39;00m\n\u001b[1;32m    480\u001b[0m \u001b[38;5;124;03m    Creates an `HDUList` instance from a file-like object.\u001b[39;00m\n\u001b[1;32m    481\u001b[0m \n\u001b[0;32m   (...)\u001b[0m\n\u001b[1;32m    484\u001b[0m \u001b[38;5;124;03m    documentation for details of the parameters accepted by this method).\u001b[39;00m\n\u001b[1;32m    485\u001b[0m \u001b[38;5;124;03m    \"\"\"\u001b[39;00m\n\u001b[0;32m--> 486\u001b[0m     \u001b[38;5;28;01mreturn\u001b[39;00m \u001b[38;5;28;43mcls\u001b[39;49m\u001b[38;5;241;43m.\u001b[39;49m\u001b[43m_readfrom\u001b[49m\u001b[43m(\u001b[49m\n\u001b[1;32m    487\u001b[0m \u001b[43m        \u001b[49m\u001b[43mfileobj\u001b[49m\u001b[38;5;241;43m=\u001b[39;49m\u001b[43mfileobj\u001b[49m\u001b[43m,\u001b[49m\n\u001b[1;32m    488\u001b[0m \u001b[43m        \u001b[49m\u001b[43mmode\u001b[49m\u001b[38;5;241;43m=\u001b[39;49m\u001b[43mmode\u001b[49m\u001b[43m,\u001b[49m\n\u001b[1;32m    489\u001b[0m \u001b[43m        \u001b[49m\u001b[43mmemmap\u001b[49m\u001b[38;5;241;43m=\u001b[39;49m\u001b[43mmemmap\u001b[49m\u001b[43m,\u001b[49m\n\u001b[1;32m    490\u001b[0m \u001b[43m        \u001b[49m\u001b[43msave_backup\u001b[49m\u001b[38;5;241;43m=\u001b[39;49m\u001b[43msave_backup\u001b[49m\u001b[43m,\u001b[49m\n\u001b[1;32m    491\u001b[0m \u001b[43m        \u001b[49m\u001b[43mcache\u001b[49m\u001b[38;5;241;43m=\u001b[39;49m\u001b[43mcache\u001b[49m\u001b[43m,\u001b[49m\n\u001b[1;32m    492\u001b[0m \u001b[43m        \u001b[49m\u001b[43mignore_missing_simple\u001b[49m\u001b[38;5;241;43m=\u001b[39;49m\u001b[43mignore_missing_simple\u001b[49m\u001b[43m,\u001b[49m\n\u001b[1;32m    493\u001b[0m \u001b[43m        \u001b[49m\u001b[43mlazy_load_hdus\u001b[49m\u001b[38;5;241;43m=\u001b[39;49m\u001b[43mlazy_load_hdus\u001b[49m\u001b[43m,\u001b[49m\n\u001b[1;32m    494\u001b[0m \u001b[43m        \u001b[49m\u001b[38;5;241;43m*\u001b[39;49m\u001b[38;5;241;43m*\u001b[39;49m\u001b[43mkwargs\u001b[49m\u001b[43m,\u001b[49m\n\u001b[1;32m    495\u001b[0m \u001b[43m    \u001b[49m\u001b[43m)\u001b[49m\n",
      "File \u001b[0;32m~/anaconda3/envs/sdss/lib/python3.10/site-packages/astropy/io/fits/hdu/hdulist.py:1210\u001b[0m, in \u001b[0;36mHDUList._readfrom\u001b[0;34m(cls, fileobj, data, mode, memmap, cache, lazy_load_hdus, ignore_missing_simple, use_fsspec, fsspec_kwargs, decompress_in_memory, **kwargs)\u001b[0m\n\u001b[1;32m   1208\u001b[0m             \u001b[38;5;28;01mif\u001b[39;00m hdulist\u001b[38;5;241m.\u001b[39m_file\u001b[38;5;241m.\u001b[39mclose_on_error:\n\u001b[1;32m   1209\u001b[0m                 hdulist\u001b[38;5;241m.\u001b[39m_file\u001b[38;5;241m.\u001b[39mclose()\n\u001b[0;32m-> 1210\u001b[0m             \u001b[38;5;28;01mraise\u001b[39;00m \u001b[38;5;167;01mOSError\u001b[39;00m(\n\u001b[1;32m   1211\u001b[0m                 \u001b[38;5;124m\"\u001b[39m\u001b[38;5;124mNo SIMPLE card found, this file does not appear to \u001b[39m\u001b[38;5;124m\"\u001b[39m\n\u001b[1;32m   1212\u001b[0m                 \u001b[38;5;124m\"\u001b[39m\u001b[38;5;124mbe a valid FITS file. If this is really a FITS file, \u001b[39m\u001b[38;5;124m\"\u001b[39m\n\u001b[1;32m   1213\u001b[0m                 \u001b[38;5;124m\"\u001b[39m\u001b[38;5;124mtry with ignore_missing_simple=True\u001b[39m\u001b[38;5;124m\"\u001b[39m\n\u001b[1;32m   1214\u001b[0m             )\n\u001b[1;32m   1216\u001b[0m     hdulist\u001b[38;5;241m.\u001b[39m_file\u001b[38;5;241m.\u001b[39mseek(pos)\n\u001b[1;32m   1218\u001b[0m \u001b[38;5;66;03m# Store additional keyword args that were passed to fits.open\u001b[39;00m\n",
      "\u001b[0;31mOSError\u001b[0m: No SIMPLE card found, this file does not appear to be a valid FITS file. If this is really a FITS file, try with ignore_missing_simple=True"
     ]
    }
   ],
   "source": [
    "hdul = fits.open(buffer)"
   ]
  },
  {
   "cell_type": "code",
   "execution_count": 44,
   "metadata": {},
   "outputs": [
    {
     "name": "stdout",
     "output_type": "stream",
     "text": [
      "Filename: <class '_io.BytesIO'>\n",
      "No.    Name      Ver    Type      Cards   Dimensions   Format\n",
      "  0  PRIMARY       1 PrimaryHDU     125   ()      \n",
      "  1                1 BinTableHDU     33   4627R x 8C   [E, E, E, J, J, E, E, E]   \n",
      "  2                1 BinTableHDU    501   1R x 236C   [4A, 6A, 4A, E, E, J, J, E, J, E, E, E, K, K, K, K, K, K, K, K, K, B, B, J, I, 5E, 5E, J, J, J, J, 7A, 7A, 6A, D, D, 3A, A, E, E, E, J, E, 21A, 10J, J, 10E, E, E, E, E, E, E, J, E, E, E, J, 5E, E, E, 10E, 10E, 10E, 5E, 5E, 5E, 5E, 5E, J, J, E, E, E, E, E, E, A, A, A, E, E, E, E, E, E, E, E, J, E, E, J, J, 6A, A, E, 35E, 19A, A, 19A, B, B, B, I, 3A, B, I, I, I, I, J, E, J, J, E, E, E, E, E, E, E, E, 5E, 5E, 5E, 5E, 5E, 5E, 5E, 5E, 5E, 5E, 5E, 5E, 5E, 5E, 5E, 5E, 5E, 5E, 5E, 5E, 5E, 5E, 5E, 5E, 5E, 5E, 5E, 5E, 5E, 5E, 5E, 5E, 5E, 5E, 5E, 5J, 5J, 5J, 5E, 5J, 75E, 75E, 5E, 5E, 5E, 5J, 5E, D, D, D, D, D, D, D, D, D, 5E, 5E, 5E, 5E, 5E, 5E, 5E, 5E, 5E, 5E, 5E, 5E, 5E, 5E, 5E, 5E, 5E, 5E, 5E, 5E, 5E, 5E, 5E, 5E, 5E, 5E, 5E, 5E, 5E, 5E, 5E, 5E, 5E, 5E, 5E, 5E, 5E, 5E, 5E, 5E, 5E, 5E, 40E, 40E, 5J, 5J, 5E, 5E, 5D, J, J, J, J, J, J, J, E, K]   \n",
      "  3                1 BinTableHDU     55   32R x 19C   [J, J, J, 13A, D, E, E, E, E, E, E, E, E, E, E, J, J, E, E]   \n",
      "  4                1 BinTableHDU     33   2534R x 8C   [E, E, E, J, E, E, E, E]   \n",
      "  5                1 BinTableHDU     33   2529R x 8C   [E, E, E, J, E, E, E, E]   \n",
      "  6                1 BinTableHDU     33   2528R x 8C   [E, E, E, J, E, E, E, E]   \n",
      "  7                1 BinTableHDU     33   2529R x 8C   [E, E, E, J, E, E, E, E]   \n",
      "  8                1 BinTableHDU     33   3129R x 8C   [E, E, E, J, E, E, E, E]   \n",
      "  9                1 BinTableHDU     33   3129R x 8C   [E, E, E, J, E, E, E, E]   \n",
      " 10                1 BinTableHDU     33   3129R x 8C   [E, E, E, J, E, E, E, E]   \n",
      " 11                1 BinTableHDU     33   3129R x 8C   [E, E, E, J, E, E, E, E]   \n"
     ]
    }
   ],
   "source": [
    "fits_f.info()"
   ]
  },
  {
   "cell_type": "code",
   "execution_count": 48,
   "metadata": {},
   "outputs": [
    {
     "data": {
      "text/plain": [
       "'6255-56240-01'"
      ]
     },
     "execution_count": 48,
     "metadata": {},
     "output_type": "execute_result"
    }
   ],
   "source": [
    "hdul[0].header['NAME']"
   ]
  },
  {
   "cell_type": "code",
   "execution_count": 57,
   "metadata": {},
   "outputs": [],
   "source": [
    "h_str = hdul[0].header"
   ]
  },
  {
   "cell_type": "code",
   "execution_count": 58,
   "metadata": {},
   "outputs": [
    {
     "data": {
      "text/plain": [
       "SIMPLE  =                    T / conforms to FITS standard                      \n",
       "BITPIX  =                    8 / array data type                                \n",
       "NAXIS   =                    0 / number of array dimensions                     \n",
       "EXTEND  =                    T                                                  \n",
       "TELESCOP= 'SDSS 2.5-M'         / Sloan Digital Sky Survey                       \n",
       "FLAVOR  = 'science '           / exposure type, SDSS spectro style              \n",
       "BOSSVER = '2       '           / ICC version                                    \n",
       "MJD     =                56240 / APO fMJD day at start of exposure              \n",
       "MJDLIST = '56240   '           /                                                \n",
       "NAME    = '6255-56240-01'      / The name of the currently loaded plate         \n",
       "PLATEID =                 6255 / The currently loaded plate                     \n",
       "TILEID  =                15188 /Cartridge used in this plugging                 \n",
       "CARTID  =                   15 /Cartridge used in this plugging                 \n",
       "MAPID   =                    1 / The mapping version of the loaded plate        \n",
       "RA      =            16.232466 / RA of telescope boresight (deg)                \n",
       "DEC     =            26.638018 / Dec of telescope boresight (deg)               \n",
       "EQUINOX =              2000.00 /                                                \n",
       "RADECSYS= 'FK5     '           /                                                \n",
       "RADEG   =              16.2323 / RA of telescope pointing(deg)                  \n",
       "DECDEG  =              26.6371 / Dec of telescope pointing (deg)                \n",
       "BOREOFFX=                  0.0 / TCC Boresight offset, deg                      \n",
       "BOREOFFY=                  0.0 / TCC Boresight offset, deg                      \n",
       "GUIDOFFY=                  0.0 / TCC GuideOff, deg                              \n",
       "PRESSURE=              21.4622 / pressure                                       \n",
       "WINDD   =              259.175 / windd                                          \n",
       "WINDS   =              16.5000 / winds                                          \n",
       "GUSTD   =                264.3 / gustd                                          \n",
       "GUSTS   =              25.1000 / gusts                                          \n",
       "AIRTEMP =              7.25000 / airTempPT                                      \n",
       "DEWPOINT=             -5.90000 / dpTempPT                                       \n",
       "HUMIDITY=              38.9250 / humidity                                       \n",
       "DUSTA   =              13188.2 / dusta                                          \n",
       "DUSTB   =              252.250 / dustb                                          \n",
       "WINDD25M=                342.7 / windd25m                                       \n",
       "WINDS25M=                 19.6 / winds25m                                       \n",
       "SLITID2 =                   15 / Normalized slithead ID. sp1&2 should match.    \n",
       "BESTEXP =               150421 /                                                \n",
       "NEXP_B1 =                    4 / b1 camera number of exposures                  \n",
       "NEXP_R1 =                    4 / r1 camera number of exposures                  \n",
       "EXPT_B1 =              3603.36 / b1 camera exposure time (seconds)              \n",
       "EXPT_R1 =              3603.36 / r1 camera exposure time (seconds)              \n",
       "EXPTIME =              3603.36 / Minimum of exposure times for all cameras      \n",
       "SPCOADD = 'Sat May 28 16:59:36 2016' / SPCOADD finished                         \n",
       "SHOPETIM=                 0.73 / open shutter transit time, s                   \n",
       "SHCLOTIM=                 0.55 / close shutter transit time, s                  \n",
       "LN2TEMP =    90.23399999999999                                                  \n",
       "CCDTEMP =   -99.60899999999999                                                  \n",
       "IONPUMP =                -6.59                                                  \n",
       "VERSIDL = '7.1.1   '           / Version of IDL                                 \n",
       "VERSUTIL= 'v5_5_17 '           / Version of idlutils                            \n",
       "VERSREAD= 'v5_10_0 '           / Version of idlspec2d for pre-processing raw dat\n",
       "VERS2D  = 'v5_10_0 '           / Version of idlspec2d for 2D reduction          \n",
       "VERSCOMB= 'v5_10_0 '           / Version of idlspec2d for combining multiple spe\n",
       "VERSLOG = 'trunk 23370'        / Version of SPECLOG product                     \n",
       "VERSFLAT= 'v1_25   '           / Version of SPECFLAT product                    \n",
       "RDNOISE0=              2.04045 /CCD read noise amp 0 [electrons]                \n",
       "BADPIXEL= 'badpixels-56149-b1.fits.gz' /                                        \n",
       "RUN2D   = 'v5_10_0 '           / Spectro-2D reduction name                      \n",
       "REDDEN01=             0.361900 / Median extinction in u-band                    \n",
       "REDDEN02=             0.266300 / Median extinction in g-band                    \n",
       "REDDEN03=             0.193100 / Median extinction in r-band                    \n",
       "REDDEN04=             0.146400 / Median extinction in i-band                    \n",
       "REDDEN05=             0.103800 / Median extinction in z-band                    \n",
       "PLUGFILE= 'plPlugMapM-6255-56240-01.par' /                                      \n",
       "HELIO_RV=        11.0419449970 / Heliocentric correction (added to velocities)  \n",
       "VACUUM  =                    T / Wavelengths are in vacuum                      \n",
       "SFLATTEN=                    T / Superflat has been applied                     \n",
       "PSFSKY  =                    3 / Order of PSF skysubtraction                    \n",
       "SKYCHI2 =        1.00719278170 / Mean chi^2 of sky-subtraction                  \n",
       "SCHI2MIN=       0.960598877851 /                                                \n",
       "SCHI2MAX=        1.11669208159 /                                                \n",
       "PREJECT =             0.200000 / Profile area rejection threshold               \n",
       "SPEC1_G =              9.94003 / (S/N)^2 for spec  1 at mag 21.20               \n",
       "SN2EXT1G=              9.94003 / Extinction corrected (S/N)^2                   \n",
       "SPEC1_R =              33.2892 / (S/N)^2 for spec  1 at mag 20.20               \n",
       "SN2EXT1R=              33.2892 / Extinction corrected (S/N)^2                   \n",
       "SPEC1_I =              28.0215 / (S/N)^2 for spec  1 at mag 20.20               \n",
       "SN2EXT1I=              28.0215 / Extinction corrected (S/N)^2                   \n",
       "SPEC2_G =              9.91091 / (S/N)^2 for spec  2 at mag 21.20               \n",
       "SN2EXT2G=              9.91091 / Extinction corrected (S/N)^2                   \n",
       "SPEC2_R =              30.4956 / (S/N)^2 for spec  2 at mag 20.20               \n",
       "SN2EXT2R=              30.4956 / Extinction corrected (S/N)^2                   \n",
       "SPEC2_I =              27.0919 / (S/N)^2 for spec  2 at mag 20.20               \n",
       "SN2EXT2I=              27.0919 / Extinction corrected (S/N)^2                   \n",
       "NSTD    =                   20 / Number of (good) std stars                     \n",
       "GOFFSTD =           0.00524330 / Spectrophoto offset for std stars in G-band    \n",
       "GRMSSTD =            0.0734977 / Spectrophoto RMS for std stars in G-band       \n",
       "ROFFSTD =           0.00422859 / Spectrophoto offset for std stars in R-band    \n",
       "RRMSSTD =            0.0448702 / Spectrophoto RMS for std stars in R-band       \n",
       "IOFFSTD =          -0.00976944 / Spectrophoto offset for std stars in I-band    \n",
       "IRMSSTD =            0.0497498 / Spectrophoto RMS for std stars in I-band       \n",
       "GROFFSTD=           -0.0195065 / Spectrophoto offset for std stars in (GR)      \n",
       "GRRMSSTD=            0.0513857 / Spectrophoto RMS for std stars in (GR)         \n",
       "RIOFFSTD=           0.00794792 / Spectrophoto offset for std stars in (RI)      \n",
       "RIRMSSTD=            0.0308476 / Spectrophoto RMS for std stars in (RI)         \n",
       "LOWREJ  =                    4 / Extraction: low rejection                      \n",
       "HIGHREJ =                    4 / Extraction: high rejection                     \n",
       "SCATPOLY=                    0 / Extraction: Order of scattered light polynomial\n",
       "PROFTYPE=                    1 / Extraction profile: 1=Gaussian                 \n",
       "NFITPOLY=                    1 / Extraction: Number of parameters in each profil\n",
       "XCHI2   =              0.00000 / Extraction: Mean chi^2                         \n",
       "NWORDER =                    2 / Linear-log10 coefficients                      \n",
       "WFITTYPE= 'LOG-LINEAR'         / Linear-log10 dispersion                        \n",
       "COEFF0  =                3.552 / Central wavelength (log10) of first pixel      \n",
       "COEFF1  =    0.000100000000000 / Log10 dispersion per pixel                     \n",
       "FBADPIX =            0.0277157 / Fraction of bad pixels                         \n",
       "FBADPIX1=            0.0397734 / Fraction of bad pixels on spectro-1            \n",
       "FBADPIX2=            0.0156338 / Fraction of bad pixels on spectro-2            \n",
       "WAT0_001= 'system=linear'      /                                                \n",
       "WAT1_001= 'wtype=linear label=Wavelength units=Angstroms' /                     \n",
       "DC-FLAG =                    1 / Log-linear flag                                \n",
       "BUNIT   = '1E-17 erg/cm^2/s/Ang' /                                              \n",
       "PLUG_RA =    16.97904299999999 / RA of object [deg]                             \n",
       "PLUG_DEC=            26.240876 / dec of object [deg]                            \n",
       "THING_ID=            339383700 / Unique object identifier                       \n",
       "FIBERID =                   62 / Fiber number (1-1000)                          \n",
       "NEXP    =                    8 / Number of individual exposures                 \n",
       "EXPID01 = 'b1-00150421-00150420-00150419'                                       \n",
       "EXPID02 = 'b1-00150422-00150420-00150419'                                       \n",
       "EXPID03 = 'b1-00150423-00150420-00150419'                                       \n",
       "EXPID04 = 'b1-00150424-00150420-00150419'                                       \n",
       "EXPID05 = 'r1-00150421-00150420-00150419'                                       \n",
       "EXPID06 = 'r1-00150422-00150420-00150419'                                       \n",
       "EXPID07 = 'r1-00150423-00150420-00150419'                                       \n",
       "EXPID08 = 'r1-00150424-00150420-00150419'                                       "
      ]
     },
     "execution_count": 58,
     "metadata": {},
     "output_type": "execute_result"
    }
   ],
   "source": [
    "h_str"
   ]
  },
  {
   "cell_type": "code",
   "execution_count": 62,
   "metadata": {},
   "outputs": [],
   "source": [
    "hdul[0].data"
   ]
  },
  {
   "cell_type": "code",
   "execution_count": null,
   "metadata": {},
   "outputs": [],
   "source": []
  },
  {
   "cell_type": "code",
   "execution_count": null,
   "metadata": {},
   "outputs": [],
   "source": []
  },
  {
   "cell_type": "code",
   "execution_count": null,
   "metadata": {},
   "outputs": [],
   "source": []
  },
  {
   "cell_type": "code",
   "execution_count": 13,
   "metadata": {},
   "outputs": [
    {
     "ename": "HTTPError",
     "evalue": "HTTP Error 404: Not Found",
     "output_type": "error",
     "traceback": [
      "\u001b[0;31m---------------------------------------------------------------------------\u001b[0m",
      "\u001b[0;31mHTTPError\u001b[0m                                 Traceback (most recent call last)",
      "Input \u001b[0;32mIn [13]\u001b[0m, in \u001b[0;36m<cell line: 1>\u001b[0;34m()\u001b[0m\n\u001b[1;32m      1\u001b[0m \u001b[38;5;28;01mfor\u001b[39;00m idx, row \u001b[38;5;129;01min\u001b[39;00m nonbal_qso_samp_df\u001b[38;5;241m.\u001b[39miloc[[\u001b[38;5;241m0\u001b[39m]]\u001b[38;5;241m.\u001b[39miterrows():\n\u001b[0;32m----> 2\u001b[0m     spec \u001b[38;5;241m=\u001b[39m \u001b[43mfetch_sdss_spectrum\u001b[49m\u001b[43m(\u001b[49m\u001b[43mplate\u001b[49m\u001b[38;5;241;43m=\u001b[39;49m\u001b[43mrow\u001b[49m\u001b[43m[\u001b[49m\u001b[38;5;124;43m'\u001b[39;49m\u001b[38;5;124;43mPLATE\u001b[39;49m\u001b[38;5;124;43m'\u001b[39;49m\u001b[43m]\u001b[49m\u001b[43m,\u001b[49m\u001b[43m \u001b[49m\u001b[43mmjd\u001b[49m\u001b[38;5;241;43m=\u001b[39;49m\u001b[43mrow\u001b[49m\u001b[43m[\u001b[49m\u001b[38;5;124;43m'\u001b[39;49m\u001b[38;5;124;43mMJD\u001b[39;49m\u001b[38;5;124;43m'\u001b[39;49m\u001b[43m]\u001b[49m\u001b[43m,\u001b[49m\u001b[43m \u001b[49m\u001b[43mfiber\u001b[49m\u001b[38;5;241;43m=\u001b[39;49m\u001b[43mrow\u001b[49m\u001b[43m[\u001b[49m\u001b[38;5;124;43m'\u001b[39;49m\u001b[38;5;124;43mFIBERID\u001b[39;49m\u001b[38;5;124;43m'\u001b[39;49m\u001b[43m]\u001b[49m\u001b[43m)\u001b[49m\n\u001b[1;32m      3\u001b[0m     \u001b[38;5;66;03m# spec = SDSS.query_specobj(plate=row['PLATE'], mjd=row['MJD'], fiberID=row['FIBERID'])\u001b[39;00m\n",
      "File \u001b[0;32m~/anaconda3/envs/sdss/lib/python3.10/site-packages/astroML/datasets/sdss_spectrum.py:46\u001b[0m, in \u001b[0;36mfetch_sdss_spectrum\u001b[0;34m(plate, mjd, fiber, data_home, download_if_missing, cache_to_disk)\u001b[0m\n\u001b[1;32m     43\u001b[0m \u001b[38;5;28;01mif\u001b[39;00m \u001b[38;5;129;01mnot\u001b[39;00m download_if_missing:\n\u001b[1;32m     44\u001b[0m     \u001b[38;5;28;01mraise\u001b[39;00m \u001b[38;5;167;01mIOError\u001b[39;00m(\u001b[38;5;124m\"\u001b[39m\u001b[38;5;124mSDSS colors training data not found\u001b[39m\u001b[38;5;124m\"\u001b[39m)\n\u001b[0;32m---> 46\u001b[0m buf \u001b[38;5;241m=\u001b[39m \u001b[43mdownload_with_progress_bar\u001b[49m\u001b[43m(\u001b[49m\u001b[43mtarget_url\u001b[49m\u001b[43m,\u001b[49m\u001b[43m \u001b[49m\u001b[43mreturn_buffer\u001b[49m\u001b[38;5;241;43m=\u001b[39;49m\u001b[38;5;28;43;01mTrue\u001b[39;49;00m\u001b[43m)\u001b[49m\n\u001b[1;32m     48\u001b[0m \u001b[38;5;28;01mif\u001b[39;00m cache_to_disk:\n\u001b[1;32m     49\u001b[0m     \u001b[38;5;28mprint\u001b[39m(\u001b[38;5;124m\"\u001b[39m\u001b[38;5;124mcaching to \u001b[39m\u001b[38;5;132;01m%s\u001b[39;00m\u001b[38;5;124m\"\u001b[39m \u001b[38;5;241m%\u001b[39m target_file)\n",
      "File \u001b[0;32m~/anaconda3/envs/sdss/lib/python3.10/site-packages/astroML/datasets/tools/download.py:44\u001b[0m, in \u001b[0;36mdownload_with_progress_bar\u001b[0;34m(data_url, return_buffer)\u001b[0m\n\u001b[1;32m     28\u001b[0m \u001b[38;5;124;03m\"\"\"Download a file, showing progress\u001b[39;00m\n\u001b[1;32m     29\u001b[0m \n\u001b[1;32m     30\u001b[0m \u001b[38;5;124;03mParameters\u001b[39;00m\n\u001b[0;32m   (...)\u001b[0m\n\u001b[1;32m     40\u001b[0m \u001b[38;5;124;03m    content of the file\u001b[39;00m\n\u001b[1;32m     41\u001b[0m \u001b[38;5;124;03m\"\"\"\u001b[39;00m\n\u001b[1;32m     42\u001b[0m num_units \u001b[38;5;241m=\u001b[39m \u001b[38;5;241m40\u001b[39m\n\u001b[0;32m---> 44\u001b[0m fhandle \u001b[38;5;241m=\u001b[39m \u001b[43murlopen\u001b[49m\u001b[43m(\u001b[49m\u001b[43mdata_url\u001b[49m\u001b[43m)\u001b[49m\n\u001b[1;32m     45\u001b[0m content_length \u001b[38;5;241m=\u001b[39m url_content_length(fhandle)\n\u001b[1;32m     47\u001b[0m chunk_size \u001b[38;5;241m=\u001b[39m content_length \u001b[38;5;241m/\u001b[39m\u001b[38;5;241m/\u001b[39m num_units\n",
      "File \u001b[0;32m~/anaconda3/envs/sdss/lib/python3.10/urllib/request.py:216\u001b[0m, in \u001b[0;36murlopen\u001b[0;34m(url, data, timeout, cafile, capath, cadefault, context)\u001b[0m\n\u001b[1;32m    214\u001b[0m \u001b[38;5;28;01melse\u001b[39;00m:\n\u001b[1;32m    215\u001b[0m     opener \u001b[38;5;241m=\u001b[39m _opener\n\u001b[0;32m--> 216\u001b[0m \u001b[38;5;28;01mreturn\u001b[39;00m \u001b[43mopener\u001b[49m\u001b[38;5;241;43m.\u001b[39;49m\u001b[43mopen\u001b[49m\u001b[43m(\u001b[49m\u001b[43murl\u001b[49m\u001b[43m,\u001b[49m\u001b[43m \u001b[49m\u001b[43mdata\u001b[49m\u001b[43m,\u001b[49m\u001b[43m \u001b[49m\u001b[43mtimeout\u001b[49m\u001b[43m)\u001b[49m\n",
      "File \u001b[0;32m~/anaconda3/envs/sdss/lib/python3.10/urllib/request.py:525\u001b[0m, in \u001b[0;36mOpenerDirector.open\u001b[0;34m(self, fullurl, data, timeout)\u001b[0m\n\u001b[1;32m    523\u001b[0m \u001b[38;5;28;01mfor\u001b[39;00m processor \u001b[38;5;129;01min\u001b[39;00m \u001b[38;5;28mself\u001b[39m\u001b[38;5;241m.\u001b[39mprocess_response\u001b[38;5;241m.\u001b[39mget(protocol, []):\n\u001b[1;32m    524\u001b[0m     meth \u001b[38;5;241m=\u001b[39m \u001b[38;5;28mgetattr\u001b[39m(processor, meth_name)\n\u001b[0;32m--> 525\u001b[0m     response \u001b[38;5;241m=\u001b[39m \u001b[43mmeth\u001b[49m\u001b[43m(\u001b[49m\u001b[43mreq\u001b[49m\u001b[43m,\u001b[49m\u001b[43m \u001b[49m\u001b[43mresponse\u001b[49m\u001b[43m)\u001b[49m\n\u001b[1;32m    527\u001b[0m \u001b[38;5;28;01mreturn\u001b[39;00m response\n",
      "File \u001b[0;32m~/anaconda3/envs/sdss/lib/python3.10/urllib/request.py:634\u001b[0m, in \u001b[0;36mHTTPErrorProcessor.http_response\u001b[0;34m(self, request, response)\u001b[0m\n\u001b[1;32m    631\u001b[0m \u001b[38;5;66;03m# According to RFC 2616, \"2xx\" code indicates that the client's\u001b[39;00m\n\u001b[1;32m    632\u001b[0m \u001b[38;5;66;03m# request was successfully received, understood, and accepted.\u001b[39;00m\n\u001b[1;32m    633\u001b[0m \u001b[38;5;28;01mif\u001b[39;00m \u001b[38;5;129;01mnot\u001b[39;00m (\u001b[38;5;241m200\u001b[39m \u001b[38;5;241m<\u001b[39m\u001b[38;5;241m=\u001b[39m code \u001b[38;5;241m<\u001b[39m \u001b[38;5;241m300\u001b[39m):\n\u001b[0;32m--> 634\u001b[0m     response \u001b[38;5;241m=\u001b[39m \u001b[38;5;28;43mself\u001b[39;49m\u001b[38;5;241;43m.\u001b[39;49m\u001b[43mparent\u001b[49m\u001b[38;5;241;43m.\u001b[39;49m\u001b[43merror\u001b[49m\u001b[43m(\u001b[49m\n\u001b[1;32m    635\u001b[0m \u001b[43m        \u001b[49m\u001b[38;5;124;43m'\u001b[39;49m\u001b[38;5;124;43mhttp\u001b[39;49m\u001b[38;5;124;43m'\u001b[39;49m\u001b[43m,\u001b[49m\u001b[43m \u001b[49m\u001b[43mrequest\u001b[49m\u001b[43m,\u001b[49m\u001b[43m \u001b[49m\u001b[43mresponse\u001b[49m\u001b[43m,\u001b[49m\u001b[43m \u001b[49m\u001b[43mcode\u001b[49m\u001b[43m,\u001b[49m\u001b[43m \u001b[49m\u001b[43mmsg\u001b[49m\u001b[43m,\u001b[49m\u001b[43m \u001b[49m\u001b[43mhdrs\u001b[49m\u001b[43m)\u001b[49m\n\u001b[1;32m    637\u001b[0m \u001b[38;5;28;01mreturn\u001b[39;00m response\n",
      "File \u001b[0;32m~/anaconda3/envs/sdss/lib/python3.10/urllib/request.py:563\u001b[0m, in \u001b[0;36mOpenerDirector.error\u001b[0;34m(self, proto, *args)\u001b[0m\n\u001b[1;32m    561\u001b[0m \u001b[38;5;28;01mif\u001b[39;00m http_err:\n\u001b[1;32m    562\u001b[0m     args \u001b[38;5;241m=\u001b[39m (\u001b[38;5;28mdict\u001b[39m, \u001b[38;5;124m'\u001b[39m\u001b[38;5;124mdefault\u001b[39m\u001b[38;5;124m'\u001b[39m, \u001b[38;5;124m'\u001b[39m\u001b[38;5;124mhttp_error_default\u001b[39m\u001b[38;5;124m'\u001b[39m) \u001b[38;5;241m+\u001b[39m orig_args\n\u001b[0;32m--> 563\u001b[0m     \u001b[38;5;28;01mreturn\u001b[39;00m \u001b[38;5;28;43mself\u001b[39;49m\u001b[38;5;241;43m.\u001b[39;49m\u001b[43m_call_chain\u001b[49m\u001b[43m(\u001b[49m\u001b[38;5;241;43m*\u001b[39;49m\u001b[43margs\u001b[49m\u001b[43m)\u001b[49m\n",
      "File \u001b[0;32m~/anaconda3/envs/sdss/lib/python3.10/urllib/request.py:496\u001b[0m, in \u001b[0;36mOpenerDirector._call_chain\u001b[0;34m(self, chain, kind, meth_name, *args)\u001b[0m\n\u001b[1;32m    494\u001b[0m \u001b[38;5;28;01mfor\u001b[39;00m handler \u001b[38;5;129;01min\u001b[39;00m handlers:\n\u001b[1;32m    495\u001b[0m     func \u001b[38;5;241m=\u001b[39m \u001b[38;5;28mgetattr\u001b[39m(handler, meth_name)\n\u001b[0;32m--> 496\u001b[0m     result \u001b[38;5;241m=\u001b[39m \u001b[43mfunc\u001b[49m\u001b[43m(\u001b[49m\u001b[38;5;241;43m*\u001b[39;49m\u001b[43margs\u001b[49m\u001b[43m)\u001b[49m\n\u001b[1;32m    497\u001b[0m     \u001b[38;5;28;01mif\u001b[39;00m result \u001b[38;5;129;01mis\u001b[39;00m \u001b[38;5;129;01mnot\u001b[39;00m \u001b[38;5;28;01mNone\u001b[39;00m:\n\u001b[1;32m    498\u001b[0m         \u001b[38;5;28;01mreturn\u001b[39;00m result\n",
      "File \u001b[0;32m~/anaconda3/envs/sdss/lib/python3.10/urllib/request.py:643\u001b[0m, in \u001b[0;36mHTTPDefaultErrorHandler.http_error_default\u001b[0;34m(self, req, fp, code, msg, hdrs)\u001b[0m\n\u001b[1;32m    642\u001b[0m \u001b[38;5;28;01mdef\u001b[39;00m \u001b[38;5;21mhttp_error_default\u001b[39m(\u001b[38;5;28mself\u001b[39m, req, fp, code, msg, hdrs):\n\u001b[0;32m--> 643\u001b[0m     \u001b[38;5;28;01mraise\u001b[39;00m HTTPError(req\u001b[38;5;241m.\u001b[39mfull_url, code, msg, hdrs, fp)\n",
      "\u001b[0;31mHTTPError\u001b[0m: HTTP Error 404: Not Found"
     ]
    }
   ],
   "source": [
    "for idx, row in nonbal_qso_samp_df.iloc[[0]].iterrows():\n",
    "    spec = fetch_sdss_spectrum(plate=row['PLATE'], mjd=row['MJD'], fiber=row['FIBERID'])\n",
    "    # spec = SDSS.query_specobj(plate=row['PLATE'], mjd=row['MJD'], fiberID=row['FIBERID'])"
   ]
  },
  {
   "cell_type": "code",
   "execution_count": null,
   "metadata": {},
   "outputs": [],
   "source": [
    "spec"
   ]
  },
  {
   "cell_type": "code",
   "execution_count": 1,
   "metadata": {},
   "outputs": [
    {
     "ename": "NameError",
     "evalue": "name 'nonbal_qso_samp_df' is not defined",
     "output_type": "error",
     "traceback": [
      "\u001b[0;31m---------------------------------------------------------------------------\u001b[0m",
      "\u001b[0;31mNameError\u001b[0m                                 Traceback (most recent call last)",
      "Input \u001b[0;32mIn [1]\u001b[0m, in \u001b[0;36m<cell line: 1>\u001b[0;34m()\u001b[0m\n\u001b[0;32m----> 1\u001b[0m \u001b[43mnonbal_qso_samp_df\u001b[49m\n",
      "\u001b[0;31mNameError\u001b[0m: name 'nonbal_qso_samp_df' is not defined"
     ]
    }
   ],
   "source": [
    "nonbal_qso_samp_df"
   ]
  },
  {
   "cell_type": "code",
   "execution_count": null,
   "metadata": {},
   "outputs": [],
   "source": []
  }
 ],
 "metadata": {
  "kernelspec": {
   "display_name": "sdss",
   "language": "python",
   "name": "python3"
  },
  "language_info": {
   "codemirror_mode": {
    "name": "ipython",
    "version": 3
   },
   "file_extension": ".py",
   "mimetype": "text/x-python",
   "name": "python",
   "nbconvert_exporter": "python",
   "pygments_lexer": "ipython3",
   "version": "3.10.6"
  }
 },
 "nbformat": 4,
 "nbformat_minor": 2
}
