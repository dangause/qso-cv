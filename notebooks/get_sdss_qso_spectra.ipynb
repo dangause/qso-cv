{
 "cells": [
  {
   "cell_type": "code",
   "execution_count": 3,
   "metadata": {},
   "outputs": [
    {
     "ename": "ModuleNotFoundError",
     "evalue": "No module named 'qsofunc'",
     "output_type": "error",
     "traceback": [
      "\u001b[0;31m---------------------------------------------------------------------------\u001b[0m",
      "\u001b[0;31mModuleNotFoundError\u001b[0m                       Traceback (most recent call last)",
      "Input \u001b[0;32mIn [3]\u001b[0m, in \u001b[0;36m<cell line: 19>\u001b[0;34m()\u001b[0m\n\u001b[1;32m     17\u001b[0m \u001b[38;5;28;01mfrom\u001b[39;00m \u001b[38;5;21;01mastropy\u001b[39;00m \u001b[38;5;28;01mimport\u001b[39;00m constants \u001b[38;5;28;01mas\u001b[39;00m const\n\u001b[1;32m     18\u001b[0m \u001b[38;5;28;01mimport\u001b[39;00m \u001b[38;5;21;01mpandas\u001b[39;00m \u001b[38;5;28;01mas\u001b[39;00m \u001b[38;5;21;01mpd\u001b[39;00m\n\u001b[0;32m---> 19\u001b[0m \u001b[38;5;28;01mfrom\u001b[39;00m \u001b[38;5;21;01mqsofunc\u001b[39;00m \u001b[38;5;28;01mimport\u001b[39;00m \u001b[38;5;241m*\u001b[39m\n\u001b[1;32m     20\u001b[0m \u001b[38;5;28;01mfrom\u001b[39;00m \u001b[38;5;21;01mmultiprocessing\u001b[39;00m \u001b[38;5;28;01mimport\u001b[39;00m Pool\n\u001b[1;32m     21\u001b[0m warnings\u001b[38;5;241m.\u001b[39mfilterwarnings(\u001b[38;5;124m\"\u001b[39m\u001b[38;5;124mignore\u001b[39m\u001b[38;5;124m\"\u001b[39m)\n",
      "\u001b[0;31mModuleNotFoundError\u001b[0m: No module named 'qsofunc'"
     ]
    }
   ],
   "source": [
    "import os,sys,time\n",
    "import matplotlib\n",
    "import numpy as np\n",
    "from astropy.io import fits\n",
    "import astroquery\n",
    "from astroquery.sdss import SDSS\n",
    "\n",
    "from astropy import coordinates as coords\n",
    "import astropy.units as u\n",
    "import astropy.coordinates as coord\n",
    "\n",
    "import matplotlib.pyplot as plt\n",
    "import warnings\n",
    "#from astropy.modeling.blackbody import blackbody_lambda\n",
    "from scipy import interpolate\n",
    "from scipy import integrate\n",
    "from astropy import constants as const\n",
    "import pandas as pd\n",
    "from qsofunc import *\n",
    "from multiprocessing import Pool\n",
    "warnings.filterwarnings(\"ignore\")\n",
    "from scipy.signal import medfilt\n",
    "from astropy.cosmology import FlatLambdaCDM\n",
    "cosmo = FlatLambdaCDM(H0=70, Om0=0.3)\n",
    "from matplotlib.ticker import (MultipleLocator, FormatStrFormatter,\n",
    "                               AutoMinorLocator)\n",
    "from matplotlib import rc"
   ]
  },
  {
   "cell_type": "code",
   "execution_count": null,
   "metadata": {},
   "outputs": [],
   "source": [
    "obj_plate, obj_mjd, obj_fiber = 5808, 56325, 560             # input the objID\n",
    "op_filename = 'op-%04d'%obj_plate+'-%5d'%obj_mjd+'-%04d'%obj_fiber"
   ]
  },
  {
   "cell_type": "markdown",
   "metadata": {},
   "source": [
    "## We will get a dataset of 8000 nonbal qsos from SDSS DR12 with redshifts of 1.57 < z < 5.56"
   ]
  },
  {
   "cell_type": "code",
   "execution_count": 14,
   "metadata": {},
   "outputs": [
    {
     "name": "stdout",
     "output_type": "stream",
     "text": [
      "specObc_count\n",
      "-------------\n",
      "       312898\n"
     ]
    }
   ],
   "source": [
    "query = \"\"\"\n",
    "SELECT COUNT(*) as specObc_count FROM specObj \n",
    "where class='qso' and zWarning = 0 and z>1.57 and z<5.56\n",
    "\"\"\"\n",
    "res = SDSS.query_sql(query)\n",
    "print(res)"
   ]
  },
  {
   "cell_type": "code",
   "execution_count": 63,
   "metadata": {},
   "outputs": [
    {
     "name": "stdout",
     "output_type": "stream",
     "text": [
      "      specObjID               ra            dec      subclass\n",
      "---------------------- ---------------- ----------- ---------\n",
      " 3.390000832677417e+17        209.09708  0.74089106 BROADLINE\n",
      "3.3900475619215974e+17        208.81091    0.199279 BROADLINE\n",
      " 3.390080547270431e+17        209.34074   0.9170136 BROADLINE\n",
      "3.3900915423867085e+17        209.42855  0.83998045 BROADLINE\n",
      " 3.390259217909944e+17        209.32101  0.12641692 BROADLINE\n",
      "    3.390380164189e+17        209.92328  0.14773296 BROADLINE\n",
      "3.3905285982587494e+17        210.30014   0.6331453 BROADLINE\n",
      " 3.390556086049444e+17        210.72191  0.48923804 BROADLINE\n",
      " 3.390605564072694e+17        210.61338  0.31879806 BROADLINE\n",
      " 3.400281223782994e+17        213.07776 -0.54001686 BROADLINE\n",
      "                   ...              ...         ...       ...\n",
      " 9.846086618561094e+18 3.92462669999998   3.3070376 BROADLINE\n",
      " 9.846087168316908e+18        3.9547986   3.1827488 BROADLINE\n",
      "  9.84608881758435e+18 3.95724790000003   3.6229563          \n",
      " 9.846089917095977e+18 3.97597029999997   3.5648028 BROADLINE\n",
      "  9.84609046685179e+18 3.79782799999998   3.4269707 BROADLINE\n",
      " 9.846090741729698e+18         3.769453     3.58616 BROADLINE\n",
      " 9.846091841241326e+18 3.91008290000002   3.8108155 BROADLINE\n",
      "  9.84609321563086e+18 3.85621520000001   3.6510266 BROADLINE\n",
      " 9.846094315142488e+18        3.6364092   3.1245789          \n",
      "  9.84609678904365e+18 3.73238850000001   3.3182383          \n",
      " 9.846097338799464e+18 3.80034119999999   3.3790376 BROADLINE\n",
      "Length = 312898 rows\n"
     ]
    }
   ],
   "source": [
    "query = \"\"\"\n",
    "SELECT specObjID, ra, dec, subclass FROM specObj \n",
    "where class='qso' and zWarning = 0 and z>1.57 and z<5.56\n",
    "\"\"\"\n",
    "res = SDSS.query_sql(query)\n",
    "print(res)"
   ]
  },
  {
   "cell_type": "code",
   "execution_count": 64,
   "metadata": {},
   "outputs": [],
   "source": [
    "qso_df = res.to_pandas()"
   ]
  },
  {
   "cell_type": "code",
   "execution_count": 66,
   "metadata": {},
   "outputs": [
    {
     "data": {
      "text/plain": [
       "0         3.390001e+17\n",
       "1         3.390048e+17\n",
       "2         3.390081e+17\n",
       "3         3.390092e+17\n",
       "4         3.390259e+17\n",
       "              ...     \n",
       "312893    9.846092e+18\n",
       "312894    9.846093e+18\n",
       "312895    9.846094e+18\n",
       "312896    9.846097e+18\n",
       "312897    9.846097e+18\n",
       "Name: specObjID, Length: 312898, dtype: float64"
      ]
     },
     "execution_count": 66,
     "metadata": {},
     "output_type": "execute_result"
    }
   ],
   "source": [
    "qso_df.specObjID"
   ]
  },
  {
   "cell_type": "code",
   "execution_count": null,
   "metadata": {},
   "outputs": [],
   "source": []
  }
 ],
 "metadata": {
  "kernelspec": {
   "display_name": "sdss",
   "language": "python",
   "name": "python3"
  },
  "language_info": {
   "codemirror_mode": {
    "name": "ipython",
    "version": 3
   },
   "file_extension": ".py",
   "mimetype": "text/x-python",
   "name": "python",
   "nbconvert_exporter": "python",
   "pygments_lexer": "ipython3",
   "version": "3.10.6"
  }
 },
 "nbformat": 4,
 "nbformat_minor": 2
}
